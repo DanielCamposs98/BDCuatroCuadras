{
    "metadata": {
        "kernelspec": {
            "name": "SQL",
            "display_name": "SQL",
            "language": "sql"
        },
        "language_info": {
            "name": "sql",
            "version": ""
        }
    },
    "nbformat_minor": 2,
    "nbformat": 4,
    "cells": [
        {
            "cell_type": "markdown",
            "source": [
                "# Cuatro Cuadras #\r\n",
                "## VISTAS##"
            ],
            "metadata": {
                "azdata_cell_guid": "09e93898-e49f-4db3-a7d2-1b7b55a5c0b7"
            }
        },
        {
            "cell_type": "code",
            "source": [
                "USE CuatroCuadras"
            ],
            "metadata": {
                "azdata_cell_guid": "58270653-200b-4590-824e-309da5b4152a"
            },
            "outputs": [
                {
                    "output_type": "display_data",
                    "data": {
                        "text/html": "Commands completed successfully."
                    },
                    "metadata": {}
                },
                {
                    "output_type": "display_data",
                    "data": {
                        "text/html": "Total execution time: 00:00:00.393"
                    },
                    "metadata": {}
                }
            ],
            "execution_count": 1
        },
        {
            "cell_type": "markdown",
            "source": [
                "## 1\r\n",
                "Vista que muestra los datos que los usuarios visualizaran sobre los otros usuarios"
            ],
            "metadata": {
                "azdata_cell_guid": "ed7186e8-e1f1-45d3-b738-d20f530a62fb"
            }
        },
        {
            "cell_type": "code",
            "source": [
                "CREATE VIEW DatosBasicosUsuario\r\n",
                "    WITH ENCRYPTION\r\n",
                "AS\r\n",
                "    SELECT Nickname, CONCAT(Nombre, ' ' ,Apellidos) as [Nombre Completo], Sexo, DATEDIFF(yy, Fecha_Nacimiento, GETDATE()) as Edad, Ciudad FROM USUARIO U\r\n",
                "    INNER JOIN CIUDAD C \r\n",
                "    ON U.ID_Ciudad=C.ID_Ciudad "
            ],
            "metadata": {
                "azdata_cell_guid": "34445761-97e2-433e-a066-751f6a40b155"
            },
            "outputs": [
                {
                    "output_type": "display_data",
                    "data": {
                        "text/html": "Commands completed successfully."
                    },
                    "metadata": {}
                },
                {
                    "output_type": "display_data",
                    "data": {
                        "text/html": "Total execution time: 00:00:00.531"
                    },
                    "metadata": {}
                }
            ],
            "execution_count": 2
        },
        {
            "cell_type": "code",
            "source": [
                "SELECT * FROM DatosBasicosUsuario"
            ],
            "metadata": {
                "azdata_cell_guid": "fa4d47e7-2651-479a-91cb-6b200e064ee2"
            },
            "outputs": [
                {
                    "output_type": "display_data",
                    "data": {
                        "text/html": "(17 rows affected)"
                    },
                    "metadata": {}
                },
                {
                    "output_type": "display_data",
                    "data": {
                        "text/html": "Total execution time: 00:00:02.268"
                    },
                    "metadata": {}
                },
                {
                    "output_type": "execute_result",
                    "metadata": {},
                    "execution_count": 3,
                    "data": {
                        "application/vnd.dataresource+json": {
                            "schema": {
                                "fields": [
                                    {
                                        "name": "Nickname"
                                    },
                                    {
                                        "name": "Nombre Completo"
                                    },
                                    {
                                        "name": "Sexo"
                                    },
                                    {
                                        "name": "Edad"
                                    },
                                    {
                                        "name": "Ciudad"
                                    }
                                ]
                            },
                            "data": [
                                {
                                    "0": "AlizV5",
                                    "1": "Alicia Valenzuela Navarro",
                                    "2": "F",
                                    "3": "43",
                                    "4": "Guadalajara"
                                },
                                {
                                    "0": "AnaALV",
                                    "1": "Ana Maria Alvarez Castelo",
                                    "2": "F",
                                    "3": "28",
                                    "4": "Guadalajara"
                                },
                                {
                                    "0": "Angel224",
                                    "1": "Angel Torres Gomez",
                                    "2": "M",
                                    "3": "26",
                                    "4": "Guasave"
                                },
                                {
                                    "0": "Coronavirus",
                                    "1": "Angel Gomez Bravo",
                                    "2": "M",
                                    "3": "42",
                                    "4": "Guadalajara"
                                },
                                {
                                    "0": "CuentaFeik",
                                    "1": "Jose Luis Sanchez Rodriguez",
                                    "2": "M",
                                    "3": "32",
                                    "4": "Mazatlán"
                                },
                                {
                                    "0": "Diana129",
                                    "1": "Diana Aispuro Angulo",
                                    "2": "F",
                                    "3": "28",
                                    "4": "Navolato"
                                },
                                {
                                    "0": "Emilian99",
                                    "1": "Emiliano Paez Lopez",
                                    "2": "M",
                                    "3": "23",
                                    "4": "Navolato"
                                },
                                {
                                    "0": "GabiLuna",
                                    "1": "Gabriela Luna Sanchez",
                                    "2": "F",
                                    "3": "22",
                                    "4": "Culiacán"
                                },
                                {
                                    "0": "JoseCarl",
                                    "1": "Jose Carlos Ventura Gararte",
                                    "2": "M",
                                    "3": "55",
                                    "4": "Culiacán"
                                },
                                {
                                    "0": "Luiz",
                                    "1": "Luis Lopez Lopez",
                                    "2": "M",
                                    "3": "22",
                                    "4": "Culiacán"
                                },
                                {
                                    "0": "Mari",
                                    "1": "Maria Elena Perez Sarrion",
                                    "2": "F",
                                    "3": "38",
                                    "4": "Tijuana"
                                },
                                {
                                    "0": "MenitaXD98",
                                    "1": "Ximena Castro Yepez",
                                    "2": "F",
                                    "3": "21",
                                    "4": "Guasave"
                                },
                                {
                                    "0": "MigueMF",
                                    "1": "Miguel Mendoza Fernandez",
                                    "2": "M",
                                    "3": "24",
                                    "4": "Mazatlán"
                                },
                                {
                                    "0": "Panchogo94",
                                    "1": "Francisco Moreno Lopez",
                                    "2": "M",
                                    "3": "23",
                                    "4": "Culiacán"
                                },
                                {
                                    "0": "RamLop99",
                                    "1": "Ramon Lopez Perez",
                                    "2": "M",
                                    "3": "49",
                                    "4": "Tijuana"
                                },
                                {
                                    "0": "SandCast",
                                    "1": "Sandra Flores Castilla",
                                    "2": "F",
                                    "3": "46",
                                    "4": "Los Mochis"
                                },
                                {
                                    "0": "XxXGokuXxX",
                                    "1": "Juan Perez Perez",
                                    "2": "M",
                                    "3": "24",
                                    "4": "Los Mochis"
                                }
                            ]
                        },
                        "text/html": "<table><tr><th>Nickname</th><th>Nombre Completo</th><th>Sexo</th><th>Edad</th><th>Ciudad</th></tr><tr><td>AlizV5</td><td>Alicia Valenzuela Navarro</td><td>F</td><td>43</td><td>Guadalajara</td></tr><tr><td>AnaALV</td><td>Ana Maria Alvarez Castelo</td><td>F</td><td>28</td><td>Guadalajara</td></tr><tr><td>Angel224</td><td>Angel Torres Gomez</td><td>M</td><td>26</td><td>Guasave</td></tr><tr><td>Coronavirus</td><td>Angel Gomez Bravo</td><td>M</td><td>42</td><td>Guadalajara</td></tr><tr><td>CuentaFeik</td><td>Jose Luis Sanchez Rodriguez</td><td>M</td><td>32</td><td>Mazatlán</td></tr><tr><td>Diana129</td><td>Diana Aispuro Angulo</td><td>F</td><td>28</td><td>Navolato</td></tr><tr><td>Emilian99</td><td>Emiliano Paez Lopez</td><td>M</td><td>23</td><td>Navolato</td></tr><tr><td>GabiLuna</td><td>Gabriela Luna Sanchez</td><td>F</td><td>22</td><td>Culiacán</td></tr><tr><td>JoseCarl</td><td>Jose Carlos Ventura Gararte</td><td>M</td><td>55</td><td>Culiacán</td></tr><tr><td>Luiz</td><td>Luis Lopez Lopez</td><td>M</td><td>22</td><td>Culiacán</td></tr><tr><td>Mari</td><td>Maria Elena Perez Sarrion</td><td>F</td><td>38</td><td>Tijuana</td></tr><tr><td>MenitaXD98</td><td>Ximena Castro Yepez</td><td>F</td><td>21</td><td>Guasave</td></tr><tr><td>MigueMF</td><td>Miguel Mendoza Fernandez</td><td>M</td><td>24</td><td>Mazatlán</td></tr><tr><td>Panchogo94</td><td>Francisco Moreno Lopez</td><td>M</td><td>23</td><td>Culiacán</td></tr><tr><td>RamLop99</td><td>Ramon Lopez Perez</td><td>M</td><td>49</td><td>Tijuana</td></tr><tr><td>SandCast</td><td>Sandra Flores Castilla</td><td>F</td><td>46</td><td>Los Mochis</td></tr><tr><td>XxXGokuXxX</td><td>Juan Perez Perez</td><td>M</td><td>24</td><td>Los Mochis</td></tr></table>"
                    }
                }
            ],
            "execution_count": 3
        },
        {
            "cell_type": "markdown",
            "source": [
                "## 2\n",
                "Vista que muestra los datos de interes para los usuarios acerca de los lugares a visitar"
            ],
            "metadata": {
                "azdata_cell_guid": "d92799b1-c635-4bc6-b20c-ac4b70c766e4"
            }
        },
        {
            "cell_type": "code",
            "source": [
                "CREATE VIEW DatosBasicosLugares\r\n",
                "    AS\r\n",
                "    SELECT L.Nombre, L.Descripcion, Ciudad, Nombre_eti as Etiqueta, Cat.Descripcion as Categoria FROM LUGAR L \r\n",
                "    INNER JOIN CIUDAD C \r\n",
                "    ON L.ID_Ciudad=C.ID_Ciudad \r\n",
                "    INNER JOIN ETIQUETA E \r\n",
                "    ON L.ID_Etiqueta=E.ID_Etiqueta\r\n",
                "    INNER JOIN CATEGORIA Cat \r\n",
                "    ON L.ID_Categoria=Cat.ID_Categoria"
            ],
            "metadata": {
                "azdata_cell_guid": "868dc6f5-dec2-4432-8b2a-b6d7b23942eb"
            },
            "outputs": [
                {
                    "output_type": "display_data",
                    "data": {
                        "text/html": "Commands completed successfully."
                    },
                    "metadata": {}
                },
                {
                    "output_type": "display_data",
                    "data": {
                        "text/html": "Total execution time: 00:00:00.618"
                    },
                    "metadata": {}
                }
            ],
            "execution_count": 4
        },
        {
            "cell_type": "code",
            "source": [
                "SELECT * FROM DatosBasicosLugares"
            ],
            "metadata": {
                "azdata_cell_guid": "4f892205-363e-4ff9-956a-06c70c275682"
            },
            "outputs": [
                {
                    "output_type": "display_data",
                    "data": {
                        "text/html": "(21 rows affected)"
                    },
                    "metadata": {}
                },
                {
                    "output_type": "display_data",
                    "data": {
                        "text/html": "Total execution time: 00:00:00.656"
                    },
                    "metadata": {}
                },
                {
                    "output_type": "execute_result",
                    "metadata": {},
                    "execution_count": 5,
                    "data": {
                        "application/vnd.dataresource+json": {
                            "schema": {
                                "fields": [
                                    {
                                        "name": "Nombre"
                                    },
                                    {
                                        "name": "Descripcion"
                                    },
                                    {
                                        "name": "Ciudad"
                                    },
                                    {
                                        "name": "Etiqueta"
                                    },
                                    {
                                        "name": "Categoria"
                                    }
                                ]
                            },
                            "data": [
                                {
                                    "0": "Estadio Tomateros",
                                    "1": "Estadio de Beisbol",
                                    "2": "Culiacán",
                                    "3": "Beisbol",
                                    "4": "Estadios"
                                },
                                {
                                    "0": "Sams Club 3 Rios",
                                    "1": "Tienda de Mayoreo",
                                    "2": "Culiacán",
                                    "3": "Comida",
                                    "4": "Supermercados"
                                },
                                {
                                    "0": "Fühler",
                                    "1": "Centro de Ocio",
                                    "2": "Culiacán",
                                    "3": "Música",
                                    "4": "Karaoke Bar"
                                },
                                {
                                    "0": "Taipak MonteCarlo",
                                    "1": "Restaurante de Comida Asiatica",
                                    "2": "Culiacán",
                                    "3": "Comida",
                                    "4": "Restaurantes"
                                },
                                {
                                    "0": "Estadio Teodoro Mariscal",
                                    "1": "Estadio de Beisbol",
                                    "2": "Mazatlán",
                                    "3": "Beisbol",
                                    "4": "Estadios"
                                },
                                {
                                    "0": "Soriana Hiper",
                                    "1": "Supermercado",
                                    "2": "Mazatlán",
                                    "3": "Dinero",
                                    "4": "Supermercados"
                                },
                                {
                                    "0": "KFC Insurgentes",
                                    "1": "Restaurante de Pollo Frito",
                                    "2": "Mazatlán",
                                    "3": "Nuggets",
                                    "4": "Restaurantes"
                                },
                                {
                                    "0": "Panamá Insurgentes",
                                    "1": "Restaurante Regional",
                                    "2": "Mazatlán",
                                    "3": "Comida",
                                    "4": "Restaurantes"
                                },
                                {
                                    "0": "Pemex",
                                    "1": "Gasolineria",
                                    "2": "Mazatlán",
                                    "3": "Vestidos",
                                    "4": "Gasolinerias"
                                },
                                {
                                    "0": "Farmacia Guadalajara",
                                    "1": "Super-Farmacia",
                                    "2": "Los Mochis",
                                    "3": "Paracetamol",
                                    "4": "Farmacias"
                                },
                                {
                                    "0": "Parque Sinaloa",
                                    "1": "Parque Familiar",
                                    "2": "Los Mochis",
                                    "3": "Jardin Botanico",
                                    "4": "Parques"
                                },
                                {
                                    "0": "Ley Primavera",
                                    "1": "Supermercado Regional",
                                    "2": "Navolato",
                                    "3": "Hogar",
                                    "4": "Supermercados"
                                },
                                {
                                    "0": "USE Navolato",
                                    "1": "Oficinas de Gobierno",
                                    "2": "Navolato",
                                    "3": "Gobierno",
                                    "4": "Oficinas"
                                },
                                {
                                    "0": "Cinemex Navolato",
                                    "1": "Sucursal de Cine",
                                    "2": "Navolato",
                                    "3": "Photoboot",
                                    "4": "Cines"
                                },
                                {
                                    "0": "Banbajío",
                                    "1": "Sucursal Bancaria",
                                    "2": "Guasave",
                                    "3": "Dinero",
                                    "4": "Bancos"
                                },
                                {
                                    "0": "MUSIK",
                                    "1": "Tienda de Musica",
                                    "2": "Guadalajara",
                                    "3": "Guitarra",
                                    "4": "Tienda de Musica"
                                },
                                {
                                    "0": "Zona de Vestir Medrano",
                                    "1": "Tienda de Ropa",
                                    "2": "Guadalajara",
                                    "3": "Playeras",
                                    "4": "Tienda de Ropa"
                                },
                                {
                                    "0": "Aeropuerto Internacional de Tijuana",
                                    "1": "Aeropuerto Internacional",
                                    "2": "Tijuana",
                                    "3": "Vuelos",
                                    "4": "Aeropuertos"
                                },
                                {
                                    "0": "Hospital Ángeles",
                                    "1": "Hospital Privado",
                                    "2": "Tijuana",
                                    "3": "Fitness",
                                    "4": "Hospitales"
                                },
                                {
                                    "0": "Sears Plaza Rio",
                                    "1": "Tienda Departamental",
                                    "2": "Tijuana",
                                    "3": "Peliculas",
                                    "4": "Tienda Departamental"
                                },
                                {
                                    "0": "The Barber Shop",
                                    "1": "Barberia Profesional",
                                    "2": "Tijuana",
                                    "3": "Flat-Top",
                                    "4": "Peluquerias"
                                }
                            ]
                        },
                        "text/html": "<table><tr><th>Nombre</th><th>Descripcion</th><th>Ciudad</th><th>Etiqueta</th><th>Categoria</th></tr><tr><td>Estadio Tomateros</td><td>Estadio de Beisbol</td><td>Culiacán</td><td>Beisbol</td><td>Estadios</td></tr><tr><td>Sams Club 3 Rios</td><td>Tienda de Mayoreo</td><td>Culiacán</td><td>Comida</td><td>Supermercados</td></tr><tr><td>Fühler</td><td>Centro de Ocio</td><td>Culiacán</td><td>Música</td><td>Karaoke Bar</td></tr><tr><td>Taipak MonteCarlo</td><td>Restaurante de Comida Asiatica</td><td>Culiacán</td><td>Comida</td><td>Restaurantes</td></tr><tr><td>Estadio Teodoro Mariscal</td><td>Estadio de Beisbol</td><td>Mazatlán</td><td>Beisbol</td><td>Estadios</td></tr><tr><td>Soriana Hiper</td><td>Supermercado</td><td>Mazatlán</td><td>Dinero</td><td>Supermercados</td></tr><tr><td>KFC Insurgentes</td><td>Restaurante de Pollo Frito</td><td>Mazatlán</td><td>Nuggets</td><td>Restaurantes</td></tr><tr><td>Panamá Insurgentes</td><td>Restaurante Regional</td><td>Mazatlán</td><td>Comida</td><td>Restaurantes</td></tr><tr><td>Pemex</td><td>Gasolineria</td><td>Mazatlán</td><td>Vestidos</td><td>Gasolinerias</td></tr><tr><td>Farmacia Guadalajara</td><td>Super-Farmacia</td><td>Los Mochis</td><td>Paracetamol</td><td>Farmacias</td></tr><tr><td>Parque Sinaloa</td><td>Parque Familiar</td><td>Los Mochis</td><td>Jardin Botanico</td><td>Parques</td></tr><tr><td>Ley Primavera</td><td>Supermercado Regional</td><td>Navolato</td><td>Hogar</td><td>Supermercados</td></tr><tr><td>USE Navolato</td><td>Oficinas de Gobierno</td><td>Navolato</td><td>Gobierno</td><td>Oficinas</td></tr><tr><td>Cinemex Navolato</td><td>Sucursal de Cine</td><td>Navolato</td><td>Photoboot</td><td>Cines</td></tr><tr><td>Banbajío</td><td>Sucursal Bancaria</td><td>Guasave</td><td>Dinero</td><td>Bancos</td></tr><tr><td>MUSIK</td><td>Tienda de Musica</td><td>Guadalajara</td><td>Guitarra</td><td>Tienda de Musica</td></tr><tr><td>Zona de Vestir Medrano</td><td>Tienda de Ropa</td><td>Guadalajara</td><td>Playeras</td><td>Tienda de Ropa</td></tr><tr><td>Aeropuerto Internacional de Tijuana</td><td>Aeropuerto Internacional</td><td>Tijuana</td><td>Vuelos</td><td>Aeropuertos</td></tr><tr><td>Hospital Ángeles</td><td>Hospital Privado</td><td>Tijuana</td><td>Fitness</td><td>Hospitales</td></tr><tr><td>Sears Plaza Rio</td><td>Tienda Departamental</td><td>Tijuana</td><td>Peliculas</td><td>Tienda Departamental</td></tr><tr><td>The Barber Shop</td><td>Barberia Profesional</td><td>Tijuana</td><td>Flat-Top</td><td>Peluquerias</td></tr></table>"
                    }
                }
            ],
            "execution_count": 5
        },
        {
            "cell_type": "markdown",
            "source": [
                "## 3\r\n",
                "Vista del registro de las visitas de los lugares por mes y año"
            ],
            "metadata": {
                "azdata_cell_guid": "9eccb9f6-8bd9-4818-bd15-7bb52a2c7a11"
            }
        },
        {
            "cell_type": "code",
            "source": [
                "CREATE VIEW VisitasMensuales\r\n",
                "AS\r\n",
                "SELECT L.Nombre, COUNT(*) as Visitas,\r\n",
                "CASE\r\n",
                "    WHEN MONTH(Fecha)=1 THEN 'Enero'\r\n",
                "    WHEN MONTH(Fecha)=2 THEN 'Febrero'\r\n",
                "    WHEN MONTH(Fecha)=3 THEN 'Marzo'\r\n",
                "    WHEN MONTH(Fecha)=4 THEN 'Abril'\r\n",
                "    WHEN MONTH(Fecha)=5 THEN 'Mayo'\r\n",
                "    WHEN MONTH(Fecha)=6 THEN 'Junio'\r\n",
                "    WHEN MONTH(Fecha)=7 THEN 'Julio'\r\n",
                "    WHEN MONTH(Fecha)=8 THEN 'Agosto'\r\n",
                "    WHEN MONTH(Fecha)=9 THEN 'Septiembre'\r\n",
                "    WHEN MONTH(Fecha)=10 THEN 'Octubre'\r\n",
                "    WHEN MONTH(Fecha)=11 THEN 'Noviembre'\r\n",
                "    WHEN MONTH(Fecha)=12 THEN 'Diciembre'\r\n",
                "END AS Mes, Year(Fecha) as Año\r\n",
                "FROM Visita V\r\n",
                "INNER JOIN Lugar L ON V.ID_Lugar=L.ID_Lugar\r\n",
                "GROUP BY L.Nombre, Fecha"
            ],
            "metadata": {
                "azdata_cell_guid": "cf23ef55-0951-47c4-9d94-829d63881174"
            },
            "outputs": [
                {
                    "output_type": "display_data",
                    "data": {
                        "text/html": "Commands completed successfully."
                    },
                    "metadata": {}
                },
                {
                    "output_type": "display_data",
                    "data": {
                        "text/html": "Total execution time: 00:00:00.320"
                    },
                    "metadata": {}
                }
            ],
            "execution_count": 6
        },
        {
            "cell_type": "code",
            "source": [
                "SELECT * FROM VisitasMensuales"
            ],
            "metadata": {
                "azdata_cell_guid": "e1bb9bec-6c11-48b8-b764-dbc423e70992"
            },
            "outputs": [
                {
                    "output_type": "display_data",
                    "data": {
                        "text/html": "(67 rows affected)"
                    },
                    "metadata": {}
                },
                {
                    "output_type": "display_data",
                    "data": {
                        "text/html": "Total execution time: 00:00:00.625"
                    },
                    "metadata": {}
                },
                {
                    "output_type": "execute_result",
                    "metadata": {},
                    "execution_count": 7,
                    "data": {
                        "application/vnd.dataresource+json": {
                            "schema": {
                                "fields": [
                                    {
                                        "name": "Nombre"
                                    },
                                    {
                                        "name": "Visitas"
                                    },
                                    {
                                        "name": "Mes"
                                    },
                                    {
                                        "name": "Año"
                                    }
                                ]
                            },
                            "data": [
                                {
                                    "0": "Pemex",
                                    "1": "1",
                                    "2": "Marzo",
                                    "3": "2010"
                                },
                                {
                                    "0": "Taipak MonteCarlo",
                                    "1": "1",
                                    "2": "Febrero",
                                    "3": "2018"
                                },
                                {
                                    "0": "Fühler",
                                    "1": "1",
                                    "2": "Febrero",
                                    "3": "2018"
                                },
                                {
                                    "0": "Parque Sinaloa",
                                    "1": "2",
                                    "2": "Marzo",
                                    "3": "2018"
                                },
                                {
                                    "0": "Zona de Vestir Medrano",
                                    "1": "1",
                                    "2": "Marzo",
                                    "3": "2018"
                                },
                                {
                                    "0": "Pemex",
                                    "1": "1",
                                    "2": "Marzo",
                                    "3": "2018"
                                },
                                {
                                    "0": "Sams Club 3 Rios",
                                    "1": "1",
                                    "2": "Marzo",
                                    "3": "2018"
                                },
                                {
                                    "0": "Estadio Teodoro Mariscal",
                                    "1": "2",
                                    "2": "Abril",
                                    "3": "2018"
                                },
                                {
                                    "0": "Hospital Ángeles",
                                    "1": "1",
                                    "2": "Abril",
                                    "3": "2018"
                                },
                                {
                                    "0": "Estadio Tomateros",
                                    "1": "1",
                                    "2": "Abril",
                                    "3": "2018"
                                },
                                {
                                    "0": "Ley Primavera",
                                    "1": "1",
                                    "2": "Mayo",
                                    "3": "2018"
                                },
                                {
                                    "0": "Aeropuerto Internacional de Tijuana",
                                    "1": "1",
                                    "2": "Junio",
                                    "3": "2018"
                                },
                                {
                                    "0": "Taipak MonteCarlo",
                                    "1": "1",
                                    "2": "Julio",
                                    "3": "2018"
                                },
                                {
                                    "0": "Ley Primavera",
                                    "1": "1",
                                    "2": "Julio",
                                    "3": "2018"
                                },
                                {
                                    "0": "Taipak MonteCarlo",
                                    "1": "1",
                                    "2": "Julio",
                                    "3": "2018"
                                },
                                {
                                    "0": "KFC Insurgentes",
                                    "1": "1",
                                    "2": "Septiembre",
                                    "3": "2018"
                                },
                                {
                                    "0": "MUSIK",
                                    "1": "1",
                                    "2": "Septiembre",
                                    "3": "2018"
                                },
                                {
                                    "0": "Farmacia Guadalajara",
                                    "1": "1",
                                    "2": "Octubre",
                                    "3": "2018"
                                },
                                {
                                    "0": "Pemex",
                                    "1": "1",
                                    "2": "Noviembre",
                                    "3": "2018"
                                },
                                {
                                    "0": "Hospital Ángeles",
                                    "1": "1",
                                    "2": "Noviembre",
                                    "3": "2018"
                                },
                                {
                                    "0": "Parque Sinaloa",
                                    "1": "1",
                                    "2": "Noviembre",
                                    "3": "2018"
                                },
                                {
                                    "0": "Parque Sinaloa",
                                    "1": "1",
                                    "2": "Enero",
                                    "3": "2019"
                                },
                                {
                                    "0": "Estadio Teodoro Mariscal",
                                    "1": "1",
                                    "2": "Enero",
                                    "3": "2019"
                                },
                                {
                                    "0": "USE Navolato",
                                    "1": "1",
                                    "2": "Enero",
                                    "3": "2019"
                                },
                                {
                                    "0": "Cinemex Navolato",
                                    "1": "1",
                                    "2": "Febrero",
                                    "3": "2019"
                                },
                                {
                                    "0": "The Barber Shop",
                                    "1": "1",
                                    "2": "Marzo",
                                    "3": "2019"
                                },
                                {
                                    "0": "Aeropuerto Internacional de Tijuana",
                                    "1": "1",
                                    "2": "Marzo",
                                    "3": "2019"
                                },
                                {
                                    "0": "Estadio Teodoro Mariscal",
                                    "1": "1",
                                    "2": "Marzo",
                                    "3": "2019"
                                },
                                {
                                    "0": "Sears Plaza Rio",
                                    "1": "1",
                                    "2": "Abril",
                                    "3": "2019"
                                },
                                {
                                    "0": "MUSIK",
                                    "1": "1",
                                    "2": "Abril",
                                    "3": "2019"
                                },
                                {
                                    "0": "Pemex",
                                    "1": "1",
                                    "2": "Abril",
                                    "3": "2019"
                                },
                                {
                                    "0": "Cinemex Navolato",
                                    "1": "1",
                                    "2": "Abril",
                                    "3": "2019"
                                },
                                {
                                    "0": "Taipak MonteCarlo",
                                    "1": "1",
                                    "2": "Abril",
                                    "3": "2019"
                                },
                                {
                                    "0": "Sams Club 3 Rios",
                                    "1": "1",
                                    "2": "Mayo",
                                    "3": "2019"
                                },
                                {
                                    "0": "Estadio Teodoro Mariscal",
                                    "1": "1",
                                    "2": "Mayo",
                                    "3": "2019"
                                },
                                {
                                    "0": "Soriana Hiper",
                                    "1": "1",
                                    "2": "Mayo",
                                    "3": "2019"
                                },
                                {
                                    "0": "MUSIK",
                                    "1": "1",
                                    "2": "Mayo",
                                    "3": "2019"
                                },
                                {
                                    "0": "Panamá Insurgentes",
                                    "1": "1",
                                    "2": "Julio",
                                    "3": "2019"
                                },
                                {
                                    "0": "Aeropuerto Internacional de Tijuana",
                                    "1": "1",
                                    "2": "Agosto",
                                    "3": "2019"
                                },
                                {
                                    "0": "Farmacia Guadalajara",
                                    "1": "1",
                                    "2": "Septiembre",
                                    "3": "2019"
                                },
                                {
                                    "0": "Farmacia Guadalajara",
                                    "1": "2",
                                    "2": "Septiembre",
                                    "3": "2019"
                                },
                                {
                                    "0": "Banbajío",
                                    "1": "1",
                                    "2": "Septiembre",
                                    "3": "2019"
                                },
                                {
                                    "0": "Soriana Hiper",
                                    "1": "1",
                                    "2": "Septiembre",
                                    "3": "2019"
                                },
                                {
                                    "0": "The Barber Shop",
                                    "1": "1",
                                    "2": "Septiembre",
                                    "3": "2019"
                                },
                                {
                                    "0": "Estadio Tomateros",
                                    "1": "1",
                                    "2": "Octubre",
                                    "3": "2019"
                                },
                                {
                                    "0": "Sears Plaza Rio",
                                    "1": "1",
                                    "2": "Octubre",
                                    "3": "2019"
                                },
                                {
                                    "0": "USE Navolato",
                                    "1": "1",
                                    "2": "Octubre",
                                    "3": "2019"
                                },
                                {
                                    "0": "USE Navolato",
                                    "1": "1",
                                    "2": "Octubre",
                                    "3": "2019"
                                },
                                {
                                    "0": "Ley Primavera",
                                    "1": "1",
                                    "2": "Octubre",
                                    "3": "2019"
                                },
                                {
                                    "0": "MUSIK",
                                    "1": "1",
                                    "2": "Noviembre",
                                    "3": "2019"
                                },
                                {
                                    "0": "Fühler",
                                    "1": "1",
                                    "2": "Noviembre",
                                    "3": "2019"
                                },
                                {
                                    "0": "Taipak MonteCarlo",
                                    "1": "1",
                                    "2": "Noviembre",
                                    "3": "2019"
                                },
                                {
                                    "0": "Ley Primavera",
                                    "1": "1",
                                    "2": "Noviembre",
                                    "3": "2019"
                                },
                                {
                                    "0": "Pemex",
                                    "1": "1",
                                    "2": "Diciembre",
                                    "3": "2019"
                                },
                                {
                                    "0": "Sams Club 3 Rios",
                                    "1": "1",
                                    "2": "Diciembre",
                                    "3": "2019"
                                },
                                {
                                    "0": "Sams Club 3 Rios",
                                    "1": "1",
                                    "2": "Diciembre",
                                    "3": "2019"
                                },
                                {
                                    "0": "Zona de Vestir Medrano",
                                    "1": "1",
                                    "2": "Enero",
                                    "3": "2020"
                                },
                                {
                                    "0": "Farmacia Guadalajara",
                                    "1": "1",
                                    "2": "Enero",
                                    "3": "2020"
                                },
                                {
                                    "0": "MUSIK",
                                    "1": "1",
                                    "2": "Enero",
                                    "3": "2020"
                                },
                                {
                                    "0": "USE Navolato",
                                    "1": "1",
                                    "2": "Febrero",
                                    "3": "2020"
                                },
                                {
                                    "0": "Panamá Insurgentes",
                                    "1": "1",
                                    "2": "Febrero",
                                    "3": "2020"
                                },
                                {
                                    "0": "Parque Sinaloa",
                                    "1": "1",
                                    "2": "Febrero",
                                    "3": "2020"
                                },
                                {
                                    "0": "Pemex",
                                    "1": "1",
                                    "2": "Febrero",
                                    "3": "2020"
                                },
                                {
                                    "0": "Sears Plaza Rio",
                                    "1": "1",
                                    "2": "Marzo",
                                    "3": "2020"
                                },
                                {
                                    "0": "Hospital Ángeles",
                                    "1": "1",
                                    "2": "Marzo",
                                    "3": "2020"
                                },
                                {
                                    "0": "Sears Plaza Rio",
                                    "1": "1",
                                    "2": "Marzo",
                                    "3": "2020"
                                },
                                {
                                    "0": "Sams Club 3 Rios",
                                    "1": "1",
                                    "2": "Marzo",
                                    "3": "2020"
                                }
                            ]
                        },
                        "text/html": "<table><tr><th>Nombre</th><th>Visitas</th><th>Mes</th><th>Año</th></tr><tr><td>Pemex</td><td>1</td><td>Marzo</td><td>2010</td></tr><tr><td>Taipak MonteCarlo</td><td>1</td><td>Febrero</td><td>2018</td></tr><tr><td>Fühler</td><td>1</td><td>Febrero</td><td>2018</td></tr><tr><td>Parque Sinaloa</td><td>2</td><td>Marzo</td><td>2018</td></tr><tr><td>Zona de Vestir Medrano</td><td>1</td><td>Marzo</td><td>2018</td></tr><tr><td>Pemex</td><td>1</td><td>Marzo</td><td>2018</td></tr><tr><td>Sams Club 3 Rios</td><td>1</td><td>Marzo</td><td>2018</td></tr><tr><td>Estadio Teodoro Mariscal</td><td>2</td><td>Abril</td><td>2018</td></tr><tr><td>Hospital Ángeles</td><td>1</td><td>Abril</td><td>2018</td></tr><tr><td>Estadio Tomateros</td><td>1</td><td>Abril</td><td>2018</td></tr><tr><td>Ley Primavera</td><td>1</td><td>Mayo</td><td>2018</td></tr><tr><td>Aeropuerto Internacional de Tijuana</td><td>1</td><td>Junio</td><td>2018</td></tr><tr><td>Taipak MonteCarlo</td><td>1</td><td>Julio</td><td>2018</td></tr><tr><td>Ley Primavera</td><td>1</td><td>Julio</td><td>2018</td></tr><tr><td>Taipak MonteCarlo</td><td>1</td><td>Julio</td><td>2018</td></tr><tr><td>KFC Insurgentes</td><td>1</td><td>Septiembre</td><td>2018</td></tr><tr><td>MUSIK</td><td>1</td><td>Septiembre</td><td>2018</td></tr><tr><td>Farmacia Guadalajara</td><td>1</td><td>Octubre</td><td>2018</td></tr><tr><td>Pemex</td><td>1</td><td>Noviembre</td><td>2018</td></tr><tr><td>Hospital Ángeles</td><td>1</td><td>Noviembre</td><td>2018</td></tr><tr><td>Parque Sinaloa</td><td>1</td><td>Noviembre</td><td>2018</td></tr><tr><td>Parque Sinaloa</td><td>1</td><td>Enero</td><td>2019</td></tr><tr><td>Estadio Teodoro Mariscal</td><td>1</td><td>Enero</td><td>2019</td></tr><tr><td>USE Navolato</td><td>1</td><td>Enero</td><td>2019</td></tr><tr><td>Cinemex Navolato</td><td>1</td><td>Febrero</td><td>2019</td></tr><tr><td>The Barber Shop</td><td>1</td><td>Marzo</td><td>2019</td></tr><tr><td>Aeropuerto Internacional de Tijuana</td><td>1</td><td>Marzo</td><td>2019</td></tr><tr><td>Estadio Teodoro Mariscal</td><td>1</td><td>Marzo</td><td>2019</td></tr><tr><td>Sears Plaza Rio</td><td>1</td><td>Abril</td><td>2019</td></tr><tr><td>MUSIK</td><td>1</td><td>Abril</td><td>2019</td></tr><tr><td>Pemex</td><td>1</td><td>Abril</td><td>2019</td></tr><tr><td>Cinemex Navolato</td><td>1</td><td>Abril</td><td>2019</td></tr><tr><td>Taipak MonteCarlo</td><td>1</td><td>Abril</td><td>2019</td></tr><tr><td>Sams Club 3 Rios</td><td>1</td><td>Mayo</td><td>2019</td></tr><tr><td>Estadio Teodoro Mariscal</td><td>1</td><td>Mayo</td><td>2019</td></tr><tr><td>Soriana Hiper</td><td>1</td><td>Mayo</td><td>2019</td></tr><tr><td>MUSIK</td><td>1</td><td>Mayo</td><td>2019</td></tr><tr><td>Panamá Insurgentes</td><td>1</td><td>Julio</td><td>2019</td></tr><tr><td>Aeropuerto Internacional de Tijuana</td><td>1</td><td>Agosto</td><td>2019</td></tr><tr><td>Farmacia Guadalajara</td><td>1</td><td>Septiembre</td><td>2019</td></tr><tr><td>Farmacia Guadalajara</td><td>2</td><td>Septiembre</td><td>2019</td></tr><tr><td>Banbajío</td><td>1</td><td>Septiembre</td><td>2019</td></tr><tr><td>Soriana Hiper</td><td>1</td><td>Septiembre</td><td>2019</td></tr><tr><td>The Barber Shop</td><td>1</td><td>Septiembre</td><td>2019</td></tr><tr><td>Estadio Tomateros</td><td>1</td><td>Octubre</td><td>2019</td></tr><tr><td>Sears Plaza Rio</td><td>1</td><td>Octubre</td><td>2019</td></tr><tr><td>USE Navolato</td><td>1</td><td>Octubre</td><td>2019</td></tr><tr><td>USE Navolato</td><td>1</td><td>Octubre</td><td>2019</td></tr><tr><td>Ley Primavera</td><td>1</td><td>Octubre</td><td>2019</td></tr><tr><td>MUSIK</td><td>1</td><td>Noviembre</td><td>2019</td></tr><tr><td>Fühler</td><td>1</td><td>Noviembre</td><td>2019</td></tr><tr><td>Taipak MonteCarlo</td><td>1</td><td>Noviembre</td><td>2019</td></tr><tr><td>Ley Primavera</td><td>1</td><td>Noviembre</td><td>2019</td></tr><tr><td>Pemex</td><td>1</td><td>Diciembre</td><td>2019</td></tr><tr><td>Sams Club 3 Rios</td><td>1</td><td>Diciembre</td><td>2019</td></tr><tr><td>Sams Club 3 Rios</td><td>1</td><td>Diciembre</td><td>2019</td></tr><tr><td>Zona de Vestir Medrano</td><td>1</td><td>Enero</td><td>2020</td></tr><tr><td>Farmacia Guadalajara</td><td>1</td><td>Enero</td><td>2020</td></tr><tr><td>MUSIK</td><td>1</td><td>Enero</td><td>2020</td></tr><tr><td>USE Navolato</td><td>1</td><td>Febrero</td><td>2020</td></tr><tr><td>Panamá Insurgentes</td><td>1</td><td>Febrero</td><td>2020</td></tr><tr><td>Parque Sinaloa</td><td>1</td><td>Febrero</td><td>2020</td></tr><tr><td>Pemex</td><td>1</td><td>Febrero</td><td>2020</td></tr><tr><td>Sears Plaza Rio</td><td>1</td><td>Marzo</td><td>2020</td></tr><tr><td>Hospital Ángeles</td><td>1</td><td>Marzo</td><td>2020</td></tr><tr><td>Sears Plaza Rio</td><td>1</td><td>Marzo</td><td>2020</td></tr><tr><td>Sams Club 3 Rios</td><td>1</td><td>Marzo</td><td>2020</td></tr></table>"
                    }
                }
            ],
            "execution_count": 7
        },
        {
            "cell_type": "markdown",
            "source": [
                "## 4\r\n",
                "Vista que muestra los lugares con un promedio de valoración mayor o igual a 7"
            ],
            "metadata": {
                "azdata_cell_guid": "f16ebb48-2a38-423f-8f08-1f0a2709e79d"
            }
        },
        {
            "cell_type": "code",
            "source": [
                "CREATE VIEW PromediosLugaresDestacables\r\n",
                "AS\r\n",
                "SELECT L.Nombre,  AVG(V.Valoracion) AS Valoracion FROM LUGAR L \r\n",
                "INNER JOIN VISITA V \r\n",
                "ON L.ID_Lugar=V.ID_Lugar \r\n",
                "WHERE V.Valoracion>=7\r\n",
                "GROUP BY L.Nombre, V.Valoracion\r\n",
                "WITH CHECK OPTION"
            ],
            "metadata": {
                "azdata_cell_guid": "b64ce327-759b-4d87-9fa6-95d1eb668684"
            },
            "outputs": [
                {
                    "output_type": "display_data",
                    "data": {
                        "text/html": "Commands completed successfully."
                    },
                    "metadata": {}
                },
                {
                    "output_type": "display_data",
                    "data": {
                        "text/html": "Total execution time: 00:00:00.596"
                    },
                    "metadata": {}
                }
            ],
            "execution_count": 8
        },
        {
            "cell_type": "code",
            "source": [
                "SELECT * FROM PromediosLugaresDestacables"
            ],
            "metadata": {
                "azdata_cell_guid": "ea08964e-7f4a-494c-90f0-87ab6cd5b6a3"
            },
            "outputs": [
                {
                    "output_type": "display_data",
                    "data": {
                        "text/html": "(35 rows affected)"
                    },
                    "metadata": {}
                },
                {
                    "output_type": "display_data",
                    "data": {
                        "text/html": "Total execution time: 00:00:00.068"
                    },
                    "metadata": {}
                },
                {
                    "output_type": "execute_result",
                    "metadata": {},
                    "execution_count": 9,
                    "data": {
                        "application/vnd.dataresource+json": {
                            "schema": {
                                "fields": [
                                    {
                                        "name": "Nombre"
                                    },
                                    {
                                        "name": "Valoracion"
                                    }
                                ]
                            },
                            "data": [
                                {
                                    "0": "Cinemex Navolato",
                                    "1": "7"
                                },
                                {
                                    "0": "Pemex",
                                    "1": "7"
                                },
                                {
                                    "0": "Soriana Hiper",
                                    "1": "7"
                                },
                                {
                                    "0": "Taipak MonteCarlo",
                                    "1": "7"
                                },
                                {
                                    "0": "USE Navolato",
                                    "1": "7"
                                },
                                {
                                    "0": "Zona de Vestir Medrano",
                                    "1": "7"
                                },
                                {
                                    "0": "Aeropuerto Internacional de Tijuana",
                                    "1": "8"
                                },
                                {
                                    "0": "Cinemex Navolato",
                                    "1": "8"
                                },
                                {
                                    "0": "Farmacia Guadalajara",
                                    "1": "8"
                                },
                                {
                                    "0": "Fühler",
                                    "1": "8"
                                },
                                {
                                    "0": "Hospital Ángeles",
                                    "1": "8"
                                },
                                {
                                    "0": "Ley Primavera",
                                    "1": "8"
                                },
                                {
                                    "0": "MUSIK",
                                    "1": "8"
                                },
                                {
                                    "0": "Panamá Insurgentes",
                                    "1": "8"
                                },
                                {
                                    "0": "Parque Sinaloa",
                                    "1": "8"
                                },
                                {
                                    "0": "Pemex",
                                    "1": "8"
                                },
                                {
                                    "0": "Sams Club 3 Rios",
                                    "1": "8"
                                },
                                {
                                    "0": "Taipak MonteCarlo",
                                    "1": "8"
                                },
                                {
                                    "0": "Estadio Teodoro Mariscal",
                                    "1": "9"
                                },
                                {
                                    "0": "Ley Primavera",
                                    "1": "9"
                                },
                                {
                                    "0": "Parque Sinaloa",
                                    "1": "9"
                                },
                                {
                                    "0": "Sears Plaza Rio",
                                    "1": "9"
                                },
                                {
                                    "0": "Taipak MonteCarlo",
                                    "1": "9"
                                },
                                {
                                    "0": "The Barber Shop",
                                    "1": "9"
                                },
                                {
                                    "0": "Aeropuerto Internacional de Tijuana",
                                    "1": "10"
                                },
                                {
                                    "0": "Estadio Teodoro Mariscal",
                                    "1": "10"
                                },
                                {
                                    "0": "Estadio Tomateros",
                                    "1": "10"
                                },
                                {
                                    "0": "Farmacia Guadalajara",
                                    "1": "10"
                                },
                                {
                                    "0": "Hospital Ángeles",
                                    "1": "10"
                                },
                                {
                                    "0": "Ley Primavera",
                                    "1": "10"
                                },
                                {
                                    "0": "MUSIK",
                                    "1": "10"
                                },
                                {
                                    "0": "Pemex",
                                    "1": "10"
                                },
                                {
                                    "0": "The Barber Shop",
                                    "1": "10"
                                },
                                {
                                    "0": "USE Navolato",
                                    "1": "10"
                                },
                                {
                                    "0": "Zona de Vestir Medrano",
                                    "1": "10"
                                }
                            ]
                        },
                        "text/html": "<table><tr><th>Nombre</th><th>Valoracion</th></tr><tr><td>Cinemex Navolato</td><td>7</td></tr><tr><td>Pemex</td><td>7</td></tr><tr><td>Soriana Hiper</td><td>7</td></tr><tr><td>Taipak MonteCarlo</td><td>7</td></tr><tr><td>USE Navolato</td><td>7</td></tr><tr><td>Zona de Vestir Medrano</td><td>7</td></tr><tr><td>Aeropuerto Internacional de Tijuana</td><td>8</td></tr><tr><td>Cinemex Navolato</td><td>8</td></tr><tr><td>Farmacia Guadalajara</td><td>8</td></tr><tr><td>Fühler</td><td>8</td></tr><tr><td>Hospital Ángeles</td><td>8</td></tr><tr><td>Ley Primavera</td><td>8</td></tr><tr><td>MUSIK</td><td>8</td></tr><tr><td>Panamá Insurgentes</td><td>8</td></tr><tr><td>Parque Sinaloa</td><td>8</td></tr><tr><td>Pemex</td><td>8</td></tr><tr><td>Sams Club 3 Rios</td><td>8</td></tr><tr><td>Taipak MonteCarlo</td><td>8</td></tr><tr><td>Estadio Teodoro Mariscal</td><td>9</td></tr><tr><td>Ley Primavera</td><td>9</td></tr><tr><td>Parque Sinaloa</td><td>9</td></tr><tr><td>Sears Plaza Rio</td><td>9</td></tr><tr><td>Taipak MonteCarlo</td><td>9</td></tr><tr><td>The Barber Shop</td><td>9</td></tr><tr><td>Aeropuerto Internacional de Tijuana</td><td>10</td></tr><tr><td>Estadio Teodoro Mariscal</td><td>10</td></tr><tr><td>Estadio Tomateros</td><td>10</td></tr><tr><td>Farmacia Guadalajara</td><td>10</td></tr><tr><td>Hospital Ángeles</td><td>10</td></tr><tr><td>Ley Primavera</td><td>10</td></tr><tr><td>MUSIK</td><td>10</td></tr><tr><td>Pemex</td><td>10</td></tr><tr><td>The Barber Shop</td><td>10</td></tr><tr><td>USE Navolato</td><td>10</td></tr><tr><td>Zona de Vestir Medrano</td><td>10</td></tr></table>"
                    }
                }
            ],
            "execution_count": 9
        },
        {
            "cell_type": "markdown",
            "source": [
                "## 5\r\n",
                "Vista que muestra el total de usuarios que hay por ciudad"
            ],
            "metadata": {
                "azdata_cell_guid": "76788e63-68a5-4da1-8d02-d9c628494299"
            }
        },
        {
            "cell_type": "code",
            "source": [
                "CREATE VIEW UsuariosPorCiudad\r\n",
                "AS\r\n",
                "SELECT C.Ciudad, COUNT(*) as [Total Usuarios] FROM Usuario U\r\n",
                "INNER JOIN Ciudad C ON U.ID_Ciudad=C.ID_Ciudad\r\n",
                "GROUP BY C.Ciudad"
            ],
            "metadata": {
                "azdata_cell_guid": "b0604095-22f2-4b81-b30f-007ce8b98ba0"
            },
            "outputs": [
                {
                    "output_type": "display_data",
                    "data": {
                        "text/html": "Commands completed successfully."
                    },
                    "metadata": {}
                },
                {
                    "output_type": "display_data",
                    "data": {
                        "text/html": "Total execution time: 00:00:00.049"
                    },
                    "metadata": {}
                }
            ],
            "execution_count": 10
        },
        {
            "cell_type": "code",
            "source": [
                "SELECT * FROM UsuariosPorCiudad"
            ],
            "metadata": {
                "azdata_cell_guid": "dae22257-6d35-4184-95cf-4206acb5ff66"
            },
            "outputs": [
                {
                    "output_type": "display_data",
                    "data": {
                        "text/html": "(7 rows affected)"
                    },
                    "metadata": {}
                },
                {
                    "output_type": "display_data",
                    "data": {
                        "text/html": "Total execution time: 00:00:00.411"
                    },
                    "metadata": {}
                },
                {
                    "output_type": "execute_result",
                    "metadata": {},
                    "execution_count": 11,
                    "data": {
                        "application/vnd.dataresource+json": {
                            "schema": {
                                "fields": [
                                    {
                                        "name": "Ciudad"
                                    },
                                    {
                                        "name": "Total Usuarios"
                                    }
                                ]
                            },
                            "data": [
                                {
                                    "0": "Culiacán",
                                    "1": "4"
                                },
                                {
                                    "0": "Guadalajara",
                                    "1": "3"
                                },
                                {
                                    "0": "Guasave",
                                    "1": "2"
                                },
                                {
                                    "0": "Los Mochis",
                                    "1": "2"
                                },
                                {
                                    "0": "Mazatlán",
                                    "1": "2"
                                },
                                {
                                    "0": "Navolato",
                                    "1": "2"
                                },
                                {
                                    "0": "Tijuana",
                                    "1": "2"
                                }
                            ]
                        },
                        "text/html": "<table><tr><th>Ciudad</th><th>Total Usuarios</th></tr><tr><td>Culiacán</td><td>4</td></tr><tr><td>Guadalajara</td><td>3</td></tr><tr><td>Guasave</td><td>2</td></tr><tr><td>Los Mochis</td><td>2</td></tr><tr><td>Mazatlán</td><td>2</td></tr><tr><td>Navolato</td><td>2</td></tr><tr><td>Tijuana</td><td>2</td></tr></table>"
                    }
                }
            ],
            "execution_count": 11
        }
    ]
}