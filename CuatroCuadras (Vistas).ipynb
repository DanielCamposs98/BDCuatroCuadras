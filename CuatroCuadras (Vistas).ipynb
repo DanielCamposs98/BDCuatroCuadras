{
    "metadata": {
        "kernelspec": {
            "name": "SQL",
            "display_name": "SQL",
            "language": "sql"
        },
        "language_info": {
            "name": "sql",
            "version": ""
        }
    },
    "nbformat_minor": 2,
    "nbformat": 4,
    "cells": [
        {
            "cell_type": "markdown",
            "source": [
                "# Cuatro Cuadras #\r\n",
                "## VISTAS##"
            ],
            "metadata": {
                "azdata_cell_guid": "09e93898-e49f-4db3-a7d2-1b7b55a5c0b7"
            }
        },
        {
            "cell_type": "code",
            "source": [
                "USE CuatroCuadras"
            ],
            "metadata": {
                "azdata_cell_guid": "58270653-200b-4590-824e-309da5b4152a"
            },
            "outputs": [
                {
                    "output_type": "display_data",
                    "data": {
                        "text/html": "Commands completed successfully."
                    },
                    "metadata": {}
                },
                {
                    "output_type": "display_data",
                    "data": {
                        "text/html": "Total execution time: 00:00:00.006"
                    },
                    "metadata": {}
                }
            ],
            "execution_count": 1
        },
        {
            "cell_type": "markdown",
            "source": [
                "## 1\r\n",
                "Vista que muestra los datos que los usuarios visualizaran sobre los otros usuarios"
            ],
            "metadata": {
                "azdata_cell_guid": "ed7186e8-e1f1-45d3-b738-d20f530a62fb"
            }
        },
        {
            "cell_type": "code",
            "source": [
                "CREATE VIEW DatosBasicosUsuario\r\n",
                "    AS\r\n",
                "    SELECT Nickname, CONCAT(Nombre, ' ' ,Apellidos) as [Nombre Completo], Sexo, DATEDIFF(yy, Fecha_Nacimiento, GETDATE()) as Edad, Ciudad FROM USUARIO U\r\n",
                "    INNER JOIN CIUDAD C \r\n",
                "    ON U.ID_Ciudad=C.ID_Ciudad "
            ],
            "metadata": {
                "azdata_cell_guid": "34445761-97e2-433e-a066-751f6a40b155"
            },
            "outputs": [
                {
                    "output_type": "display_data",
                    "data": {
                        "text/html": "Commands completed successfully."
                    },
                    "metadata": {}
                },
                {
                    "output_type": "display_data",
                    "data": {
                        "text/html": "Total execution time: 00:00:00.347"
                    },
                    "metadata": {}
                }
            ],
            "execution_count": 8
        },
        {
            "cell_type": "markdown",
            "source": [
                "## 2\n",
                "Vista que muestra los datos de interes para los usuarios acerca de los lugares a visitar"
            ],
            "metadata": {
                "azdata_cell_guid": "d92799b1-c635-4bc6-b20c-ac4b70c766e4"
            }
        },
        {
            "cell_type": "code",
            "source": [
                "CREATE VIEW DatosBasicosLugares\r\n",
                "    AS\r\n",
                "    SELECT L.Nombre, L.Descripcion, Ciudad, Nombre_eti as Etiqueta, Cat.Descripcion as Categoria FROM LUGAR L \r\n",
                "    INNER JOIN CIUDAD C \r\n",
                "    ON L.ID_Ciudad=C.ID_Ciudad \r\n",
                "    INNER JOIN ETIQUETA E \r\n",
                "    ON L.ID_Etiqueta=E.ID_Etiqueta\r\n",
                "    INNER JOIN CATEGORIA Cat \r\n",
                "    ON L.ID_Categoria=Cat.ID_Categoria"
            ],
            "metadata": {
                "azdata_cell_guid": "868dc6f5-dec2-4432-8b2a-b6d7b23942eb"
            },
            "outputs": [
                {
                    "output_type": "display_data",
                    "data": {
                        "text/html": "Commands completed successfully."
                    },
                    "metadata": {}
                },
                {
                    "output_type": "display_data",
                    "data": {
                        "text/html": "Total execution time: 00:00:00.094"
                    },
                    "metadata": {}
                }
            ],
            "execution_count": 15
        }
    ]
}