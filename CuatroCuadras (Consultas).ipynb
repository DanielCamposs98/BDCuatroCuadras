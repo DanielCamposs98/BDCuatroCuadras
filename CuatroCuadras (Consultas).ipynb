{
    "metadata": {
        "kernelspec": {
            "name": "SQL",
            "display_name": "SQL",
            "language": "sql"
        },
        "language_info": {
            "name": "sql",
            "version": ""
        }
    },
    "nbformat_minor": 2,
    "nbformat": 4,
    "cells": [
        {
            "cell_type": "code",
            "source": [
                "USE CuatroCuadras"
            ],
            "metadata": {
                "azdata_cell_guid": "4ad6b0b9-325e-4786-92bd-5f282f217a3c"
            },
            "outputs": [],
            "execution_count": 52
        },
        {
            "cell_type": "markdown",
            "source": [
                "# Cuatro Cuadras #\r\n",
                "## Consultas##"
            ],
            "metadata": {
                "azdata_cell_guid": "aba30fb8-9cd7-4865-a7c0-2543a1450dcf"
            }
        },
        {
            "cell_type": "markdown",
            "source": [
                "## 1\n",
                "Qué lugares son los más frecuentados por personas mayores a 45 años"
            ],
            "metadata": {
                "azdata_cell_guid": "b0e4859a-8826-4fd1-aefa-f3f569ec8ca4"
            }
        },
        {
            "cell_type": "code",
            "source": [
                "SELECT TOP 3 count(*) AS visitas, L.ID_Lugar, L.Nombre FROM Lugar L\r\n",
                "INNER JOIN Visita V  \r\n",
                "ON L.ID_Lugar=V.ID_Lugar\r\n",
                "INNER JOIN Usuario U \r\n",
                "ON V.Nickname=U.Nickname\r\n",
                "WHERE DATEDIFF(YEAR,Fecha_Nacimiento,GETDATE())>45\r\n",
                "GROUP BY L.ID_Lugar, L.Nombre"
            ],
            "metadata": {
                "azdata_cell_guid": "35e45fc1-79b8-47fb-9df4-d1236ea30b9f",
                "tags": []
            },
            "outputs": [],
            "execution_count": 53
        },
        {
            "cell_type": "markdown",
            "source": [
                "## 2\r\n",
                "Cuáles son los dos lugares menos visitados"
            ],
            "metadata": {
                "azdata_cell_guid": "af53f7b8-8f99-41b2-ae8b-d2689ce442ee"
            }
        },
        {
            "cell_type": "code",
            "source": [
                "SELECT TOP 2 count(*) AS Visitas, L.ID_Lugar, L.Nombre FROM LUGAR L \r\n",
                "INNER JOIN VISITA V \r\n",
                "ON L.ID_Lugar=V.ID_Lugar\r\n",
                "GROUP BY L.ID_Lugar, L.Nombre\r\n",
                "ORDER BY Visitas ASC"
            ],
            "metadata": {
                "azdata_cell_guid": "0a318f78-b80b-49b2-8f2d-a1e516932f07"
            },
            "outputs": [],
            "execution_count": 54
        },
        {
            "cell_type": "markdown",
            "source": [
                "## 3\r\n",
                "Cuáles son los lugares que tienen \"muy malo\" o \"malo\" como comentario y ningun \"Muy Bueno\", \"bueno\" o \"excelente\""
            ],
            "metadata": {
                "azdata_cell_guid": "dd3ff265-b458-4084-bc3c-6127eadc68f7"
            }
        },
        {
            "cell_type": "code",
            "source": [
                "SELECT DISTINCT L.ID_Lugar, L.Nombre FROM Lugar L\r\n",
                "INNER JOIN VISITA V \r\n",
                "ON L.ID_Lugar=V.ID_Lugar\r\n",
                "WHERE v.Comentario LIKE '%malo%' AND V.ID_Lugar NOT IN \r\n",
                "(SELECT DISTINCT ID_Lugar FROM Visita WHERE Comentario LIKE '%bueno%' OR Comentario LIKE '%excelente%' OR Comentario LIKE '%Muy bueno%')"
            ],
            "metadata": {
                "azdata_cell_guid": "529f5c44-707c-4f93-9e69-72d3489f89d5"
            },
            "outputs": [],
            "execution_count": 55
        },
        {
            "cell_type": "markdown",
            "source": [
                "## 4\n",
                "Cuáles son los 3 lugares qué cuentan con la mejor valoración"
            ],
            "metadata": {
                "azdata_cell_guid": "02621451-14e6-4ecd-b8b9-205e7c4f9969"
            }
        },
        {
            "cell_type": "code",
            "source": [
                "WITH Promedio (ID_Lugar, Nombre, Valoracion)\r\n",
                "AS\r\n",
                "(\r\n",
                "    SELECT l.ID_Lugar, L.Nombre, AVG(V.Valoracion) AS ValoracionTotal FROM LUGAR L\r\n",
                "    INNER JOIN VISITA V \r\n",
                "    ON L.ID_Lugar=V.ID_Lugar\r\n",
                "    GROUP BY L.ID_Lugar, L.Nombre\r\n",
                ")\r\n",
                "SELECT TOP 3 * FROM Promedio\r\n",
                "ORDER BY Valoracion DESC"
            ],
            "metadata": {
                "azdata_cell_guid": "dd5d1329-37fd-40db-a5c4-dc247d392790"
            },
            "outputs": [],
            "execution_count": 56
        },
        {
            "cell_type": "markdown",
            "source": [
                "## 5\r\n",
                "Qué usuarios han obtenido cuando menos un logro"
            ],
            "metadata": {
                "azdata_cell_guid": "6f76dd58-5c0a-4d89-8963-260bec13450f"
            }
        },
        {
            "cell_type": "code",
            "source": [
                "SELECT Nickname, CONCAT(Nombre, ' ', Apellidos) as Nombre FROM USUARIO U \r\n",
                "WHERE U.Nickname IN (SELECT Nickname FROM LOGRO_USUARIO)"
            ],
            "metadata": {
                "azdata_cell_guid": "87fd8f2a-12f4-4fa6-a0cd-89af71091d50"
            },
            "outputs": [],
            "execution_count": 57
        },
        {
            "cell_type": "markdown",
            "source": [
                "## 6\n",
                "Cuáles han sido los usuarios que han hecho visitas en una ciudad distinta a la de su origen"
            ],
            "metadata": {
                "azdata_cell_guid": "83e6b977-22c5-46f7-b91c-81cb90516f2e"
            }
        },
        {
            "cell_type": "code",
            "source": [
                "SELECT DISTINCT U.Nickname AS Usuario FROM USUARIO U \r\n",
                "INNER JOIN VISITA V \r\n",
                "ON U.Nickname=V.Nickname\r\n",
                "INNER JOIN LUGAR L \r\n",
                "ON V.ID_Lugar=L.ID_Lugar\r\n",
                "WHERE U.ID_Ciudad<>L.ID_Ciudad"
            ],
            "metadata": {
                "azdata_cell_guid": "9b1bb5fa-be23-4189-989e-e08f60358a0c"
            },
            "outputs": [],
            "execution_count": 58
        },
        {
            "cell_type": "markdown",
            "source": [
                "## 7\n",
                "Qué usuarios han hecho amistad con usuarios de una ciudad distinta a la de ellos"
            ],
            "metadata": {
                "azdata_cell_guid": "acd9f071-3c4d-43e1-8693-4d65bf312fd6"
            }
        },
        {
            "cell_type": "code",
            "source": [
                "SELECT A.Nickname1 AS [Usuario 1], A.Nickname2 AS [Usuario 2] FROM AMIGO A \r\n",
                "INNER JOIN USUARIO U \r\n",
                "ON A.Nickname1=U.Nickname\r\n",
                "INNER JOIN USUARIO U2 \r\n",
                "ON A.Nickname2=U2.Nickname\r\n",
                "WHERE U.ID_Ciudad<>U2.ID_Ciudad"
            ],
            "metadata": {
                "azdata_cell_guid": "f45bfee2-ed97-4819-86ab-5db5d84a1fc6"
            },
            "outputs": [],
            "execution_count": 59
        },
        {
            "cell_type": "markdown",
            "source": [
                "## 8\r\n",
                "Se requiere saber el lugar más frecuentado por mujeres"
            ],
            "metadata": {
                "azdata_cell_guid": "fa7fea6d-e0ea-41a3-a51d-458c7233b9e1"
            }
        },
        {
            "cell_type": "code",
            "source": [
                "WITH Frecuencia(Nombre, Visitas )\r\n",
                "AS \r\n",
                "(\r\n",
                "    SELECT L.Nombre, count(*) AS Visitas FROM LUGAR L \r\n",
                "    INNER JOIN VISITA V \r\n",
                "    ON L.ID_Lugar=V.ID_Lugar\r\n",
                "    INNER JOIN USUARIO U \r\n",
                "    ON V.Nickname=U.Nickname\r\n",
                "    WHERE U.Sexo='F'\r\n",
                "    GROUP BY L.Nombre\r\n",
                ")\r\n",
                "SELECT TOP 1 * FROM Frecuencia\r\n",
                "ORDER BY Visitas DESC"
            ],
            "metadata": {
                "azdata_cell_guid": "05eff936-5d14-43a3-a69d-2bad4b69f18a"
            },
            "outputs": [],
            "execution_count": 60
        },
        {
            "cell_type": "markdown",
            "source": [
                "## 9\r\n",
                "Conocer todos los usuarios que han comentado con \"Muy malo\" a sus visitas"
            ],
            "metadata": {
                "azdata_cell_guid": "2d2dddf8-ffd0-429c-93b2-632a50f7d3fc"
            }
        },
        {
            "cell_type": "code",
            "source": [
                "SELECT U.Nickname FROM VISITA V \r\n",
                "INNER JOIN USUARIO U \r\n",
                "ON V.Nickname=U.Nickname \r\n",
                "WHERE V.Comentario='Muy malo'"
            ],
            "metadata": {
                "azdata_cell_guid": "b96eac3b-9239-4636-8c50-608181fd1f56"
            },
            "outputs": [],
            "execution_count": 61
        },
        {
            "cell_type": "markdown",
            "source": [
                "## 10\r\n",
                "Se desea saber cuál es el promedio de valoración de todos los lugares"
            ],
            "metadata": {
                "azdata_cell_guid": "d8c91c82-5574-4d0f-bbf0-e690136f0a8f"
            }
        },
        {
            "cell_type": "code",
            "source": [
                "SELECT L.Nombre,  AVG(V.Valoracion) AS Valoracion FROM LUGAR L \n",
                "INNER JOIN VISITA V \n",
                "ON L.ID_Lugar=V.ID_Lugar \n",
                "GROUP BY L.Nombre"
            ],
            "metadata": {
                "azdata_cell_guid": "b820186c-3f83-4228-9063-56dfc9ac4d16"
            },
            "outputs": [],
            "execution_count": 62
        },
        {
            "cell_type": "markdown",
            "source": [
                "## 11\r\n",
                "Cuál es el lugar más visitado con la etiqueta de \"Beisbol\""
            ],
            "metadata": {
                "azdata_cell_guid": "b4d210a3-38ff-41f4-b966-ddf1d3c004bb"
            }
        },
        {
            "cell_type": "code",
            "source": [
                "SELECT TOP 1 L.Nombre, COUNT(*) as Visitas FROM Lugar L\r\n",
                "INNER JOIN Etiqueta E ON L.ID_Etiqueta=E.ID_Etiqueta\r\n",
                "INNER JOIN Visita V on L.ID_Lugar=V.ID_Lugar\r\n",
                "WHERE E.Nombre_eti='Beisbol'\r\n",
                "GROUP BY L.Nombre"
            ],
            "metadata": {
                "azdata_cell_guid": "0c1485b8-0d5c-48b0-9dc9-5c2bdd1fcee3"
            },
            "outputs": [],
            "execution_count": 63
        },
        {
            "cell_type": "markdown",
            "source": [
                "## 12\r\n",
                "Cuál es el lugar menos visitado de Tijuana"
            ],
            "metadata": {
                "azdata_cell_guid": "d8bbecdf-d833-4444-abfe-9b779c849bc9"
            }
        },
        {
            "cell_type": "code",
            "source": [
                "SELECT TOP 1 L.Nombre, COUNT(*) as Visitas FROM Lugar L\r\n",
                "INNER JOIN Visita V ON L.ID_Lugar=V.ID_Lugar\r\n",
                "INNER JOIN Ciudad C ON L.ID_Ciudad=C.ID_Ciudad\r\n",
                "WHERE Ciudad='Tijuana'\r\n",
                "GROUP BY L.Nombre\r\n",
                "ORDER BY COUNT(*) ASC"
            ],
            "metadata": {
                "azdata_cell_guid": "bad947fd-6195-48ec-8738-3b6986c9278b"
            },
            "outputs": [],
            "execution_count": 64
        },
        {
            "cell_type": "markdown",
            "source": [
                "## 13\r\n",
                "Cuales son los 5 lugares más visitados del 2018 además de la ciudad que pertenecen"
            ],
            "metadata": {
                "azdata_cell_guid": "153185d0-38a9-404d-8fbf-df742b90abc4"
            }
        },
        {
            "cell_type": "code",
            "source": [
                "SELECT TOP 5 L.Nombre, C.Ciudad, COUNT(*) as Visitas FROM Lugar L\r\n",
                "INNER JOIN Visita V ON L.ID_Lugar=V.ID_Lugar\r\n",
                "INNER JOIN Ciudad C ON L.ID_Ciudad=C.ID_Ciudad\r\n",
                "WHERE YEAR(Fecha)=2018\r\n",
                "GROUP BY L.Nombre, C.Ciudad\r\n",
                "ORDER BY Visitas DESC"
            ],
            "metadata": {
                "azdata_cell_guid": "05676ad0-20eb-4e49-81b7-11c0756895e7"
            },
            "outputs": [],
            "execution_count": 65
        },
        {
            "cell_type": "markdown",
            "source": [
                "## 14\r\n",
                "Qué ciudad tiene menos visitas registradas"
            ],
            "metadata": {
                "azdata_cell_guid": "12d47312-e96a-4f0f-a880-e694a4480bff"
            }
        },
        {
            "cell_type": "code",
            "source": [
                "SELECT TOP 1 C.Ciudad, COUNT(*) Visitas FROM Ciudad C\r\n",
                "INNER JOIN Lugar L ON C.ID_Ciudad=L.ID_Ciudad\r\n",
                "INNER JOIN Visita V ON L.ID_Lugar=V.ID_Lugar\r\n",
                "GROUP BY C.Ciudad\r\n",
                "ORDER BY Visitas ASC"
            ],
            "metadata": {
                "azdata_cell_guid": "8063e545-5445-45b1-abf3-adb47783204d",
                "tags": []
            },
            "outputs": [],
            "execution_count": 66
        },
        {
            "cell_type": "markdown",
            "source": [
                "## 15\r\n",
                "Los lugares más visitados de los últimos 3 meses"
            ],
            "metadata": {
                "azdata_cell_guid": "0dfec3ff-9d3d-4977-8bfd-b77657c304fd"
            }
        },
        {
            "cell_type": "code",
            "source": [
                "SELECT L.Nombre, COUNT(*) as Visitas,\r\n",
                "CASE\r\n",
                "    WHEN MONTH(Fecha)=1 THEN 'Enero'\r\n",
                "    WHEN MONTH(Fecha)=2 THEN 'Febrero'\r\n",
                "    WHEN MONTH(Fecha)=3 THEN 'Marzo'\r\n",
                "    WHEN MONTH(Fecha)=4 THEN 'Abril'\r\n",
                "    WHEN MONTH(Fecha)=5 THEN 'Mayo'\r\n",
                "    WHEN MONTH(Fecha)=6 THEN 'Junio'\r\n",
                "    WHEN MONTH(Fecha)=7 THEN 'Julio'\r\n",
                "    WHEN MONTH(Fecha)=8 THEN 'Agosto'\r\n",
                "    WHEN MONTH(Fecha)=9 THEN 'Septiembre'\r\n",
                "    WHEN MONTH(Fecha)=10 THEN 'Octubre'\r\n",
                "    WHEN MONTH(Fecha)=11 THEN 'Noviembre'\r\n",
                "    WHEN MONTH(Fecha)=12 THEN 'Diciembre'\r\n",
                "END AS Mes\r\n",
                "FROM Visita V\r\n",
                "INNER JOIN Lugar L ON V.ID_Lugar=L.ID_Lugar\r\n",
                "WHERE Fecha BETWEEN DATEADD(MM, -3, GETDATE()) AND GETDATE()\r\n",
                "GROUP BY L.Nombre, MONTH(Fecha)"
            ],
            "metadata": {
                "azdata_cell_guid": "487aa99f-2ccd-4e6f-9ffd-331c1b67eb59"
            },
            "outputs": [],
            "execution_count": 67
        },
        {
            "cell_type": "markdown",
            "source": [
                "## 16\r\n",
                "Cuáles son los 5 mayores interéses de los usuarios"
            ],
            "metadata": {
                "azdata_cell_guid": "db3ae38d-2c3e-43ee-8128-185a2dc7d3ff"
            }
        },
        {
            "cell_type": "code",
            "source": [
                "SELECT TOP 5 I.Interes, COUNT(*) AS Total FROM Interes_Usuario U\r\n",
                "INNER JOIN Interes I ON U.ID_Interes=I.ID_Interes\r\n",
                "GROUP BY I.Interes\r\n",
                "ORDER BY Total DESC"
            ],
            "metadata": {
                "azdata_cell_guid": "6b10f61b-7a3e-4308-8518-f558dc6c4bea",
                "tags": []
            },
            "outputs": [],
            "execution_count": 68
        },
        {
            "cell_type": "markdown",
            "source": [
                "## 17\r\n",
                "Los usuarios que no han registrado visitas"
            ],
            "metadata": {
                "azdata_cell_guid": "f5ad5f10-6f80-48c6-b7cf-ab4baec462e0"
            }
        },
        {
            "cell_type": "code",
            "source": [
                "SELECT U.Nickname FROM Usuario U\r\n",
                "WHERE Nickname NOT IN (SELECT Nickname FROM Visita)"
            ],
            "metadata": {
                "azdata_cell_guid": "1e59acac-f391-42c2-8adc-a5f411c04544"
            },
            "outputs": [],
            "execution_count": 69
        },
        {
            "cell_type": "markdown",
            "source": [
                "## 18\r\n",
                "Los lugares que visita la persona de menor edad"
            ],
            "metadata": {
                "azdata_cell_guid": "17582d70-5dd1-4141-9e97-43610d634172"
            }
        },
        {
            "cell_type": "code",
            "source": [
                "DECLARE @Menor INT\r\n",
                "SELECT @Menor=MIN(DATEDIFF(YEAR,Fecha_Nacimiento,GETDATE())) FROM Usuario\r\n",
                "\r\n",
                "SELECT DISTINCT L.Nombre FROM Lugar L\r\n",
                "INNER JOIN Visita V ON L.ID_Lugar=V.ID_Lugar\r\n",
                "INNER JOIN Usuario U ON V.Nickname=U.Nickname\r\n",
                "WHERE DATEDIFF(YEAR,U.Fecha_Nacimiento,GETDATE())=@Menor"
            ],
            "metadata": {
                "azdata_cell_guid": "c743f332-c1e6-4282-8fee-8c2471439597"
            },
            "outputs": [],
            "execution_count": 70
        },
        {
            "cell_type": "markdown",
            "source": [
                "## 19\r\n",
                "Obtener los 5 lugares más visitados por personas entre 18 y 23 años"
            ],
            "metadata": {
                "azdata_cell_guid": "4ec63f23-ef2d-4380-8604-13678e656413"
            }
        },
        {
            "cell_type": "code",
            "source": [
                "SELECT TOP 5 COUNT(*) AS Visitas, L.Nombre FROM VISITA V\r\n",
                "INNER JOIN USUARIO U ON V.Nickname = U.Nickname\r\n",
                "INNER JOIN Lugar L ON L.ID_Lugar=V.ID_Lugar\r\n",
                "WHERE DATEDIFF(YEAR,U.Fecha_Nacimiento,GETDATE())>=18 AND DATEDIFF(YEAR,U.Fecha_Nacimiento,GETDATE())<23\r\n",
                "GROUP BY L.Nombre\r\n",
                "ORDER BY Visitas DESC"
            ],
            "metadata": {
                "azdata_cell_guid": "4f699e20-5285-4c49-ba4a-fdaaf40be2d7"
            },
            "outputs": [],
            "execution_count": 71
        },
        {
            "cell_type": "markdown",
            "source": [
                "## 20\r\n",
                "Los lugares que tienen calificacion por debajo del promedio"
            ],
            "metadata": {
                "azdata_cell_guid": "a9c21353-2d66-4132-8dbc-ce3459251c94"
            }
        },
        {
            "cell_type": "code",
            "source": [
                "Declare @promedio INT\r\n",
                "Select @promedio=AVG(Valoracion) from Visita\r\n",
                "\r\n",
                "SELECT L.Nombre, AVG(V.Valoracion) as Promedio FROM Lugar L\r\n",
                "INNER JOIN Visita V ON V.ID_Lugar=L.ID_Lugar\r\n",
                "GROUP BY L.Nombre\r\n",
                "HAVING AVG(V.Valoracion)<@promedio\r\n",
                "ORDER BY Promedio"
            ],
            "metadata": {
                "azdata_cell_guid": "d079707d-8249-4361-921e-7076e40c6e57"
            },
            "outputs": [],
            "execution_count": 72
        },
        {
            "cell_type": "markdown",
            "source": [
                "## 21\r\n",
                "Registros de las visitas con la mayor califación"
            ],
            "metadata": {
                "azdata_cell_guid": "14f17002-785c-4599-9801-764f0dec5780"
            }
        },
        {
            "cell_type": "code",
            "source": [
                "DECLARE @Max INT\r\n",
                "SELECT @Max=Max(Valoracion) FROM Visita\r\n",
                "\r\n",
                "SELECT Nickname, COALESCE(Comentario, ' ') as Comentarios, Valoracion, Fecha FROM Visita\r\n",
                "WHERE Valoracion=@Max"
            ],
            "metadata": {
                "azdata_cell_guid": "8619db6d-1181-418b-a98e-592da8c7db3c",
                "tags": []
            },
            "outputs": [],
            "execution_count": 73
        },
        {
            "cell_type": "markdown",
            "source": [
                "## 22\r\n",
                "Cuántos usuarios hay registrados por ciudad"
            ],
            "metadata": {
                "azdata_cell_guid": "f8c0b7b9-6117-4f90-8227-aa7efa353972"
            }
        },
        {
            "cell_type": "code",
            "source": [
                "SELECT C.Ciudad, COUNT(*) as [Total Usuarios] FROM Usuario U\r\n",
                "INNER JOIN Ciudad C ON U.ID_Ciudad=C.ID_Ciudad\r\n",
                "GROUP BY C.Ciudad"
            ],
            "metadata": {
                "azdata_cell_guid": "3eb5c7b5-184f-4d24-b3df-a648e086985b"
            },
            "outputs": [],
            "execution_count": 74
        },
        {
            "cell_type": "markdown",
            "source": [
                "## 23\r\n",
                "Cuáles son los comentarios que tiene Taipak MonteCarlo"
            ],
            "metadata": {
                "azdata_cell_guid": "17057d79-9c52-4a5a-a8ef-cbc82416bdf7"
            }
        },
        {
            "cell_type": "code",
            "source": [
                "SELECT COALESCE(V.Comentario,'') as Comentarios FROM Visita V\r\n",
                "INNER JOIN Lugar L ON V.ID_Lugar=L.ID_Lugar\r\n",
                "WHERE L.Nombre='Taipak MonteCarlo'"
            ],
            "metadata": {
                "azdata_cell_guid": "c295483c-fd6b-4ce9-84dc-b12a1d2f3fd5"
            },
            "outputs": [],
            "execution_count": 75
        },
        {
            "cell_type": "markdown",
            "source": [
                "## 24\r\n",
                "Cuántas visitas hay registradas en **MUSIK**"
            ],
            "metadata": {
                "azdata_cell_guid": "ff820b4d-c533-49e2-b8e2-34668a585fe9"
            }
        },
        {
            "cell_type": "code",
            "source": [
                "SELECT COUNT(*) AS Visitas FROM Visita V\r\n",
                "INNER JOIN Lugar L ON V.ID_Lugar=L.ID_Lugar\r\n",
                "WHERE L.Nombre='MUSIK'"
            ],
            "metadata": {
                "azdata_cell_guid": "af841529-08b8-406d-a0f7-563b9e43069a"
            },
            "outputs": [],
            "execution_count": 76
        },
        {
            "cell_type": "markdown",
            "source": [
                "## 25\r\n",
                "Se desea saber si hay logros que no han sido conseguidos"
            ],
            "metadata": {
                "azdata_cell_guid": "a39ba334-6a66-47ea-9676-632ae0403c77"
            }
        },
        {
            "cell_type": "code",
            "source": [
                "WITH Conseguidos (Nombre, ID, Total)\r\n",
                "AS(\r\n",
                "    SELECT L.Nombre, L.ID_Logro, Count(*) FROM Logro_Usuario LU\r\n",
                "    INNER JOIN Logro L ON LU.ID_Logro=L.ID_Logro\r\n",
                "    --WHERE L.ID_Logro\r\n",
                "    GROUP BY L.Nombre, L.ID_Logro\r\n",
                ")\r\n",
                "SELECT L.Nombre, L.ID_Logro FROM Logro_Usuario LU\r\n",
                "FULL JOIN Logro L ON LU.ID_Logro=L.ID_Logro\r\n",
                "WHERE L.ID_Logro NOT IN (Select ID FROM Conseguidos)\r\n",
                "GROUP BY L.Nombre, L.ID_Logro"
            ],
            "metadata": {
                "azdata_cell_guid": "ed4d92c7-afb5-48f9-8f02-2af885086e96",
                "tags": []
            },
            "outputs": [],
            "execution_count": 77
        },
        {
            "cell_type": "markdown",
            "source": [
                "## 26\r\n",
                "Quién es el usuario que más logros ha conseguido"
            ],
            "metadata": {
                "azdata_cell_guid": "8d239f2a-9d33-43e2-a1c6-9c4e2a05b147"
            }
        },
        {
            "cell_type": "code",
            "source": [
                "SELECT TOP 1 U.Nickname, COUNT(*) as [Logros conseguidos] FROM Logro_Usuario L\r\n",
                "INNER JOIN Usuario U ON L.Nickname=U.Nickname\r\n",
                "GROUP BY U.Nickname\r\n",
                "ORDER BY [Logros conseguidos] DESC"
            ],
            "metadata": {
                "azdata_cell_guid": "4a2edf99-47ae-44a7-97db-e420bc70f0c0"
            },
            "outputs": [],
            "execution_count": 78
        },
        {
            "cell_type": "markdown",
            "source": [
                "## 27\r\n",
                "Cuáles son los lugares que han sido visitados en el año actual"
            ],
            "metadata": {
                "azdata_cell_guid": "26b0b392-2902-4dfc-999c-8e8f6d318f82"
            }
        },
        {
            "cell_type": "code",
            "source": [
                "SELECT L.Nombre FROM Lugar L\r\n",
                "INNER JOIN Visita V ON L.ID_Lugar=V.ID_Lugar\r\n",
                "WHERE YEAR(V.Fecha)=YEAR(GETDATE())"
            ],
            "metadata": {
                "azdata_cell_guid": "45317999-ba80-4fe9-8d48-b4cd22d484c7"
            },
            "outputs": [],
            "execution_count": 79
        },
        {
            "cell_type": "markdown",
            "source": [
                "## 28\r\n",
                "Qué lugares de los visitados durante 2019 tuvieron comentarios de __Muy malo__"
            ],
            "metadata": {
                "azdata_cell_guid": "5aa468ab-08d8-46b9-99a4-6f389d41c071"
            }
        },
        {
            "cell_type": "code",
            "source": [
                "SELECT L.Nombre FROM Lugar L\r\n",
                "INNER JOIN Visita V ON L.ID_Lugar=V.ID_Lugar\r\n",
                "WHERE Comentario='Muy malo'"
            ],
            "metadata": {
                "azdata_cell_guid": "c5b8e4ca-c6a1-4c4d-a444-8fac1a65aa4c"
            },
            "outputs": [],
            "execution_count": 80
        },
        {
            "cell_type": "markdown",
            "source": [
                "## 29\r\n",
                "Qué lugares hay registrados en Guadalajara"
            ],
            "metadata": {
                "azdata_cell_guid": "542f2ca3-1215-4eb3-8d68-388913051207"
            }
        },
        {
            "cell_type": "code",
            "source": [
                "SELECT L.Nombre FROM Lugar L\r\n",
                "INNER JOIN Ciudad C ON L.ID_Ciudad=C.ID_Ciudad\r\n",
                "WHERE C.Ciudad='Guadalajara'"
            ],
            "metadata": {
                "azdata_cell_guid": "8bafff98-715a-4263-9339-b16ebe903eec"
            },
            "outputs": [],
            "execution_count": 81
        },
        {
            "cell_type": "markdown",
            "source": [
                "## 30\r\n",
                "Cuáles son los 3 usuarios más activos"
            ],
            "metadata": {
                "azdata_cell_guid": "d608eda3-ff13-412d-8fcf-ac908f15feea"
            }
        },
        {
            "cell_type": "code",
            "source": [
                "SELECT TOP 3 U.Nickname, COUNT(*) [Total de visitas] FROM Visita V\r\n",
                "INNER JOIN Usuario U ON V.Nickname=U.Nickname\r\n",
                "GROUP BY U.Nickname\r\n",
                "ORDER BY [Total de visitas] DESC"
            ],
            "metadata": {
                "azdata_cell_guid": "369688de-3ee0-41b3-9164-edab2f2b84a1"
            },
            "outputs": [],
            "execution_count": 82
        },
        {
            "cell_type": "markdown",
            "source": [
                "## 31\r\n",
                "Cuáles son los 3 intereses menos populares"
            ],
            "metadata": {
                "azdata_cell_guid": "35946904-2abd-4dc7-99f4-c7f59d6d64ea"
            }
        },
        {
            "cell_type": "code",
            "source": [
                "SELECT TOP 3 I.Interes, count(*) as Cantidad FROM USUARIO U \r\n",
                "INNER JOIN INTERES_USUARIO IU\r\n",
                "ON U.Nickname=IU.Nickname \r\n",
                "INNER JOIN INTERES I \r\n",
                "ON IU.ID_Interes=I.ID_Interes \r\n",
                "GROUP BY Interes\r\n",
                "ORDER BY Cantidad ASC"
            ],
            "metadata": {
                "azdata_cell_guid": "2e1482f9-58cf-4e4f-ba73-e9e4b4e913c5"
            },
            "outputs": [],
            "execution_count": 83
        },
        {
            "cell_type": "markdown",
            "source": [
                "## 32\r\n",
                "Mostrar la cantidad de visitas que tuvo cada lugar en cada año"
            ],
            "metadata": {
                "azdata_cell_guid": "2054e698-c702-4ffe-aa0d-941b6916e7d6"
            }
        },
        {
            "cell_type": "code",
            "source": [
                "WITH [CantVisitas] (ID_Lugar, Fecha, Cantidad)\r\n",
                "as \r\n",
                "(\r\n",
                "    Select L.ID_Lugar, DATEPART(YY,Fecha), count(*) as Cantidad from VISITA V \r\n",
                "    INNER JOIN LUGAR L \r\n",
                "    ON V.ID_Lugar=L.ID_Lugar \r\n",
                "    GROUP BY L.ID_Lugar, Fecha\r\n",
                ")\r\n",
                "\r\n",
                "Select ID_Lugar, COALESCE([2010], ' ') as [2010],COALESCE([2011], ' ') as [2011],COALESCE([2012], ' ') as [2012],COALESCE([2013], ' ') as [2013],\r\n",
                "                 COALESCE([2014], ' ') as [2014],COALESCE([2015], ' ') as [2015],COALESCE([2016], ' ') as [2016],COALESCE([2017], ' ') as [2017],\r\n",
                "                 COALESCE([2018], ' ') as [2018],COALESCE([2019], ' ') as [2019],COALESCE([2020], ' ') as [2020] from CantVisitas\r\n",
                "PIVOT \r\n",
                "(\r\n",
                "    SUM(Cantidad)\r\n",
                "    FOR Fecha IN ([2010],[2011],[2012],[2013],[2014],[2015],[2016],[2017],[2018],[2019],[2020])\r\n",
                ") AS VisitasPorAño"
            ],
            "metadata": {
                "azdata_cell_guid": "aeaf8f2f-479e-49fe-a233-2b093c466534"
            },
            "outputs": [],
            "execution_count": 84
        },
        {
            "cell_type": "markdown",
            "source": [
                "## 33\r\n",
                "Mostrar las ultimas 5 visitas que se los usuarios han hecho en distintas ciudades"
            ],
            "metadata": {
                "azdata_cell_guid": "efcef107-976a-45be-86e9-dd5e0e99a1dd"
            }
        },
        {
            "cell_type": "code",
            "source": [
                "Select TOP 5 U.Nickname, L.Nombre, V.Fecha from VISITA V \r\n",
                "INNER JOIN USUARIO U \r\n",
                "ON V.Nickname=U.Nickname\r\n",
                "INNER JOIN Lugar L \r\n",
                "ON V.ID_Lugar=L.ID_Lugar \r\n",
                "WHERE L.ID_Ciudad<>U.ID_Ciudad\r\n",
                "ORDER BY V.Fecha DESC"
            ],
            "metadata": {
                "azdata_cell_guid": "4bf89475-26bb-40fe-9e62-c39a02ee3cfa"
            },
            "outputs": [],
            "execution_count": 85
        },
        {
            "cell_type": "markdown",
            "source": [
                "## 34\r\n",
                "Mostrar los usuarios que nunca han salido de la ciudad"
            ],
            "metadata": {
                "azdata_cell_guid": "f27e3dbc-d8c3-4561-bdfd-f3c93a67f2a6"
            }
        },
        {
            "cell_type": "code",
            "source": [
                "Select Nickname from USUARIO\r\n",
                "WHERE Nickname not in (SELECT DISTINCT U.Nickname AS Usuario FROM USUARIO U \r\n",
                "                            INNER JOIN VISITA V \r\n",
                "                            ON U.Nickname=V.Nickname\r\n",
                "                            INNER JOIN LUGAR L \r\n",
                "                            ON V.ID_Lugar=L.ID_Lugar\r\n",
                "                            WHERE U.ID_Ciudad<>L.ID_Ciudad)"
            ],
            "metadata": {
                "azdata_cell_guid": "048eb80e-78a1-44d2-a11b-65e13d4048cf"
            },
            "outputs": [],
            "execution_count": 86
        },
        {
            "cell_type": "markdown",
            "source": [
                "## 35\r\n",
                "Muestra las 2 ciudades mas populares (las que tienen mas visitas)"
            ],
            "metadata": {
                "azdata_cell_guid": "f59c9b72-95e0-48fe-b742-58c0c5379176"
            }
        },
        {
            "cell_type": "code",
            "source": [
                "SELECT TOP 2 C.Ciudad, COUNT(*) as Visitas FROM VISITA V \r\n",
                "INNER JOIN LUGAR L \r\n",
                "ON V.ID_Lugar=L.ID_LUGAR \r\n",
                "INNER JOIN Ciudad C \r\n",
                "ON L.ID_Ciudad=C.ID_Ciudad\r\n",
                "GROUP BY C.Ciudad\r\n",
                "ORDER BY Visitas DESC"
            ],
            "metadata": {
                "azdata_cell_guid": "58240687-e4fc-4de9-84e8-e7e85501068d"
            },
            "outputs": [],
            "execution_count": 87
        },
        {
            "cell_type": "markdown",
            "source": [
                "## 36\r\n",
                "Muestra todas las etiquetas que hay en Culiacan"
            ],
            "metadata": {
                "azdata_cell_guid": "443688d2-0ed2-454a-8f66-54034cc546bf"
            }
        },
        {
            "cell_type": "code",
            "source": [
                "SELECT DISTINCT E.ID_Etiqueta, Nombre_Eti FROM LUGAR L \r\n",
                "INNER JOIN ETIQUETA E \r\n",
                "ON L.ID_Etiqueta=E.ID_Etiqueta \r\n",
                "WHERE L.ID_Ciudad=1"
            ],
            "metadata": {
                "azdata_cell_guid": "31a7727a-f60c-4085-a906-101051047377"
            },
            "outputs": [],
            "execution_count": 88
        },
        {
            "cell_type": "markdown",
            "source": [
                "## 37\r\n",
                "Muestra todos los logros que hayan sido conseguidos por al menos 1 usuario"
            ],
            "metadata": {
                "azdata_cell_guid": "f25aa5cd-dc6a-4d7c-993d-d92a4c83fa5f"
            }
        },
        {
            "cell_type": "code",
            "source": [
                "SELECT DISTINCT L.ID_Logro, L.Nombre FROM LOGRO L \r\n",
                "INNER JOIN LOGRO_USUARIO LU \r\n",
                "ON L.ID_Logro=LU.ID_Logro "
            ],
            "metadata": {
                "azdata_cell_guid": "5b75ec3b-9496-4997-ac1a-a22d5d2610c6"
            },
            "outputs": [],
            "execution_count": 89
        },
        {
            "cell_type": "markdown",
            "source": [
                "## 38\r\n",
                "Muestra cual es la etiqueta mas comun entre todos los lugares"
            ],
            "metadata": {
                "azdata_cell_guid": "b8b92dae-dc0c-4ff4-a727-67b318345111"
            }
        },
        {
            "cell_type": "code",
            "source": [
                "SELECT TOP 1 E.ID_Etiqueta,  E.Nombre_eti, Count(*) as Cantidad FROM ETIQUETA E \r\n",
                "INNER JOIN LUGAR L \r\n",
                "ON E.ID_Etiqueta=L.ID_Etiqueta\r\n",
                "GROUP BY E.ID_Etiqueta, E.Nombre_eti\r\n",
                "ORDER BY Cantidad DESC"
            ],
            "metadata": {
                "azdata_cell_guid": "57c09ff0-7ee1-42f5-b58b-50828aec36e9"
            },
            "outputs": [],
            "execution_count": 90
        },
        {
            "cell_type": "markdown",
            "source": [
                "## 39\r\n",
                "Muestra en que año se hicieron mas visitas"
            ],
            "metadata": {
                "azdata_cell_guid": "b041636d-17aa-416d-a372-ddde180260aa"
            }
        },
        {
            "cell_type": "code",
            "source": [
                "SELECT TOP 1 DATEPART(YY, Fecha) as Año, COUNT(*) as [Cantidad de Visitas] FROM VISITA\r\n",
                "GROUP BY DATEPART(YY, Fecha)\r\n",
                "ORDER BY [Cantidad de Visitas] DESC"
            ],
            "metadata": {
                "azdata_cell_guid": "e401e582-e6f3-4d5b-899e-319432feed69"
            },
            "outputs": [],
            "execution_count": 91
        },
        {
            "cell_type": "markdown",
            "source": [
                "## 40\r\n",
                "Muestra cuales son los 2 intereses mas comunes entre los usuarios con una edad entre 18 y 30 años"
            ],
            "metadata": {
                "azdata_cell_guid": "a4737490-083b-419e-b954-84b0d2d81be1"
            }
        },
        {
            "cell_type": "code",
            "source": [
                "SELECT TOP 2 I.Interes, COUNT(*) as Cantidad  FROM USUARIO U \r\n",
                "INNER JOIN INTERES_USUARIO IU \r\n",
                "ON U.Nickname=IU.Nickname\r\n",
                "INNER JOIN INTERES I \r\n",
                "ON IU.ID_interes=I.ID_interes\r\n",
                "WHERE DATEDIFF(YEAR,U.Fecha_Nacimiento,GETDATE())>=18 and DATEDIFF(YEAR,U.Fecha_Nacimiento,GETDATE())<=30\r\n",
                "GROUP BY I.Interes \r\n",
                "ORDER BY Cantidad DESC"
            ],
            "metadata": {
                "azdata_cell_guid": "0a7fff9b-9730-4ae3-853e-029f45cf46cd"
            },
            "outputs": [],
            "execution_count": 92
        },
        {
            "cell_type": "markdown",
            "source": [
                "## 41\r\n",
                "Mostrar cuáles son los lugares con la etiqueta de **Música** o **Peliculas**"
            ],
            "metadata": {
                "azdata_cell_guid": "8b7a0a73-be2e-4b6f-880b-d01808875e07"
            }
        },
        {
            "cell_type": "code",
            "source": [
                "SELECT L.Nombre, E.Nombre_Eti as Etiqueta FROM Lugar L\r\n",
                "INNER JOIN Etiqueta E ON L.ID_Etiqueta=E.ID_Etiqueta\r\n",
                "WHERE E.Nombre_Eti='Música' OR E.Nombre_Eti='Peliculas'"
            ],
            "metadata": {
                "azdata_cell_guid": "1f117cb5-33a7-4d8e-beb0-5a2cc6283d0f"
            },
            "outputs": [],
            "execution_count": 93
        },
        {
            "cell_type": "markdown",
            "source": [
                "## 42\r\n",
                "Mostrar los lugares con la categoría **Tienda Departamental**"
            ],
            "metadata": {
                "azdata_cell_guid": "c26b1322-cefa-4041-b13a-b3111a943679"
            }
        },
        {
            "cell_type": "code",
            "source": [
                "SELECT L.Nombre FROM Lugar L\r\n",
                "INNER JOIN Categoria C ON L.ID_Categoria=C.ID_Categoria\r\n",
                "WHERE C.Descripcion='Tienda Departamental'"
            ],
            "metadata": {
                "azdata_cell_guid": "9ebb6255-bf0d-43cf-afc6-d2b875c66939"
            },
            "outputs": [],
            "execution_count": 94
        },
        {
            "cell_type": "markdown",
            "source": [
                "## 43\r\n",
                "Qué lugares se visitaron durante diciembre del 2019"
            ],
            "metadata": {
                "azdata_cell_guid": "c660cddb-28a4-49cb-9485-a2499aee2a6d"
            }
        },
        {
            "cell_type": "code",
            "source": [
                "SELECT L.Nombre FROM Lugar L\r\n",
                "INNER JOIN Visita V ON L.ID_Lugar=V.ID_Lugar\r\n",
                "WHERE YEAR(V.Fecha)=2019 AND MONTH(V.Fecha)=12"
            ],
            "metadata": {
                "azdata_cell_guid": "5688226e-6c08-445f-a09e-12e8f3be38a7"
            },
            "outputs": [],
            "execution_count": 95
        },
        {
            "cell_type": "markdown",
            "source": [
                "## 44\r\n",
                "Quiénes son los usuarios que están interesados en el coleccionismo"
            ],
            "metadata": {
                "azdata_cell_guid": "edf4fc7a-2dec-451c-880e-5068dbe0f88e"
            }
        },
        {
            "cell_type": "code",
            "source": [
                "SELECT U.Nickname FROM Usuario U\r\n",
                "INNER JOIN Interes_Usuario IU ON U.Nickname=IU.Nickname\r\n",
                "INNER JOIN Interes I ON IU.ID_Interes=I.ID_Interes\r\n",
                "WHERE I.Interes='Coleccionismo'"
            ],
            "metadata": {
                "azdata_cell_guid": "ce434e7c-3a37-4613-b3bf-26b5528e5a0c"
            },
            "outputs": [],
            "execution_count": 96
        },
        {
            "cell_type": "markdown",
            "source": [
                "## 45\r\n",
                "Qué lugares y en qué fecha fueron visitados los lugares con la categoría de **Estadios**"
            ],
            "metadata": {
                "azdata_cell_guid": "74dfb22f-1797-40a9-9ea3-ad1af9657b4c"
            }
        },
        {
            "cell_type": "code",
            "source": [
                "SELECT L.Nombre, V.Fecha FROM Visita V\r\n",
                "INNER JOIN Lugar L ON L.ID_Lugar=V.ID_Lugar\r\n",
                "INNER JOIN Categoria C ON L.ID_Categoria=C.ID_Categoria\r\n",
                "WHERE C.Descripcion='Estadios'\r\n",
                "ORDER BY Fecha"
            ],
            "metadata": {
                "azdata_cell_guid": "ac643e9f-30fe-4246-a7a9-661e62722fff"
            },
            "outputs": [],
            "execution_count": 97
        },
        {
            "cell_type": "markdown",
            "source": [
                "## 46\r\n",
                "Cuál es el lugar que es menos frecuentado por los hombres"
            ],
            "metadata": {
                "azdata_cell_guid": "b6440290-26a1-4427-a7c4-eb561454da99"
            }
        },
        {
            "cell_type": "code",
            "source": [
                "WITH Frecuencia(Nombre, Visitas )\r\n",
                "AS \r\n",
                "(\r\n",
                "    SELECT L.Nombre, count(*) AS Visitas FROM LUGAR L \r\n",
                "    INNER JOIN VISITA V ON L.ID_Lugar=V.ID_Lugar\r\n",
                "    INNER JOIN USUARIO U ON V.Nickname=U.Nickname\r\n",
                "    WHERE U.Sexo='M'\r\n",
                "    GROUP BY L.Nombre\r\n",
                ")\r\n",
                "SELECT TOP 1 * FROM Frecuencia\r\n",
                "ORDER BY Visitas ASC"
            ],
            "metadata": {
                "azdata_cell_guid": "2b62ab58-e117-4e99-973b-7289eee573fa"
            },
            "outputs": [],
            "execution_count": 98
        },
        {
            "cell_type": "markdown",
            "source": [
                "## 47\r\n",
                "Mostrar a los usuarios que han hecho check-in en **KFC Insurgentes**"
            ],
            "metadata": {
                "azdata_cell_guid": "9597bca5-6bd6-41e4-bd35-0738b95bfcfe"
            }
        },
        {
            "cell_type": "code",
            "source": [
                "SELECT U.Nickname FROM Usuario U\r\n",
                "INNER JOIN Visita V ON U.Nickname=V.Nickname\r\n",
                "INNER JOIN Lugar L ON V.ID_Lugar=L.ID_Lugar\r\n",
                "WHERE L.Nombre='KFC Insurgentes'"
            ],
            "metadata": {
                "azdata_cell_guid": "16466871-e18a-448d-a03f-639f6da15ea8"
            },
            "outputs": [],
            "execution_count": 99
        },
        {
            "cell_type": "markdown",
            "source": [
                "## 48\r\n",
                "Cuáles son los lugares cuya categoría sea **Tienda de Ropa** y fueron visitados en 2018"
            ],
            "metadata": {
                "azdata_cell_guid": "e249424f-45ce-46ad-9d70-f49ea5d90383"
            }
        },
        {
            "cell_type": "code",
            "source": [
                "SELECT L.Nombre, Fecha FROM Lugar L\r\n",
                "INNER JOIN Categoria C ON L.ID_Categoria=C.ID_Categoria\r\n",
                "INNER JOIN Visita V ON L.ID_Lugar=V.ID_Lugar\r\n",
                "WHERE C.Descripcion='Tienda de Ropa' AND YEAR(V.Fecha)=2018"
            ],
            "metadata": {
                "azdata_cell_guid": "d7af397c-df39-4526-9668-a551a5ae3aa5"
            },
            "outputs": [],
            "execution_count": 100
        },
        {
            "cell_type": "markdown",
            "source": [
                "## 49\r\n",
                "Mostrar a los usuarios que han hecho check-in en **Sams Club 3 Rios** o en **Panamá Insurgentes** o en **Banbajío**; además de las veces que lo han hecho"
            ],
            "metadata": {
                "azdata_cell_guid": "3fa741e3-8bd5-45fc-96ef-a55f6c073714"
            }
        },
        {
            "cell_type": "code",
            "source": [
                "SELECT U.Nickname as Usuario, L.Nombre, COUNT(*) as [Número de visitas] FROM Visita V\r\n",
                "INNER JOIN Usuario U ON U.Nickname=V.Nickname\r\n",
                "INNER JOIN Lugar L ON V.ID_Lugar=L.ID_Lugar\r\n",
                "WHERE L.Nombre='Sams Club 3 Rios' OR L.Nombre='Panamá Insurgentes' OR L.Nombre='Banbajío'\r\n",
                "GROUP BY U.Nickname, L.Nombre\r\n",
                "ORDER BY Usuario, L.Nombre, [Número de visitas] ASC"
            ],
            "metadata": {
                "azdata_cell_guid": "67219c97-6045-47f5-bd90-886d8e469cf7"
            },
            "outputs": [],
            "execution_count": 101
        },
        {
            "cell_type": "markdown",
            "source": [
                "## 50\r\n",
                "Mostrar los lugares asociados a restaurantes y que se realizaron check-in en 2019"
            ],
            "metadata": {
                "azdata_cell_guid": "800dd072-cb18-4957-9ffe-7c6a981a589f"
            }
        },
        {
            "cell_type": "code",
            "source": [
                "SELECT L.Nombre, Fecha FROM Lugar L\r\n",
                "INNER JOIN Categoria C ON L.ID_Categoria=C.ID_Categoria\r\n",
                "INNER JOIN Visita V ON L.ID_Lugar=V.ID_Lugar\r\n",
                "WHERE C.Descripcion='Restaurantes' AND YEAR(Fecha)=2019"
            ],
            "metadata": {
                "azdata_cell_guid": "d801e5fc-2df3-4362-9823-463d5196cc54"
            },
            "outputs": [],
            "execution_count": 102
        }
    ]
}