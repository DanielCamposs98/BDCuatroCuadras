{
    "metadata": {
        "kernelspec": {
            "name": "SQL",
            "display_name": "SQL",
            "language": "sql"
        },
        "language_info": {
            "name": "sql",
            "version": ""
        }
    },
    "nbformat_minor": 2,
    "nbformat": 4,
    "cells": [
        {
            "cell_type": "code",
            "source": [
                "USE CuatroCuadras"
            ],
            "metadata": {
                "azdata_cell_guid": "4ad6b0b9-325e-4786-92bd-5f282f217a3c"
            },
            "outputs": [
                {
                    "output_type": "display_data",
                    "data": {
                        "text/html": "Commands completed successfully."
                    },
                    "metadata": {}
                },
                {
                    "output_type": "display_data",
                    "data": {
                        "text/html": "Total execution time: 00:00:00.095"
                    },
                    "metadata": {}
                }
            ],
            "execution_count": 1
        },
        {
            "cell_type": "markdown",
            "source": [
                "# Cuatro Cuadras #\r\n",
                "## Consultas##"
            ],
            "metadata": {
                "azdata_cell_guid": "aba30fb8-9cd7-4865-a7c0-2543a1450dcf"
            }
        },
        {
            "cell_type": "markdown",
            "source": [
                "## 1\n",
                "Qué lugares son los más frecuentados por personas mayores a 45 años"
            ],
            "metadata": {
                "azdata_cell_guid": "b0e4859a-8826-4fd1-aefa-f3f569ec8ca4"
            }
        },
        {
            "cell_type": "code",
            "source": [
                "SELECT TOP 3 count(*) AS visitas, L.ID_Lugar, L.Nombre FROM Lugar L\r\n",
                "INNER JOIN Visita V  \r\n",
                "ON L.ID_Lugar=V.ID_Lugar\r\n",
                "INNER JOIN Usuario U \r\n",
                "ON V.Nickname=U.Nickname\r\n",
                "WHERE U.Edad>45\r\n",
                "GROUP BY L.ID_Lugar, L.Nombre"
            ],
            "metadata": {
                "azdata_cell_guid": "35e45fc1-79b8-47fb-9df4-d1236ea30b9f",
                "tags": []
            },
            "outputs": [
                {
                    "output_type": "display_data",
                    "data": {
                        "text/html": "(3 rows affected)"
                    },
                    "metadata": {}
                },
                {
                    "output_type": "display_data",
                    "data": {
                        "text/html": "Total execution time: 00:00:00.057"
                    },
                    "metadata": {}
                },
                {
                    "output_type": "execute_result",
                    "metadata": {},
                    "execution_count": 8,
                    "data": {
                        "application/vnd.dataresource+json": {
                            "schema": {
                                "fields": [
                                    {
                                        "name": "visitas"
                                    },
                                    {
                                        "name": "ID_Lugar"
                                    },
                                    {
                                        "name": "Nombre"
                                    }
                                ]
                            },
                            "data": [
                                {
                                    "0": "1",
                                    "1": "5",
                                    "2": "Estadio Teodoro Mariscal"
                                },
                                {
                                    "0": "1",
                                    "1": "9",
                                    "2": "Pemex"
                                },
                                {
                                    "0": "1",
                                    "1": "10",
                                    "2": "Farmacia Guadalajara"
                                }
                            ]
                        },
                        "text/html": "<table><tr><th>visitas</th><th>ID_Lugar</th><th>Nombre</th></tr><tr><td>1</td><td>5</td><td>Estadio Teodoro Mariscal</td></tr><tr><td>1</td><td>9</td><td>Pemex</td></tr><tr><td>1</td><td>10</td><td>Farmacia Guadalajara</td></tr></table>"
                    }
                }
            ],
            "execution_count": 8
        },
        {
            "cell_type": "markdown",
            "source": [
                "## 2\r\n",
                "Cuáles son los dos lugares menos visitados"
            ],
            "metadata": {
                "azdata_cell_guid": "af53f7b8-8f99-41b2-ae8b-d2689ce442ee"
            }
        },
        {
            "cell_type": "code",
            "source": [
                "SELECT TOP 2 count(*) AS Visitas, L.ID_Lugar, L.Nombre FROM LUGAR L \r\n",
                "INNER JOIN VISITA V \r\n",
                "ON L.ID_Lugar=V.ID_Lugar\r\n",
                "GROUP BY L.ID_Lugar, L.Nombre\r\n",
                "ORDER BY Visitas ASC"
            ],
            "metadata": {
                "azdata_cell_guid": "0a318f78-b80b-49b2-8f2d-a1e516932f07"
            },
            "outputs": [
                {
                    "output_type": "display_data",
                    "data": {
                        "text/html": "(2 rows affected)"
                    },
                    "metadata": {}
                },
                {
                    "output_type": "display_data",
                    "data": {
                        "text/html": "Total execution time: 00:00:00.069"
                    },
                    "metadata": {}
                },
                {
                    "output_type": "execute_result",
                    "metadata": {},
                    "execution_count": 11,
                    "data": {
                        "application/vnd.dataresource+json": {
                            "schema": {
                                "fields": [
                                    {
                                        "name": "Visitas"
                                    },
                                    {
                                        "name": "ID_Lugar"
                                    },
                                    {
                                        "name": "Nombre"
                                    }
                                ]
                            },
                            "data": [
                                {
                                    "0": "1",
                                    "1": "7",
                                    "2": "KFC Insurgentes"
                                },
                                {
                                    "0": "1",
                                    "1": "15",
                                    "2": "Banbajío"
                                }
                            ]
                        },
                        "text/html": "<table><tr><th>Visitas</th><th>ID_Lugar</th><th>Nombre</th></tr><tr><td>1</td><td>7</td><td>KFC Insurgentes</td></tr><tr><td>1</td><td>15</td><td>Banbajío</td></tr></table>"
                    }
                }
            ],
            "execution_count": 11
        },
        {
            "cell_type": "markdown",
            "source": [
                "## 3\r\n",
                "Cuáles son los lugares que tienen \"muy malo\" o \"malo\" como comentario y ningun \"Muy Bueno\", \"bueno\" o \"excelente\""
            ],
            "metadata": {
                "azdata_cell_guid": "dd3ff265-b458-4084-bc3c-6127eadc68f7"
            }
        },
        {
            "cell_type": "code",
            "source": [
                "SELECT DISTINCT L.ID_Lugar, L.Nombre FROM Lugar L\r\n",
                "INNER JOIN VISITA V \r\n",
                "ON L.ID_Lugar=V.ID_Lugar\r\n",
                "WHERE v.Comentario LIKE '%malo%' AND V.ID_Lugar NOT IN \r\n",
                "(SELECT DISTINCT ID_Lugar FROM Visita WHERE Comentario LIKE '%bueno%' OR Comentario LIKE '%excelente%' OR Comentario LIKE '%Muy bueno%')\r\n",
                ""
            ],
            "metadata": {
                "azdata_cell_guid": "529f5c44-707c-4f93-9e69-72d3489f89d5"
            },
            "outputs": [
                {
                    "output_type": "display_data",
                    "data": {
                        "text/html": "(1 row affected)"
                    },
                    "metadata": {}
                },
                {
                    "output_type": "display_data",
                    "data": {
                        "text/html": "Total execution time: 00:00:02.960"
                    },
                    "metadata": {}
                },
                {
                    "output_type": "execute_result",
                    "metadata": {},
                    "execution_count": 17,
                    "data": {
                        "application/vnd.dataresource+json": {
                            "schema": {
                                "fields": [
                                    {
                                        "name": "ID_Lugar"
                                    },
                                    {
                                        "name": "Nombre"
                                    }
                                ]
                            },
                            "data": [
                                {
                                    "0": "13",
                                    "1": "USE Navolato"
                                }
                            ]
                        },
                        "text/html": "<table><tr><th>ID_Lugar</th><th>Nombre</th></tr><tr><td>13</td><td>USE Navolato</td></tr></table>"
                    }
                }
            ],
            "execution_count": 17
        },
        {
            "cell_type": "markdown",
            "source": [
                "## 4\n",
                "Cuáles son los 3 lugares qué cuentan con la mejor valoración"
            ],
            "metadata": {
                "azdata_cell_guid": "02621451-14e6-4ecd-b8b9-205e7c4f9969"
            }
        },
        {
            "cell_type": "code",
            "source": [
                "WITH Promedio (ID_Lugar, Nombre, Valoracion)\r\n",
                "AS\r\n",
                "(\r\n",
                "    SELECT l.ID_Lugar, L.Nombre, AVG(V.Valoracion) AS ValoracionTotal FROM LUGAR L\r\n",
                "    INNER JOIN VISITA V \r\n",
                "    ON L.ID_Lugar=V.ID_Lugar\r\n",
                "    GROUP BY L.ID_Lugar, L.Nombre\r\n",
                ")\r\n",
                "SELECT TOP 3 * FROM Promedio\r\n",
                "ORDER BY Valoracion DESC"
            ],
            "metadata": {
                "azdata_cell_guid": "dd5d1329-37fd-40db-a5c4-dc247d392790"
            },
            "outputs": [
                {
                    "output_type": "display_data",
                    "data": {
                        "text/html": "(3 rows affected)"
                    },
                    "metadata": {}
                },
                {
                    "output_type": "display_data",
                    "data": {
                        "text/html": "Total execution time: 00:00:00.091"
                    },
                    "metadata": {}
                },
                {
                    "output_type": "execute_result",
                    "metadata": {},
                    "execution_count": 20,
                    "data": {
                        "application/vnd.dataresource+json": {
                            "schema": {
                                "fields": [
                                    {
                                        "name": "ID_Lugar"
                                    },
                                    {
                                        "name": "Nombre"
                                    },
                                    {
                                        "name": "Valoracion"
                                    }
                                ]
                            },
                            "data": [
                                {
                                    "0": "21",
                                    "1": "The Barber Shop",
                                    "2": "9"
                                },
                                {
                                    "0": "9",
                                    "1": "Pemex",
                                    "2": "8"
                                },
                                {
                                    "0": "10",
                                    "1": "Farmacia Guadalajara",
                                    "2": "8"
                                }
                            ]
                        },
                        "text/html": "<table><tr><th>ID_Lugar</th><th>Nombre</th><th>Valoracion</th></tr><tr><td>21</td><td>The Barber Shop</td><td>9</td></tr><tr><td>9</td><td>Pemex</td><td>8</td></tr><tr><td>10</td><td>Farmacia Guadalajara</td><td>8</td></tr></table>"
                    }
                }
            ],
            "execution_count": 20
        },
        {
            "cell_type": "markdown",
            "source": [
                "## 5\r\n",
                "Qué usuarios han obtenido cuando menos un logro"
            ],
            "metadata": {
                "azdata_cell_guid": "6f76dd58-5c0a-4d89-8963-260bec13450f"
            }
        },
        {
            "cell_type": "code",
            "source": [
                "SELECT * FROM USUARIO U \r\n",
                "WHERE U.Nickname IN (SELECT Nickname FROM LOGRO_USUARIO)"
            ],
            "metadata": {
                "azdata_cell_guid": "87fd8f2a-12f4-4fa6-a0cd-89af71091d50"
            },
            "outputs": [
                {
                    "output_type": "display_data",
                    "data": {
                        "text/html": "(5 rows affected)"
                    },
                    "metadata": {}
                },
                {
                    "output_type": "display_data",
                    "data": {
                        "text/html": "Total execution time: 00:00:01.011"
                    },
                    "metadata": {}
                },
                {
                    "output_type": "execute_result",
                    "metadata": {},
                    "execution_count": 22,
                    "data": {
                        "application/vnd.dataresource+json": {
                            "schema": {
                                "fields": [
                                    {
                                        "name": "Nickname"
                                    },
                                    {
                                        "name": "Nombre"
                                    },
                                    {
                                        "name": "Apellidos"
                                    },
                                    {
                                        "name": "Sexo"
                                    },
                                    {
                                        "name": "Edad"
                                    },
                                    {
                                        "name": "Email"
                                    },
                                    {
                                        "name": "Contraseña"
                                    },
                                    {
                                        "name": "ID_Ciudad"
                                    }
                                ]
                            },
                            "data": [
                                {
                                    "0": "AnaALV",
                                    "1": "Ana Maria",
                                    "2": "Alvarez Castelo",
                                    "3": "F",
                                    "4": "26",
                                    "5": "MarianaALV@hotmail.com",
                                    "6": "MariAnaLV1582",
                                    "7": "6"
                                },
                                {
                                    "0": "Coronavirus",
                                    "1": "Angel",
                                    "2": "Gomez Bravo",
                                    "3": "M",
                                    "4": "19",
                                    "5": "CoronaPandamiaVirus@hotmail.com",
                                    "6": "AntiVacunas2020",
                                    "7": "6"
                                },
                                {
                                    "0": "Luiz",
                                    "1": "Luis",
                                    "2": "Lopez Lopez",
                                    "3": "M",
                                    "4": "30",
                                    "5": "LuisLopezAlCuadrado@hotmail.com",
                                    "6": "LopezAlCuadrado",
                                    "7": "1"
                                },
                                {
                                    "0": "SandCast",
                                    "1": "Sandra",
                                    "2": "Flores Castilla",
                                    "3": "F",
                                    "4": "16",
                                    "5": "SandraCast@hotmail.com",
                                    "6": "Sandra1235",
                                    "7": "4"
                                },
                                {
                                    "0": "XxXGokuXxX",
                                    "1": "Juan",
                                    "2": "Perez Perez",
                                    "3": "M",
                                    "4": "14",
                                    "5": "XxXGokuSSJXxX@hotmail.com",
                                    "6": "ContraseñaDeLaCIA",
                                    "7": "4"
                                }
                            ]
                        },
                        "text/html": "<table><tr><th>Nickname</th><th>Nombre</th><th>Apellidos</th><th>Sexo</th><th>Edad</th><th>Email</th><th>Contraseña</th><th>ID_Ciudad</th></tr><tr><td>AnaALV</td><td>Ana Maria</td><td>Alvarez Castelo</td><td>F</td><td>26</td><td>MarianaALV@hotmail.com</td><td>MariAnaLV1582</td><td>6</td></tr><tr><td>Coronavirus</td><td>Angel</td><td>Gomez Bravo</td><td>M</td><td>19</td><td>CoronaPandamiaVirus@hotmail.com</td><td>AntiVacunas2020</td><td>6</td></tr><tr><td>Luiz</td><td>Luis</td><td>Lopez Lopez</td><td>M</td><td>30</td><td>LuisLopezAlCuadrado@hotmail.com</td><td>LopezAlCuadrado</td><td>1</td></tr><tr><td>SandCast</td><td>Sandra</td><td>Flores Castilla</td><td>F</td><td>16</td><td>SandraCast@hotmail.com</td><td>Sandra1235</td><td>4</td></tr><tr><td>XxXGokuXxX</td><td>Juan</td><td>Perez Perez</td><td>M</td><td>14</td><td>XxXGokuSSJXxX@hotmail.com</td><td>ContraseñaDeLaCIA</td><td>4</td></tr></table>"
                    }
                }
            ],
            "execution_count": 22
        },
        {
            "cell_type": "markdown",
            "source": [
                "## 6\n",
                "Cuáles han sido los usuarios que han hecho visitas en una cidad distina a la de su origen"
            ],
            "metadata": {
                "azdata_cell_guid": "83e6b977-22c5-46f7-b91c-81cb90516f2e"
            }
        },
        {
            "cell_type": "code",
            "source": [
                "SELECT DISTINCT U.Nickname AS Usuario FROM USUARIO U \r\n",
                "INNER JOIN VISITA V \r\n",
                "ON U.Nickname=V.Nickname\r\n",
                "INNER JOIN LUGAR L \r\n",
                "ON V.ID_Lugar=L.ID_Lugar\r\n",
                "WHERE U.ID_Ciudad<>L.ID_Ciudad"
            ],
            "metadata": {
                "azdata_cell_guid": "9b1bb5fa-be23-4189-989e-e08f60358a0c"
            },
            "outputs": [
                {
                    "output_type": "display_data",
                    "data": {
                        "text/html": "(16 rows affected)"
                    },
                    "metadata": {}
                },
                {
                    "output_type": "display_data",
                    "data": {
                        "text/html": "Total execution time: 00:00:00.049"
                    },
                    "metadata": {}
                },
                {
                    "output_type": "execute_result",
                    "metadata": {},
                    "execution_count": 24,
                    "data": {
                        "application/vnd.dataresource+json": {
                            "schema": {
                                "fields": [
                                    {
                                        "name": "Nickname"
                                    }
                                ]
                            },
                            "data": [
                                {
                                    "0": "AlizV5"
                                },
                                {
                                    "0": "AnaALV"
                                },
                                {
                                    "0": "Angel224"
                                },
                                {
                                    "0": "Coronavirus"
                                },
                                {
                                    "0": "CuentaFeik"
                                },
                                {
                                    "0": "Diana129"
                                },
                                {
                                    "0": "Emilian99"
                                },
                                {
                                    "0": "GabiLuna"
                                },
                                {
                                    "0": "JoseCarl"
                                },
                                {
                                    "0": "Luiz"
                                },
                                {
                                    "0": "Mari"
                                },
                                {
                                    "0": "MenitaXD98"
                                },
                                {
                                    "0": "MigueMF"
                                },
                                {
                                    "0": "Panchogo94"
                                },
                                {
                                    "0": "SandCast"
                                },
                                {
                                    "0": "XxXGokuXxX"
                                }
                            ]
                        },
                        "text/html": "<table><tr><th>Nickname</th></tr><tr><td>AlizV5</td></tr><tr><td>AnaALV</td></tr><tr><td>Angel224</td></tr><tr><td>Coronavirus</td></tr><tr><td>CuentaFeik</td></tr><tr><td>Diana129</td></tr><tr><td>Emilian99</td></tr><tr><td>GabiLuna</td></tr><tr><td>JoseCarl</td></tr><tr><td>Luiz</td></tr><tr><td>Mari</td></tr><tr><td>MenitaXD98</td></tr><tr><td>MigueMF</td></tr><tr><td>Panchogo94</td></tr><tr><td>SandCast</td></tr><tr><td>XxXGokuXxX</td></tr></table>"
                    }
                }
            ],
            "execution_count": 24
        },
        {
            "cell_type": "markdown",
            "source": [
                "## 7\n",
                "Qué usuarios han hecho amistad con usuarios de una ciudad distinta a la de ellos"
            ],
            "metadata": {
                "azdata_cell_guid": "acd9f071-3c4d-43e1-8693-4d65bf312fd6"
            }
        },
        {
            "cell_type": "code",
            "source": [
                "SELECT A.Nickname1 AS [Usuario 1], A.Nickname2 AS [Usuario 2] FROM AMIGO A \r\n",
                "INNER JOIN USUARIO U \r\n",
                "ON A.Nickname1=U.Nickname\r\n",
                "INNER JOIN USUARIO U2 \r\n",
                "ON A.Nickname2=U2.Nickname\r\n",
                "WHERE U.ID_Ciudad<>U2.ID_Ciudad"
            ],
            "metadata": {
                "azdata_cell_guid": "f45bfee2-ed97-4819-86ab-5db5d84a1fc6"
            },
            "outputs": [
{
    "output_type": "display_data",
    "data": {
        "text/html": "(16 rows affected)"
    },
    "metadata": {}
}, {
    "output_type": "display_data",
    "data": {
        "text/html": "Total execution time: 00:00:00.048"
    },
    "metadata": {}
}, {
    "output_type": "execute_result",
    "metadata": {},
    "execution_count": 38,
    "data": {
        "application/vnd.dataresource+json": {
            "schema": {
                "fields": [
                    {
                        "name": "Usuario 1"
                    },
                    {
                        "name": "Usuario 2"
                    }
                ]
            },
            "data": [
                {
                    "0": "AnaALV",
                    "1": "Mari"
                },
                {
                    "0": "Angel224",
                    "1": "Diana129"
                },
                {
                    "0": "Coronavirus",
                    "1": "Angel224"
                },
                {
                    "0": "Diana129",
                    "1": "Mari"
                },
                {
                    "0": "Emilian99",
                    "1": "AnaALV"
                },
                {
                    "0": "GabiLuna",
                    "1": "RamLop99"
                },
                {
                    "0": "JoseCarl",
                    "1": "MenitaXD98"
                },
                {
                    "0": "JoseCarl",
                    "1": "XxXGokuXxX"
                },
                {
                    "0": "Luiz",
                    "1": "Coronavirus"
                },
                {
                    "0": "Luiz",
                    "1": "Mari"
                },
                {
                    "0": "MigueMF",
                    "1": "AlizV5"
                },
                {
                    "0": "Panchogo94",
                    "1": "CuentaFeik"
                },
                {
                    "0": "Panchogo94",
                    "1": "MenitaXD98"
                },
                {
                    "0": "RamLop99",
                    "1": "AnaALV"
                },
                {
                    "0": "SandCast",
                    "1": "CuentaFeik"
                },
                {
                    "0": "SandCast",
                    "1": "Panchogo94"
                }
            ]
        },
        "text/html": "<table><tr><th>Usuario 1</th><th>Usuario 2</th></tr><tr><td>AnaALV</td><td>Mari</td></tr><tr><td>Angel224</td><td>Diana129</td></tr><tr><td>Coronavirus</td><td>Angel224</td></tr><tr><td>Diana129</td><td>Mari</td></tr><tr><td>Emilian99</td><td>AnaALV</td></tr><tr><td>GabiLuna</td><td>RamLop99</td></tr><tr><td>JoseCarl</td><td>MenitaXD98</td></tr><tr><td>JoseCarl</td><td>XxXGokuXxX</td></tr><tr><td>Luiz</td><td>Coronavirus</td></tr><tr><td>Luiz</td><td>Mari</td></tr><tr><td>MigueMF</td><td>AlizV5</td></tr><tr><td>Panchogo94</td><td>CuentaFeik</td></tr><tr><td>Panchogo94</td><td>MenitaXD98</td></tr><tr><td>RamLop99</td><td>AnaALV</td></tr><tr><td>SandCast</td><td>CuentaFeik</td></tr><tr><td>SandCast</td><td>Panchogo94</td></tr></table>"
    }
}
],
            "execution_count": 38
        },
        {
            "cell_type": "markdown",
            "source": [
                "## 8\r\n",
                "Se requiere saber el lugar más frecuentado por mujeres"
            ],
            "metadata": {
                "azdata_cell_guid": "fa7fea6d-e0ea-41a3-a51d-458c7233b9e1"
            }
        },
        {
            "cell_type": "code",
            "source": [
                "WITH Frecuencia(Nombre, Visitas )\r\n",
                "AS \r\n",
                "(\r\n",
                "    SELECT L.Nombre, count(*) AS Visitas FROM LUGAR L \r\n",
                "    INNER JOIN VISITA V \r\n",
                "    ON L.ID_Lugar=V.ID_Lugar\r\n",
                "    INNER JOIN USUARIO U \r\n",
                "    ON V.Nickname=U.Nickname\r\n",
                "    WHERE U.Sexo='F'\r\n",
                "    GROUP BY L.Nombre\r\n",
                ")\r\n",
                "SELECT TOP 1 * FROM Frecuencia\r\n",
                "ORDER BY Visitas DESC"
            ],
            "metadata": {
                "azdata_cell_guid": "05eff936-5d14-43a3-a69d-2bad4b69f18a"
            },
            "outputs": [
{
    "output_type": "display_data",
    "data": {
        "text/html": "(1 row affected)"
    },
    "metadata": {}
}, {
    "output_type": "display_data",
    "data": {
        "text/html": "Total execution time: 00:00:00.143"
    },
    "metadata": {}
}, {
    "output_type": "execute_result",
    "metadata": {},
    "execution_count": 37,
    "data": {
        "application/vnd.dataresource+json": {
            "schema": {
                "fields": [
                    {
                        "name": "Nombre"
                    },
                    {
                        "name": "Visitas"
                    }
                ]
            },
            "data": [
                {
                    "0": "Estadio Teodoro Mariscal",
                    "1": "3"
                }
            ]
        },
        "text/html": "<table><tr><th>Nombre</th><th>Visitas</th></tr><tr><td>Estadio Teodoro Mariscal</td><td>3</td></tr></table>"
    }
}
],
            "execution_count": 37
        },
        {
            "cell_type": "markdown",
            "source": [
                "## 9\r\n",
                "Conocer todos los usuarios que han comentado con \"Muy malo\" a sus visitas"
            ],
            "metadata": {
                "azdata_cell_guid": "2d2dddf8-ffd0-429c-93b2-632a50f7d3fc"
            }
        },
        {
            "cell_type": "code",
            "source": [
                "SELECT U.Nickname FROM VISITA V \r\n",
                "INNER JOIN USUARIO U \r\n",
                "ON V.Nickname=U.Nickname \r\n",
                "WHERE V.Comentario='Muy malo'"
            ],
            "metadata": {
                "azdata_cell_guid": "b96eac3b-9239-4636-8c50-608181fd1f56"
            },
            "outputs": [
                {
                    "output_type": "display_data",
                    "data": {
                        "text/html": "(5 rows affected)"
                    },
                    "metadata": {}
                },
                {
                    "output_type": "display_data",
                    "data": {
                        "text/html": "Total execution time: 00:00:00.107"
                    },
                    "metadata": {}
                },
                {
                    "output_type": "execute_result",
                    "metadata": {},
                    "execution_count": 31,
                    "data": {
                        "application/vnd.dataresource+json": {
                            "schema": {
                                "fields": [
                                    {
                                        "name": "Nickname"
                                    }
                                ]
                            },
                            "data": [
                                {
                                    "0": "Angel224"
                                },
                                {
                                    "0": "Luiz"
                                },
                                {
                                    "0": "Coronavirus"
                                },
                                {
                                    "0": "SandCast"
                                },
                                {
                                    "0": "XxXGokuXxX"
                                }
                            ]
                        },
                        "text/html": "<table><tr><th>Nickname</th></tr><tr><td>Angel224</td></tr><tr><td>Luiz</td></tr><tr><td>Coronavirus</td></tr><tr><td>SandCast</td></tr><tr><td>XxXGokuXxX</td></tr></table>"
                    }
                }
            ],
            "execution_count": 31
        },
        {
            "cell_type": "markdown",
            "source": [
                "## 10\r\n",
                "Se desea saber cuál es el promedio de valoración de todos los lugares"
            ],
            "metadata": {
                "azdata_cell_guid": "d8c91c82-5574-4d0f-bbf0-e690136f0a8f"
            }
        },
        {
            "cell_type": "code",
            "source": [
                "SELECT L.Nombre,  AVG(V.Valoracion) AS Valoracion FROM LUGAR L \n",
                "INNER JOIN VISITA V \n",
                "ON L.ID_Lugar=V.ID_Lugar \n",
                "GROUP BY L.Nombre"
            ],
            "metadata": {
                "azdata_cell_guid": "b820186c-3f83-4228-9063-56dfc9ac4d16"
            },
            "outputs": [
{
    "output_type": "display_data",
    "data": {
        "text/html": "(21 rows affected)"
    },
    "metadata": {}
}, {
    "output_type": "display_data",
    "data": {
        "text/html": "Total execution time: 00:00:00.047"
    },
    "metadata": {}
}, {
    "output_type": "execute_result",
    "metadata": {},
    "execution_count": 36,
    "data": {
        "application/vnd.dataresource+json": {
            "schema": {
                "fields": [
                    {
                        "name": "Nombre"
                    },
                    {
                        "name": "Valoracion"
                    }
                ]
            },
            "data": [
                {
                    "0": "Aeropuerto Internacional de Tijuana",
                    "1": "7"
                },
                {
                    "0": "Banbajío",
                    "1": "6"
                },
                {
                    "0": "Cinemex Navolato",
                    "1": "7"
                },
                {
                    "0": "Estadio Teodoro Mariscal",
                    "1": "7"
                },
                {
                    "0": "Estadio Tomateros",
                    "1": "7"
                },
                {
                    "0": "Farmacia Guadalajara",
                    "1": "8"
                },
                {
                    "0": "Fühler",
                    "1": "6"
                },
                {
                    "0": "Hospital Ángeles",
                    "1": "6"
                },
                {
                    "0": "KFC Insurgentes",
                    "1": "2"
                },
                {
                    "0": "Ley Primavera",
                    "1": "7"
                },
                {
                    "0": "MUSIK",
                    "1": "6"
                },
                {
                    "0": "Panamá Insurgentes",
                    "1": "6"
                },
                {
                    "0": "Parque Sinaloa",
                    "1": "6"
                },
                {
                    "0": "Pemex",
                    "1": "8"
                },
                {
                    "0": "Sams Club 3 Rios",
                    "1": "5"
                },
                {
                    "0": "Sears Plaza Rio",
                    "1": "6"
                },
                {
                    "0": "Soriana Hiper",
                    "1": "6"
                },
                {
                    "0": "Taipak MonteCarlo",
                    "1": "7"
                },
                {
                    "0": "The Barber Shop",
                    "1": "9"
                },
                {
                    "0": "USE Navolato",
                    "1": "6"
                },
                {
                    "0": "Zona de Vestir Medrano",
                    "1": "8"
                }
            ]
        },
        "text/html": "<table><tr><th>Nombre</th><th>Valoracion</th></tr><tr><td>Aeropuerto Internacional de Tijuana</td><td>7</td></tr><tr><td>Banbajío</td><td>6</td></tr><tr><td>Cinemex Navolato</td><td>7</td></tr><tr><td>Estadio Teodoro Mariscal</td><td>7</td></tr><tr><td>Estadio Tomateros</td><td>7</td></tr><tr><td>Farmacia Guadalajara</td><td>8</td></tr><tr><td>Fühler</td><td>6</td></tr><tr><td>Hospital Ángeles</td><td>6</td></tr><tr><td>KFC Insurgentes</td><td>2</td></tr><tr><td>Ley Primavera</td><td>7</td></tr><tr><td>MUSIK</td><td>6</td></tr><tr><td>Panamá Insurgentes</td><td>6</td></tr><tr><td>Parque Sinaloa</td><td>6</td></tr><tr><td>Pemex</td><td>8</td></tr><tr><td>Sams Club 3 Rios</td><td>5</td></tr><tr><td>Sears Plaza Rio</td><td>6</td></tr><tr><td>Soriana Hiper</td><td>6</td></tr><tr><td>Taipak MonteCarlo</td><td>7</td></tr><tr><td>The Barber Shop</td><td>9</td></tr><tr><td>USE Navolato</td><td>6</td></tr><tr><td>Zona de Vestir Medrano</td><td>8</td></tr></table>"
    }
}
],
            "execution_count": 36
        }
    ]
}