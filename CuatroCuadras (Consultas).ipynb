{
    "metadata": {
        "kernelspec": {
            "name": "SQL",
            "display_name": "SQL",
            "language": "sql"
        },
        "language_info": {
            "name": "sql",
            "version": ""
        }
    },
    "nbformat_minor": 2,
    "nbformat": 4,
    "cells": [
        {
            "cell_type": "code",
            "source": [
                "USE CuatroCuadras"
            ],
            "metadata": {
                "azdata_cell_guid": "4ad6b0b9-325e-4786-92bd-5f282f217a3c"
            },
            "outputs": [
                {
                    "output_type": "display_data",
                    "data": {
                        "text/html": "Commands completed successfully."
                    },
                    "metadata": {}
                },
                {
                    "output_type": "display_data",
                    "data": {
                        "text/html": "Total execution time: 00:00:00.559"
                    },
                    "metadata": {}
                }
            ],
            "execution_count": 1
        },
        {
            "cell_type": "markdown",
            "source": [
                "# Cuatro Cuadras #\r\n",
                "## Consultas##"
            ],
            "metadata": {
                "azdata_cell_guid": "aba30fb8-9cd7-4865-a7c0-2543a1450dcf"
            }
        },
        {
            "cell_type": "markdown",
            "source": [
                "## 1\n",
                "Qué lugares son los más frecuentados por personas mayores a 45 años"
            ],
            "metadata": {
                "azdata_cell_guid": "b0e4859a-8826-4fd1-aefa-f3f569ec8ca4"
            }
        },
        {
            "cell_type": "code",
            "source": [
                "SELECT TOP 3 count(*) AS visitas, L.ID_Lugar, L.Nombre FROM Lugar L\r\n",
                "INNER JOIN Visita V  \r\n",
                "ON L.ID_Lugar=V.ID_Lugar\r\n",
                "INNER JOIN Usuario U \r\n",
                "ON V.Nickname=U.Nickname\r\n",
                "WHERE U.Edad>45\r\n",
                "GROUP BY L.ID_Lugar, L.Nombre"
            ],
            "metadata": {
                "azdata_cell_guid": "35e45fc1-79b8-47fb-9df4-d1236ea30b9f",
                "tags": []
            },
            "outputs": [
                {
                    "output_type": "display_data",
                    "data": {
                        "text/html": "(3 rows affected)"
                    },
                    "metadata": {}
                },
                {
                    "output_type": "display_data",
                    "data": {
                        "text/html": "Total execution time: 00:00:00.057"
                    },
                    "metadata": {}
                },
                {
                    "output_type": "execute_result",
                    "execution_count": 8,
                    "data": {
                        "application/vnd.dataresource+json": {
                            "schema": {
                                "fields": [
                                    {
                                        "name": "visitas"
                                    },
                                    {
                                        "name": "ID_Lugar"
                                    },
                                    {
                                        "name": "Nombre"
                                    }
                                ]
                            },
                            "data": [
                                {
                                    "0": "1",
                                    "1": "5",
                                    "2": "Estadio Teodoro Mariscal"
                                },
                                {
                                    "0": "1",
                                    "1": "9",
                                    "2": "Pemex"
                                },
                                {
                                    "0": "1",
                                    "1": "10",
                                    "2": "Farmacia Guadalajara"
                                }
                            ]
                        },
                        "text/html": "<table><tr><th>visitas</th><th>ID_Lugar</th><th>Nombre</th></tr><tr><td>1</td><td>5</td><td>Estadio Teodoro Mariscal</td></tr><tr><td>1</td><td>9</td><td>Pemex</td></tr><tr><td>1</td><td>10</td><td>Farmacia Guadalajara</td></tr></table>"
                    },
                    "metadata": {}
                }
            ],
            "execution_count": 8
        },
        {
            "cell_type": "markdown",
            "source": [
                "## 2\r\n",
                "Cuáles son los dos lugares menos visitados"
            ],
            "metadata": {
                "azdata_cell_guid": "af53f7b8-8f99-41b2-ae8b-d2689ce442ee"
            }
        },
        {
            "cell_type": "code",
            "source": [
                "SELECT TOP 2 count(*) AS Visitas, L.ID_Lugar, L.Nombre FROM LUGAR L \r\n",
                "INNER JOIN VISITA V \r\n",
                "ON L.ID_Lugar=V.ID_Lugar\r\n",
                "GROUP BY L.ID_Lugar, L.Nombre\r\n",
                "ORDER BY Visitas ASC"
            ],
            "metadata": {
                "azdata_cell_guid": "0a318f78-b80b-49b2-8f2d-a1e516932f07"
            },
            "outputs": [
                {
                    "output_type": "display_data",
                    "data": {
                        "text/html": "(2 rows affected)"
                    },
                    "metadata": {}
                },
                {
                    "output_type": "display_data",
                    "data": {
                        "text/html": "Total execution time: 00:00:00.069"
                    },
                    "metadata": {}
                },
                {
                    "output_type": "execute_result",
                    "execution_count": 11,
                    "data": {
                        "application/vnd.dataresource+json": {
                            "schema": {
                                "fields": [
                                    {
                                        "name": "Visitas"
                                    },
                                    {
                                        "name": "ID_Lugar"
                                    },
                                    {
                                        "name": "Nombre"
                                    }
                                ]
                            },
                            "data": [
                                {
                                    "0": "1",
                                    "1": "7",
                                    "2": "KFC Insurgentes"
                                },
                                {
                                    "0": "1",
                                    "1": "15",
                                    "2": "Banbajío"
                                }
                            ]
                        },
                        "text/html": "<table><tr><th>Visitas</th><th>ID_Lugar</th><th>Nombre</th></tr><tr><td>1</td><td>7</td><td>KFC Insurgentes</td></tr><tr><td>1</td><td>15</td><td>Banbajío</td></tr></table>"
                    },
                    "metadata": {}
                }
            ],
            "execution_count": 11
        },
        {
            "cell_type": "markdown",
            "source": [
                "## 3\r\n",
                "Cuáles son los lugares que tienen \"muy malo\" o \"malo\" como comentario y ningun \"Muy Bueno\", \"bueno\" o \"excelente\""
            ],
            "metadata": {
                "azdata_cell_guid": "dd3ff265-b458-4084-bc3c-6127eadc68f7"
            }
        },
        {
            "cell_type": "code",
            "source": [
                "SELECT DISTINCT L.ID_Lugar, L.Nombre FROM Lugar L\r\n",
                "INNER JOIN VISITA V \r\n",
                "ON L.ID_Lugar=V.ID_Lugar\r\n",
                "WHERE v.Comentario LIKE '%malo%' AND V.ID_Lugar NOT IN \r\n",
                "(SELECT DISTINCT ID_Lugar FROM Visita WHERE Comentario LIKE '%bueno%' OR Comentario LIKE '%excelente%' OR Comentario LIKE '%Muy bueno%')\r\n",
                ""
            ],
            "metadata": {
                "azdata_cell_guid": "529f5c44-707c-4f93-9e69-72d3489f89d5"
            },
            "outputs": [
                {
                    "output_type": "display_data",
                    "data": {
                        "text/html": "(1 row affected)"
                    },
                    "metadata": {}
                },
                {
                    "output_type": "display_data",
                    "data": {
                        "text/html": "Total execution time: 00:00:02.960"
                    },
                    "metadata": {}
                },
                {
                    "output_type": "execute_result",
                    "execution_count": 17,
                    "data": {
                        "application/vnd.dataresource+json": {
                            "schema": {
                                "fields": [
                                    {
                                        "name": "ID_Lugar"
                                    },
                                    {
                                        "name": "Nombre"
                                    }
                                ]
                            },
                            "data": [
                                {
                                    "0": "13",
                                    "1": "USE Navolato"
                                }
                            ]
                        },
                        "text/html": "<table><tr><th>ID_Lugar</th><th>Nombre</th></tr><tr><td>13</td><td>USE Navolato</td></tr></table>"
                    },
                    "metadata": {}
                }
            ],
            "execution_count": 17
        },
        {
            "cell_type": "markdown",
            "source": [
                "## 4\n",
                "Cuáles son los 3 lugares qué cuentan con la mejor valoración"
            ],
            "metadata": {
                "azdata_cell_guid": "02621451-14e6-4ecd-b8b9-205e7c4f9969"
            }
        },
        {
            "cell_type": "code",
            "source": [
                "WITH Promedio (ID_Lugar, Nombre, Valoracion)\r\n",
                "AS\r\n",
                "(\r\n",
                "    SELECT l.ID_Lugar, L.Nombre, AVG(V.Valoracion) AS ValoracionTotal FROM LUGAR L\r\n",
                "    INNER JOIN VISITA V \r\n",
                "    ON L.ID_Lugar=V.ID_Lugar\r\n",
                "    GROUP BY L.ID_Lugar, L.Nombre\r\n",
                ")\r\n",
                "SELECT TOP 3 * FROM Promedio\r\n",
                "ORDER BY Valoracion DESC"
            ],
            "metadata": {
                "azdata_cell_guid": "dd5d1329-37fd-40db-a5c4-dc247d392790"
            },
            "outputs": [
                {
                    "output_type": "display_data",
                    "data": {
                        "text/html": "(3 rows affected)"
                    },
                    "metadata": {}
                },
                {
                    "output_type": "display_data",
                    "data": {
                        "text/html": "Total execution time: 00:00:00.091"
                    },
                    "metadata": {}
                },
                {
                    "output_type": "execute_result",
                    "execution_count": 20,
                    "data": {
                        "application/vnd.dataresource+json": {
                            "schema": {
                                "fields": [
                                    {
                                        "name": "ID_Lugar"
                                    },
                                    {
                                        "name": "Nombre"
                                    },
                                    {
                                        "name": "Valoracion"
                                    }
                                ]
                            },
                            "data": [
                                {
                                    "0": "21",
                                    "1": "The Barber Shop",
                                    "2": "9"
                                },
                                {
                                    "0": "9",
                                    "1": "Pemex",
                                    "2": "8"
                                },
                                {
                                    "0": "10",
                                    "1": "Farmacia Guadalajara",
                                    "2": "8"
                                }
                            ]
                        },
                        "text/html": "<table><tr><th>ID_Lugar</th><th>Nombre</th><th>Valoracion</th></tr><tr><td>21</td><td>The Barber Shop</td><td>9</td></tr><tr><td>9</td><td>Pemex</td><td>8</td></tr><tr><td>10</td><td>Farmacia Guadalajara</td><td>8</td></tr></table>"
                    },
                    "metadata": {}
                }
            ],
            "execution_count": 20
        },
        {
            "cell_type": "markdown",
            "source": [
                "## 5\r\n",
                "Qué usuarios han obtenido cuando menos un logro"
            ],
            "metadata": {
                "azdata_cell_guid": "6f76dd58-5c0a-4d89-8963-260bec13450f"
            }
        },
        {
            "cell_type": "code",
            "source": [
                "SELECT Nickname, CONCAT(Nombre, ' ', Apellidos) as Nombre FROM USUARIO U \r\n",
                "WHERE U.Nickname IN (SELECT Nickname FROM LOGRO_USUARIO)"
            ],
            "metadata": {
                "azdata_cell_guid": "87fd8f2a-12f4-4fa6-a0cd-89af71091d50"
            },
            "outputs": [
                {
                    "output_type": "display_data",
                    "data": {
                        "text/html": "(5 rows affected)"
                    },
                    "metadata": {}
                },
                {
                    "output_type": "display_data",
                    "data": {
                        "text/html": "Total execution time: 00:00:00.061"
                    },
                    "metadata": {}
                },
                {
                    "output_type": "execute_result",
                    "execution_count": 220,
                    "data": {
                        "application/vnd.dataresource+json": {
                            "schema": {
                                "fields": [
                                    {
                                        "name": "Nickname"
                                    },
                                    {
                                        "name": "Nombre"
                                    }
                                ]
                            },
                            "data": [
                                {
                                    "0": "AnaALV",
                                    "1": "Ana Maria Alvarez Castelo"
                                },
                                {
                                    "0": "Coronavirus",
                                    "1": "Angel Gomez Bravo"
                                },
                                {
                                    "0": "Luiz",
                                    "1": "Luis Lopez Lopez"
                                },
                                {
                                    "0": "SandCast",
                                    "1": "Sandra Flores Castilla"
                                },
                                {
                                    "0": "XxXGokuXxX",
                                    "1": "Juan Perez Perez"
                                }
                            ]
                        },
                        "text/html": "<table><tr><th>Nickname</th><th>Nombre</th></tr><tr><td>AnaALV</td><td>Ana Maria Alvarez Castelo</td></tr><tr><td>Coronavirus</td><td>Angel Gomez Bravo</td></tr><tr><td>Luiz</td><td>Luis Lopez Lopez</td></tr><tr><td>SandCast</td><td>Sandra Flores Castilla</td></tr><tr><td>XxXGokuXxX</td><td>Juan Perez Perez</td></tr></table>"
                    },
                    "metadata": {}
                }
            ],
            "execution_count": 220
        },
        {
            "cell_type": "markdown",
            "source": [
                "## 6\n",
                "Cuáles han sido los usuarios que han hecho visitas en una ciudad distina a la de su origen"
            ],
            "metadata": {
                "azdata_cell_guid": "83e6b977-22c5-46f7-b91c-81cb90516f2e"
            }
        },
        {
            "cell_type": "code",
            "source": [
                "SELECT DISTINCT U.Nickname AS Usuario FROM USUARIO U \r\n",
                "INNER JOIN VISITA V \r\n",
                "ON U.Nickname=V.Nickname\r\n",
                "INNER JOIN LUGAR L \r\n",
                "ON V.ID_Lugar=L.ID_Lugar\r\n",
                "WHERE U.ID_Ciudad<>L.ID_Ciudad"
            ],
            "metadata": {
                "azdata_cell_guid": "9b1bb5fa-be23-4189-989e-e08f60358a0c"
            },
            "outputs": [
                {
                    "output_type": "display_data",
                    "data": {
                        "text/html": "(16 rows affected)"
                    },
                    "metadata": {}
                },
                {
                    "output_type": "display_data",
                    "data": {
                        "text/html": "Total execution time: 00:00:00.049"
                    },
                    "metadata": {}
                },
                {
                    "output_type": "execute_result",
                    "execution_count": 24,
                    "data": {
                        "application/vnd.dataresource+json": {
                            "schema": {
                                "fields": [
                                    {
                                        "name": "Nickname"
                                    }
                                ]
                            },
                            "data": [
                                {
                                    "0": "AlizV5"
                                },
                                {
                                    "0": "AnaALV"
                                },
                                {
                                    "0": "Angel224"
                                },
                                {
                                    "0": "Coronavirus"
                                },
                                {
                                    "0": "CuentaFeik"
                                },
                                {
                                    "0": "Diana129"
                                },
                                {
                                    "0": "Emilian99"
                                },
                                {
                                    "0": "GabiLuna"
                                },
                                {
                                    "0": "JoseCarl"
                                },
                                {
                                    "0": "Luiz"
                                },
                                {
                                    "0": "Mari"
                                },
                                {
                                    "0": "MenitaXD98"
                                },
                                {
                                    "0": "MigueMF"
                                },
                                {
                                    "0": "Panchogo94"
                                },
                                {
                                    "0": "SandCast"
                                },
                                {
                                    "0": "XxXGokuXxX"
                                }
                            ]
                        },
                        "text/html": "<table><tr><th>Nickname</th></tr><tr><td>AlizV5</td></tr><tr><td>AnaALV</td></tr><tr><td>Angel224</td></tr><tr><td>Coronavirus</td></tr><tr><td>CuentaFeik</td></tr><tr><td>Diana129</td></tr><tr><td>Emilian99</td></tr><tr><td>GabiLuna</td></tr><tr><td>JoseCarl</td></tr><tr><td>Luiz</td></tr><tr><td>Mari</td></tr><tr><td>MenitaXD98</td></tr><tr><td>MigueMF</td></tr><tr><td>Panchogo94</td></tr><tr><td>SandCast</td></tr><tr><td>XxXGokuXxX</td></tr></table>"
                    },
                    "metadata": {}
                }
            ],
            "execution_count": 24
        },
        {
            "cell_type": "markdown",
            "source": [
                "## 7\n",
                "Qué usuarios han hecho amistad con usuarios de una ciudad distinta a la de ellos"
            ],
            "metadata": {
                "azdata_cell_guid": "acd9f071-3c4d-43e1-8693-4d65bf312fd6"
            }
        },
        {
            "cell_type": "code",
            "source": [
                "SELECT A.Nickname1 AS [Usuario 1], A.Nickname2 AS [Usuario 2] FROM AMIGO A \r\n",
                "INNER JOIN USUARIO U \r\n",
                "ON A.Nickname1=U.Nickname\r\n",
                "INNER JOIN USUARIO U2 \r\n",
                "ON A.Nickname2=U2.Nickname\r\n",
                "WHERE U.ID_Ciudad<>U2.ID_Ciudad"
            ],
            "metadata": {
                "azdata_cell_guid": "f45bfee2-ed97-4819-86ab-5db5d84a1fc6"
            },
            "outputs": [
                {
                    "output_type": "display_data",
                    "data": {
                        "text/html": "(16 rows affected)"
                    },
                    "metadata": {}
                },
                {
                    "output_type": "display_data",
                    "data": {
                        "text/html": "Total execution time: 00:00:00.048"
                    },
                    "metadata": {}
                },
                {
                    "output_type": "execute_result",
                    "execution_count": 38,
                    "data": {
                        "application/vnd.dataresource+json": {
                            "schema": {
                                "fields": [
                                    {
                                        "name": "Usuario 1"
                                    },
                                    {
                                        "name": "Usuario 2"
                                    }
                                ]
                            },
                            "data": [
                                {
                                    "0": "AnaALV",
                                    "1": "Mari"
                                },
                                {
                                    "0": "Angel224",
                                    "1": "Diana129"
                                },
                                {
                                    "0": "Coronavirus",
                                    "1": "Angel224"
                                },
                                {
                                    "0": "Diana129",
                                    "1": "Mari"
                                },
                                {
                                    "0": "Emilian99",
                                    "1": "AnaALV"
                                },
                                {
                                    "0": "GabiLuna",
                                    "1": "RamLop99"
                                },
                                {
                                    "0": "JoseCarl",
                                    "1": "MenitaXD98"
                                },
                                {
                                    "0": "JoseCarl",
                                    "1": "XxXGokuXxX"
                                },
                                {
                                    "0": "Luiz",
                                    "1": "Coronavirus"
                                },
                                {
                                    "0": "Luiz",
                                    "1": "Mari"
                                },
                                {
                                    "0": "MigueMF",
                                    "1": "AlizV5"
                                },
                                {
                                    "0": "Panchogo94",
                                    "1": "CuentaFeik"
                                },
                                {
                                    "0": "Panchogo94",
                                    "1": "MenitaXD98"
                                },
                                {
                                    "0": "RamLop99",
                                    "1": "AnaALV"
                                },
                                {
                                    "0": "SandCast",
                                    "1": "CuentaFeik"
                                },
                                {
                                    "0": "SandCast",
                                    "1": "Panchogo94"
                                }
                            ]
                        },
                        "text/html": "<table><tr><th>Usuario 1</th><th>Usuario 2</th></tr><tr><td>AnaALV</td><td>Mari</td></tr><tr><td>Angel224</td><td>Diana129</td></tr><tr><td>Coronavirus</td><td>Angel224</td></tr><tr><td>Diana129</td><td>Mari</td></tr><tr><td>Emilian99</td><td>AnaALV</td></tr><tr><td>GabiLuna</td><td>RamLop99</td></tr><tr><td>JoseCarl</td><td>MenitaXD98</td></tr><tr><td>JoseCarl</td><td>XxXGokuXxX</td></tr><tr><td>Luiz</td><td>Coronavirus</td></tr><tr><td>Luiz</td><td>Mari</td></tr><tr><td>MigueMF</td><td>AlizV5</td></tr><tr><td>Panchogo94</td><td>CuentaFeik</td></tr><tr><td>Panchogo94</td><td>MenitaXD98</td></tr><tr><td>RamLop99</td><td>AnaALV</td></tr><tr><td>SandCast</td><td>CuentaFeik</td></tr><tr><td>SandCast</td><td>Panchogo94</td></tr></table>"
                    },
                    "metadata": {}
                }
            ],
            "execution_count": 38
        },
        {
            "cell_type": "markdown",
            "source": [
                "## 8\r\n",
                "Se requiere saber el lugar más frecuentado por mujeres"
            ],
            "metadata": {
                "azdata_cell_guid": "fa7fea6d-e0ea-41a3-a51d-458c7233b9e1"
            }
        },
        {
            "cell_type": "code",
            "source": [
                "WITH Frecuencia(Nombre, Visitas )\r\n",
                "AS \r\n",
                "(\r\n",
                "    SELECT L.Nombre, count(*) AS Visitas FROM LUGAR L \r\n",
                "    INNER JOIN VISITA V \r\n",
                "    ON L.ID_Lugar=V.ID_Lugar\r\n",
                "    INNER JOIN USUARIO U \r\n",
                "    ON V.Nickname=U.Nickname\r\n",
                "    WHERE U.Sexo='F'\r\n",
                "    GROUP BY L.Nombre\r\n",
                ")\r\n",
                "SELECT TOP 1 * FROM Frecuencia\r\n",
                "ORDER BY Visitas DESC"
            ],
            "metadata": {
                "azdata_cell_guid": "05eff936-5d14-43a3-a69d-2bad4b69f18a"
            },
            "outputs": [
                {
                    "output_type": "display_data",
                    "data": {
                        "text/html": "(1 row affected)"
                    },
                    "metadata": {}
                },
                {
                    "output_type": "display_data",
                    "data": {
                        "text/html": "Total execution time: 00:00:00.143"
                    },
                    "metadata": {}
                },
                {
                    "output_type": "execute_result",
                    "execution_count": 37,
                    "data": {
                        "application/vnd.dataresource+json": {
                            "schema": {
                                "fields": [
                                    {
                                        "name": "Nombre"
                                    },
                                    {
                                        "name": "Visitas"
                                    }
                                ]
                            },
                            "data": [
                                {
                                    "0": "Estadio Teodoro Mariscal",
                                    "1": "3"
                                }
                            ]
                        },
                        "text/html": "<table><tr><th>Nombre</th><th>Visitas</th></tr><tr><td>Estadio Teodoro Mariscal</td><td>3</td></tr></table>"
                    },
                    "metadata": {}
                }
            ],
            "execution_count": 37
        },
        {
            "cell_type": "markdown",
            "source": [
                "## 9\r\n",
                "Conocer todos los usuarios que han comentado con \"Muy malo\" a sus visitas"
            ],
            "metadata": {
                "azdata_cell_guid": "2d2dddf8-ffd0-429c-93b2-632a50f7d3fc"
            }
        },
        {
            "cell_type": "code",
            "source": [
                "SELECT U.Nickname FROM VISITA V \r\n",
                "INNER JOIN USUARIO U \r\n",
                "ON V.Nickname=U.Nickname \r\n",
                "WHERE V.Comentario='Muy malo'"
            ],
            "metadata": {
                "azdata_cell_guid": "b96eac3b-9239-4636-8c50-608181fd1f56"
            },
            "outputs": [
                {
                    "output_type": "display_data",
                    "data": {
                        "text/html": "(5 rows affected)"
                    },
                    "metadata": {}
                },
                {
                    "output_type": "display_data",
                    "data": {
                        "text/html": "Total execution time: 00:00:00.107"
                    },
                    "metadata": {}
                },
                {
                    "output_type": "execute_result",
                    "execution_count": 31,
                    "data": {
                        "application/vnd.dataresource+json": {
                            "schema": {
                                "fields": [
                                    {
                                        "name": "Nickname"
                                    }
                                ]
                            },
                            "data": [
                                {
                                    "0": "Angel224"
                                },
                                {
                                    "0": "Luiz"
                                },
                                {
                                    "0": "Coronavirus"
                                },
                                {
                                    "0": "SandCast"
                                },
                                {
                                    "0": "XxXGokuXxX"
                                }
                            ]
                        },
                        "text/html": "<table><tr><th>Nickname</th></tr><tr><td>Angel224</td></tr><tr><td>Luiz</td></tr><tr><td>Coronavirus</td></tr><tr><td>SandCast</td></tr><tr><td>XxXGokuXxX</td></tr></table>"
                    },
                    "metadata": {}
                }
            ],
            "execution_count": 31
        },
        {
            "cell_type": "markdown",
            "source": [
                "## 10\r\n",
                "Se desea saber cuál es el promedio de valoración de todos los lugares"
            ],
            "metadata": {
                "azdata_cell_guid": "d8c91c82-5574-4d0f-bbf0-e690136f0a8f"
            }
        },
        {
            "cell_type": "code",
            "source": [
                "SELECT L.Nombre,  AVG(V.Valoracion) AS Valoracion FROM LUGAR L \n",
                "INNER JOIN VISITA V \n",
                "ON L.ID_Lugar=V.ID_Lugar \n",
                "GROUP BY L.Nombre"
            ],
            "metadata": {
                "azdata_cell_guid": "b820186c-3f83-4228-9063-56dfc9ac4d16"
            },
            "outputs": [
                {
                    "output_type": "display_data",
                    "data": {
                        "text/html": "(21 rows affected)"
                    },
                    "metadata": {}
                },
                {
                    "output_type": "display_data",
                    "data": {
                        "text/html": "Total execution time: 00:00:00.047"
                    },
                    "metadata": {}
                },
                {
                    "output_type": "execute_result",
                    "execution_count": 36,
                    "data": {
                        "application/vnd.dataresource+json": {
                            "schema": {
                                "fields": [
                                    {
                                        "name": "Nombre"
                                    },
                                    {
                                        "name": "Valoracion"
                                    }
                                ]
                            },
                            "data": [
                                {
                                    "0": "Aeropuerto Internacional de Tijuana",
                                    "1": "7"
                                },
                                {
                                    "0": "Banbajío",
                                    "1": "6"
                                },
                                {
                                    "0": "Cinemex Navolato",
                                    "1": "7"
                                },
                                {
                                    "0": "Estadio Teodoro Mariscal",
                                    "1": "7"
                                },
                                {
                                    "0": "Estadio Tomateros",
                                    "1": "7"
                                },
                                {
                                    "0": "Farmacia Guadalajara",
                                    "1": "8"
                                },
                                {
                                    "0": "Fühler",
                                    "1": "6"
                                },
                                {
                                    "0": "Hospital Ángeles",
                                    "1": "6"
                                },
                                {
                                    "0": "KFC Insurgentes",
                                    "1": "2"
                                },
                                {
                                    "0": "Ley Primavera",
                                    "1": "7"
                                },
                                {
                                    "0": "MUSIK",
                                    "1": "6"
                                },
                                {
                                    "0": "Panamá Insurgentes",
                                    "1": "6"
                                },
                                {
                                    "0": "Parque Sinaloa",
                                    "1": "6"
                                },
                                {
                                    "0": "Pemex",
                                    "1": "8"
                                },
                                {
                                    "0": "Sams Club 3 Rios",
                                    "1": "5"
                                },
                                {
                                    "0": "Sears Plaza Rio",
                                    "1": "6"
                                },
                                {
                                    "0": "Soriana Hiper",
                                    "1": "6"
                                },
                                {
                                    "0": "Taipak MonteCarlo",
                                    "1": "7"
                                },
                                {
                                    "0": "The Barber Shop",
                                    "1": "9"
                                },
                                {
                                    "0": "USE Navolato",
                                    "1": "6"
                                },
                                {
                                    "0": "Zona de Vestir Medrano",
                                    "1": "8"
                                }
                            ]
                        },
                        "text/html": "<table><tr><th>Nombre</th><th>Valoracion</th></tr><tr><td>Aeropuerto Internacional de Tijuana</td><td>7</td></tr><tr><td>Banbajío</td><td>6</td></tr><tr><td>Cinemex Navolato</td><td>7</td></tr><tr><td>Estadio Teodoro Mariscal</td><td>7</td></tr><tr><td>Estadio Tomateros</td><td>7</td></tr><tr><td>Farmacia Guadalajara</td><td>8</td></tr><tr><td>Fühler</td><td>6</td></tr><tr><td>Hospital Ángeles</td><td>6</td></tr><tr><td>KFC Insurgentes</td><td>2</td></tr><tr><td>Ley Primavera</td><td>7</td></tr><tr><td>MUSIK</td><td>6</td></tr><tr><td>Panamá Insurgentes</td><td>6</td></tr><tr><td>Parque Sinaloa</td><td>6</td></tr><tr><td>Pemex</td><td>8</td></tr><tr><td>Sams Club 3 Rios</td><td>5</td></tr><tr><td>Sears Plaza Rio</td><td>6</td></tr><tr><td>Soriana Hiper</td><td>6</td></tr><tr><td>Taipak MonteCarlo</td><td>7</td></tr><tr><td>The Barber Shop</td><td>9</td></tr><tr><td>USE Navolato</td><td>6</td></tr><tr><td>Zona de Vestir Medrano</td><td>8</td></tr></table>"
                    },
                    "metadata": {}
                }
            ],
            "execution_count": 36
        },
        {
            "cell_type": "markdown",
            "source": [
                "## 11\r\n",
                "Cuál es el lugar más visitado con la etiqueta de \"Beisbol\""
            ],
            "metadata": {
                "azdata_cell_guid": "b4d210a3-38ff-41f4-b966-ddf1d3c004bb"
            }
        },
        {
            "cell_type": "code",
            "source": [
                "SELECT TOP 1 L.Nombre, COUNT(*) as Visitas FROM Lugar L\r\n",
                "INNER JOIN Etiqueta E ON L.ID_Etiqueta=E.ID_Etiqueta\r\n",
                "INNER JOIN Visita V on L.ID_Lugar=V.ID_Lugar\r\n",
                "WHERE E.Nombre_eti='Beisbol'\r\n",
                "GROUP BY L.Nombre"
            ],
            "metadata": {
                "azdata_cell_guid": "0c1485b8-0d5c-48b0-9dc9-5c2bdd1fcee3"
            },
            "outputs": [
                {
                    "output_type": "display_data",
                    "data": {
                        "text/html": "(1 row affected)"
                    },
                    "metadata": {}
                },
                {
                    "output_type": "display_data",
                    "data": {
                        "text/html": "Total execution time: 00:00:00.034"
                    },
                    "metadata": {}
                },
                {
                    "output_type": "execute_result",
                    "execution_count": 13,
                    "data": {
                        "application/vnd.dataresource+json": {
                            "schema": {
                                "fields": [
                                    {
                                        "name": "Nombre"
                                    },
                                    {
                                        "name": "Visitas"
                                    }
                                ]
                            },
                            "data": [
                                {
                                    "0": "Estadio Teodoro Mariscal",
                                    "1": "5"
                                }
                            ]
                        },
                        "text/html": "<table><tr><th>Nombre</th><th>Visitas</th></tr><tr><td>Estadio Teodoro Mariscal</td><td>5</td></tr></table>"
                    },
                    "metadata": {}
                }
            ],
            "execution_count": 13
        },
        {
            "cell_type": "markdown",
            "source": [
                "## 12\r\n",
                "Cuál es el lugar menos visitado de Tijuana"
            ],
            "metadata": {
                "azdata_cell_guid": "d8bbecdf-d833-4444-abfe-9b779c849bc9"
            }
        },
        {
            "cell_type": "code",
            "source": [
                "SELECT TOP 1 L.Nombre, COUNT(*) as Visitas FROM Lugar L\r\n",
                "INNER JOIN Visita V ON L.ID_Lugar=V.ID_Lugar\r\n",
                "INNER JOIN Ciudad C ON L.ID_Ciudad=C.ID_Ciudad\r\n",
                "WHERE Ciudad='Tijuana'\r\n",
                "GROUP BY L.Nombre\r\n",
                "ORDER BY COUNT(*) ASC"
            ],
            "metadata": {
                "azdata_cell_guid": "bad947fd-6195-48ec-8738-3b6986c9278b"
            },
            "outputs": [
                {
                    "output_type": "display_data",
                    "data": {
                        "text/html": "(1 row affected)"
                    },
                    "metadata": {}
                },
                {
                    "output_type": "display_data",
                    "data": {
                        "text/html": "Total execution time: 00:00:00.663"
                    },
                    "metadata": {}
                },
                {
                    "output_type": "execute_result",
                    "execution_count": 21,
                    "data": {
                        "application/vnd.dataresource+json": {
                            "schema": {
                                "fields": [
                                    {
                                        "name": "Nombre"
                                    },
                                    {
                                        "name": "Visitas"
                                    }
                                ]
                            },
                            "data": [
                                {
                                    "0": "The Barber Shop",
                                    "1": "2"
                                }
                            ]
                        },
                        "text/html": "<table><tr><th>Nombre</th><th>Visitas</th></tr><tr><td>The Barber Shop</td><td>2</td></tr></table>"
                    },
                    "metadata": {}
                }
            ],
            "execution_count": 21
        },
        {
            "cell_type": "markdown",
            "source": [
                "## 13\r\n",
                "Cuales son los 5 lugares más visitados del 2018 además de la ciudad que pertenecen"
            ],
            "metadata": {
                "azdata_cell_guid": "153185d0-38a9-404d-8fbf-df742b90abc4"
            }
        },
        {
            "cell_type": "code",
            "source": [
                "SELECT TOP 5 L.Nombre, C.Ciudad, COUNT(*) as Visitas FROM Lugar L\r\n",
                "INNER JOIN Visita V ON L.ID_Lugar=V.ID_Lugar\r\n",
                "INNER JOIN Ciudad C ON L.ID_Ciudad=C.ID_Ciudad\r\n",
                "WHERE YEAR(Fecha)=2018\r\n",
                "GROUP BY L.Nombre, C.Ciudad\r\n",
                "ORDER BY Visitas DESC"
            ],
            "metadata": {
                "azdata_cell_guid": "05676ad0-20eb-4e49-81b7-11c0756895e7"
            },
            "outputs": [
                {
                    "output_type": "display_data",
                    "data": {
                        "text/html": "(5 rows affected)"
                    },
                    "metadata": {}
                },
                {
                    "output_type": "display_data",
                    "data": {
                        "text/html": "Total execution time: 00:00:00.122"
                    },
                    "metadata": {}
                },
                {
                    "output_type": "execute_result",
                    "execution_count": 32,
                    "data": {
                        "application/vnd.dataresource+json": {
                            "schema": {
                                "fields": [
                                    {
                                        "name": "Nombre"
                                    },
                                    {
                                        "name": "Ciudad"
                                    },
                                    {
                                        "name": "Visitas"
                                    }
                                ]
                            },
                            "data": [
                                {
                                    "0": "Taipak MonteCarlo",
                                    "1": "Culiacán",
                                    "2": "3"
                                },
                                {
                                    "0": "Parque Sinaloa",
                                    "1": "Los Mochis",
                                    "2": "3"
                                },
                                {
                                    "0": "Estadio Teodoro Mariscal",
                                    "1": "Mazatlán",
                                    "2": "2"
                                },
                                {
                                    "0": "Pemex",
                                    "1": "Mazatlán",
                                    "2": "2"
                                },
                                {
                                    "0": "Ley Primavera",
                                    "1": "Navolato",
                                    "2": "2"
                                }
                            ]
                        },
                        "text/html": "<table><tr><th>Nombre</th><th>Ciudad</th><th>Visitas</th></tr><tr><td>Taipak MonteCarlo</td><td>Culiacán</td><td>3</td></tr><tr><td>Parque Sinaloa</td><td>Los Mochis</td><td>3</td></tr><tr><td>Estadio Teodoro Mariscal</td><td>Mazatlán</td><td>2</td></tr><tr><td>Pemex</td><td>Mazatlán</td><td>2</td></tr><tr><td>Ley Primavera</td><td>Navolato</td><td>2</td></tr></table>"
                    },
                    "metadata": {}
                }
            ],
            "execution_count": 32
        },
        {
            "cell_type": "markdown",
            "source": [
                "## 14\r\n",
                "Qué ciudad tiene menos visitas registradas"
            ],
            "metadata": {
                "azdata_cell_guid": "12d47312-e96a-4f0f-a880-e694a4480bff"
            }
        },
        {
            "cell_type": "code",
            "source": [
                "SELECT TOP 1 C.Ciudad, COUNT(*) Visitas FROM Ciudad C\r\n",
                "INNER JOIN Lugar L ON C.ID_Ciudad=L.ID_Ciudad\r\n",
                "INNER JOIN Visita V ON L.ID_Lugar=V.ID_Lugar\r\n",
                "GROUP BY C.Ciudad\r\n",
                "ORDER BY Visitas ASC"
            ],
            "metadata": {
                "azdata_cell_guid": "8063e545-5445-45b1-abf3-adb47783204d",
                "tags": []
            },
            "outputs": [
                {
                    "output_type": "display_data",
                    "data": {
                        "text/html": "(1 row affected)"
                    },
                    "metadata": {}
                },
                {
                    "output_type": "display_data",
                    "data": {
                        "text/html": "Total execution time: 00:00:00.069"
                    },
                    "metadata": {}
                },
                {
                    "output_type": "execute_result",
                    "execution_count": 36,
                    "data": {
                        "application/vnd.dataresource+json": {
                            "schema": {
                                "fields": [
                                    {
                                        "name": "Ciudad"
                                    },
                                    {
                                        "name": "Visitas"
                                    }
                                ]
                            },
                            "data": [
                                {
                                    "0": "Guasave",
                                    "1": "1"
                                }
                            ]
                        },
                        "text/html": "<table><tr><th>Ciudad</th><th>Visitas</th></tr><tr><td>Guasave</td><td>1</td></tr></table>"
                    },
                    "metadata": {}
                }
            ],
            "execution_count": 36
        },
        {
            "cell_type": "markdown",
            "source": [
                "## 15\r\n",
                "Los lugares más visitados de los últimos 3 meses"
            ],
            "metadata": {
                "azdata_cell_guid": "0dfec3ff-9d3d-4977-8bfd-b77657c304fd"
            }
        },
        {
            "cell_type": "code",
            "source": [
                "SELECT L.Nombre, COUNT(*) as Visitas,\r\n",
                "CASE\r\n",
                "    WHEN MONTH(Fecha)=1 THEN 'Enero'\r\n",
                "    WHEN MONTH(Fecha)=2 THEN 'Febrero'\r\n",
                "    WHEN MONTH(Fecha)=3 THEN 'Marzo'\r\n",
                "    WHEN MONTH(Fecha)=4 THEN 'Abril'\r\n",
                "    WHEN MONTH(Fecha)=5 THEN 'Mayo'\r\n",
                "    WHEN MONTH(Fecha)=6 THEN 'Junio'\r\n",
                "    WHEN MONTH(Fecha)=7 THEN 'Julio'\r\n",
                "    WHEN MONTH(Fecha)=8 THEN 'Agosto'\r\n",
                "    WHEN MONTH(Fecha)=9 THEN 'Septiembre'\r\n",
                "    WHEN MONTH(Fecha)=10 THEN 'Octubre'\r\n",
                "    WHEN MONTH(Fecha)=11 THEN 'Noviembre'\r\n",
                "    WHEN MONTH(Fecha)=12 THEN 'Diciembre'\r\n",
                "END AS Mes\r\n",
                "FROM Visita V\r\n",
                "INNER JOIN Lugar L ON V.ID_Lugar=L.ID_Lugar\r\n",
                "WHERE Fecha BETWEEN DATEADD(MM, -3, GETDATE()) AND GETDATE()\r\n",
                "GROUP BY L.Nombre, MONTH(Fecha)"
            ],
            "metadata": {
                "azdata_cell_guid": "487aa99f-2ccd-4e6f-9ffd-331c1b67eb59"
            },
            "outputs": [
                {
                    "output_type": "display_data",
                    "data": {
                        "text/html": "(9 rows affected)"
                    },
                    "metadata": {}
                },
                {
                    "output_type": "display_data",
                    "data": {
                        "text/html": "Total execution time: 00:00:00.038"
                    },
                    "metadata": {}
                },
                {
                    "output_type": "execute_result",
                    "execution_count": 168,
                    "data": {
                        "application/vnd.dataresource+json": {
                            "schema": {
                                "fields": [
                                    {
                                        "name": "Nombre"
                                    },
                                    {
                                        "name": "Visitas"
                                    },
                                    {
                                        "name": "Mes"
                                    }
                                ]
                            },
                            "data": [
                                {
                                    "0": "Farmacia Guadalajara",
                                    "1": "1",
                                    "2": "Enero"
                                },
                                {
                                    "0": "MUSIK",
                                    "1": "1",
                                    "2": "Enero"
                                },
                                {
                                    "0": "Panamá Insurgentes",
                                    "1": "1",
                                    "2": "Febrero"
                                },
                                {
                                    "0": "Parque Sinaloa",
                                    "1": "1",
                                    "2": "Febrero"
                                },
                                {
                                    "0": "Pemex",
                                    "1": "1",
                                    "2": "Febrero"
                                },
                                {
                                    "0": "USE Navolato",
                                    "1": "1",
                                    "2": "Febrero"
                                },
                                {
                                    "0": "Hospital Ángeles",
                                    "1": "1",
                                    "2": "Marzo"
                                },
                                {
                                    "0": "Sams Club 3 Rios",
                                    "1": "1",
                                    "2": "Marzo"
                                },
                                {
                                    "0": "Sears Plaza Rio",
                                    "1": "2",
                                    "2": "Marzo"
                                }
                            ]
                        },
                        "text/html": "<table><tr><th>Nombre</th><th>Visitas</th><th>Mes</th></tr><tr><td>Farmacia Guadalajara</td><td>1</td><td>Enero</td></tr><tr><td>MUSIK</td><td>1</td><td>Enero</td></tr><tr><td>Panamá Insurgentes</td><td>1</td><td>Febrero</td></tr><tr><td>Parque Sinaloa</td><td>1</td><td>Febrero</td></tr><tr><td>Pemex</td><td>1</td><td>Febrero</td></tr><tr><td>USE Navolato</td><td>1</td><td>Febrero</td></tr><tr><td>Hospital Ángeles</td><td>1</td><td>Marzo</td></tr><tr><td>Sams Club 3 Rios</td><td>1</td><td>Marzo</td></tr><tr><td>Sears Plaza Rio</td><td>2</td><td>Marzo</td></tr></table>"
                    },
                    "metadata": {}
                }
            ],
            "execution_count": 168
        },
        {
            "cell_type": "markdown",
            "source": [
                "## 16\r\n",
                "Cuáles son los 5 mayores interéses de los usuarios"
            ],
            "metadata": {
                "azdata_cell_guid": "db3ae38d-2c3e-43ee-8128-185a2dc7d3ff"
            }
        },
        {
            "cell_type": "code",
            "source": [
                "SELECT TOP 5 I.Interes, COUNT(*) AS Total FROM Interes_Usuario U\r\n",
                "INNER JOIN Interes I ON U.ID_Interes=I.ID_Interes\r\n",
                "GROUP BY I.Interes\r\n",
                "ORDER BY Total DESC"
            ],
            "metadata": {
                "azdata_cell_guid": "6b10f61b-7a3e-4308-8518-f558dc6c4bea",
                "tags": []
            },
            "outputs": [
                {
                    "output_type": "display_data",
                    "data": {
                        "text/html": "(5 rows affected)"
                    },
                    "metadata": {}
                },
                {
                    "output_type": "display_data",
                    "data": {
                        "text/html": "Total execution time: 00:00:00.036"
                    },
                    "metadata": {}
                },
                {
                    "output_type": "execute_result",
                    "execution_count": 175,
                    "data": {
                        "application/vnd.dataresource+json": {
                            "schema": {
                                "fields": [
                                    {
                                        "name": "Interes"
                                    },
                                    {
                                        "name": "Total"
                                    }
                                ]
                            },
                            "data": [
                                {
                                    "0": "Escritura",
                                    "1": "2"
                                },
                                {
                                    "0": "Coleccionismo",
                                    "1": "2"
                                },
                                {
                                    "0": "Medicina",
                                    "1": "2"
                                },
                                {
                                    "0": "Música",
                                    "1": "2"
                                },
                                {
                                    "0": "Voluntariado",
                                    "1": "2"
                                }
                            ]
                        },
                        "text/html": "<table><tr><th>Interes</th><th>Total</th></tr><tr><td>Escritura</td><td>2</td></tr><tr><td>Coleccionismo</td><td>2</td></tr><tr><td>Medicina</td><td>2</td></tr><tr><td>Música</td><td>2</td></tr><tr><td>Voluntariado</td><td>2</td></tr></table>"
                    },
                    "metadata": {}
                }
            ],
            "execution_count": 175
        },
        {
            "cell_type": "markdown",
            "source": [
                "## 17\r\n",
                "Los usuarios que no han registrado visitas"
            ],
            "metadata": {
                "azdata_cell_guid": "f5ad5f10-6f80-48c6-b7cf-ab4baec462e0"
            }
        },
        {
            "cell_type": "code",
            "source": [
                "SELECT U.Nickname FROM Usuario U\r\n",
                "WHERE Nickname NOT IN (SELECT Nickname FROM Visita)"
            ],
            "metadata": {
                "azdata_cell_guid": "1e59acac-f391-42c2-8adc-a5f411c04544"
            },
            "outputs": [
                {
                    "output_type": "display_data",
                    "data": {
                        "text/html": "(1 row affected)"
                    },
                    "metadata": {}
                },
                {
                    "output_type": "display_data",
                    "data": {
                        "text/html": "Total execution time: 00:00:00.136"
                    },
                    "metadata": {}
                },
                {
                    "output_type": "execute_result",
                    "execution_count": 178,
                    "data": {
                        "application/vnd.dataresource+json": {
                            "schema": {
                                "fields": [
                                    {
                                        "name": "Nickname"
                                    }
                                ]
                            },
                            "data": [
                                {
                                    "0": "RamLop99"
                                }
                            ]
                        },
                        "text/html": "<table><tr><th>Nickname</th></tr><tr><td>RamLop99</td></tr></table>"
                    },
                    "metadata": {}
                }
            ],
            "execution_count": 178
        },
        {
            "cell_type": "markdown",
            "source": [
                "## 18\r\n",
                "Los lugares que visita la persona de menor edad"
            ],
            "metadata": {
                "azdata_cell_guid": "17582d70-5dd1-4141-9e97-43610d634172"
            }
        },
        {
            "cell_type": "code",
            "source": [
                "DECLARE @Menor INT\r\n",
                "SELECT @Menor=MIN(Edad) FROM Usuario\r\n",
                "\r\n",
                "SELECT DISTINCT L.Nombre FROM Lugar L\r\n",
                "INNER JOIN Visita V ON L.ID_Lugar=V.ID_Lugar\r\n",
                "INNER JOIN Usuario U ON V.Nickname=U.Nickname\r\n",
                "WHERE U.Edad=@Menor"
            ],
            "metadata": {
                "azdata_cell_guid": "c743f332-c1e6-4282-8fee-8c2471439597"
            },
            "outputs": [
                {
                    "output_type": "display_data",
                    "data": {
                        "text/html": "(3 rows affected)"
                    },
                    "metadata": {}
                },
                {
                    "output_type": "display_data",
                    "data": {
                        "text/html": "Total execution time: 00:00:00.036"
                    },
                    "metadata": {}
                },
                {
                    "output_type": "execute_result",
                    "execution_count": 187,
                    "data": {
                        "application/vnd.dataresource+json": {
                            "schema": {
                                "fields": [
                                    {
                                        "name": "Nombre"
                                    }
                                ]
                            },
                            "data": [
                                {
                                    "0": "MUSIK"
                                },
                                {
                                    "0": "Sams Club 3 Rios"
                                },
                                {
                                    "0": "The Barber Shop"
                                }
                            ]
                        },
                        "text/html": "<table><tr><th>Nombre</th></tr><tr><td>MUSIK</td></tr><tr><td>Sams Club 3 Rios</td></tr><tr><td>The Barber Shop</td></tr></table>"
                    },
                    "metadata": {}
                }
            ],
            "execution_count": 187
        },
        {
            "cell_type": "markdown",
            "source": [
                "## 19\r\n",
                "Obtener los 5 lugares más visitados por personas entre 18 y 23 años"
            ],
            "metadata": {
                "azdata_cell_guid": "4ec63f23-ef2d-4380-8604-13678e656413"
            }
        },
        {
            "cell_type": "code",
            "source": [
                "SELECT TOP 5 COUNT(*) AS Visitas, L.Nombre FROM VISITA V\r\n",
                "INNER JOIN USUARIO U ON V.Nickname = U.Nickname\r\n",
                "INNER JOIN Lugar L ON L.ID_Lugar=V.ID_Lugar\r\n",
                "WHERE U.Edad>=18 AND U.Edad<23\r\n",
                "GROUP BY L.Nombre\r\n",
                "ORDER BY Visitas DESC"
            ],
            "metadata": {
                "azdata_cell_guid": "4f699e20-5285-4c49-ba4a-fdaaf40be2d7"
            },
            "outputs": [
                {
                    "output_type": "display_data",
                    "data": {
                        "text/html": "(5 rows affected)"
                    },
                    "metadata": {}
                },
                {
                    "output_type": "display_data",
                    "data": {
                        "text/html": "Total execution time: 00:00:03.306"
                    },
                    "metadata": {}
                },
                {
                    "output_type": "execute_result",
                    "execution_count": 190,
                    "data": {
                        "application/vnd.dataresource+json": {
                            "schema": {
                                "fields": [
                                    {
                                        "name": "Visitas"
                                    },
                                    {
                                        "name": "Nombre"
                                    }
                                ]
                            },
                            "data": [
                                {
                                    "0": "2",
                                    "1": "Pemex"
                                },
                                {
                                    "0": "2",
                                    "1": "Parque Sinaloa"
                                },
                                {
                                    "0": "2",
                                    "1": "Hospital Ángeles"
                                },
                                {
                                    "0": "2",
                                    "1": "Sears Plaza Rio"
                                },
                                {
                                    "0": "1",
                                    "1": "Estadio Tomateros"
                                }
                            ]
                        },
                        "text/html": "<table><tr><th>Visitas</th><th>Nombre</th></tr><tr><td>2</td><td>Pemex</td></tr><tr><td>2</td><td>Parque Sinaloa</td></tr><tr><td>2</td><td>Hospital Ángeles</td></tr><tr><td>2</td><td>Sears Plaza Rio</td></tr><tr><td>1</td><td>Estadio Tomateros</td></tr></table>"
                    },
                    "metadata": {}
                }
            ],
            "execution_count": 190
        },
        {
            "cell_type": "markdown",
            "source": [
                "## 20\r\n",
                "Los lugares que tienen calificacion por debajo del promedio"
            ],
            "metadata": {
                "azdata_cell_guid": "a9c21353-2d66-4132-8dbc-ce3459251c94"
            }
        },
        {
            "cell_type": "code",
            "source": [
                "Declare @promedio INT\r\n",
                "Select @promedio=AVG(Valoracion) from Visita\r\n",
                "\r\n",
                "SELECT L.Nombre, AVG(V.Valoracion) as Promedio FROM Lugar L\r\n",
                "INNER JOIN Visita V ON V.ID_Lugar=L.ID_Lugar\r\n",
                "GROUP BY L.Nombre\r\n",
                "HAVING AVG(V.Valoracion)<@promedio\r\n",
                "ORDER BY Promedio"
            ],
            "metadata": {
                "azdata_cell_guid": "d079707d-8249-4361-921e-7076e40c6e57"
            },
            "outputs": [
                {
                    "output_type": "display_data",
                    "data": {
                        "text/html": "(11 rows affected)"
                    },
                    "metadata": {}
                },
                {
                    "output_type": "display_data",
                    "data": {
                        "text/html": "Total execution time: 00:00:00.106"
                    },
                    "metadata": {}
                },
                {
                    "output_type": "execute_result",
                    "execution_count": 225,
                    "data": {
                        "application/vnd.dataresource+json": {
                            "schema": {
                                "fields": [
                                    {
                                        "name": "Nombre"
                                    },
                                    {
                                        "name": "Promedio"
                                    }
                                ]
                            },
                            "data": [
                                {
                                    "0": "KFC Insurgentes",
                                    "1": "2"
                                },
                                {
                                    "0": "Sams Club 3 Rios",
                                    "1": "5"
                                },
                                {
                                    "0": "Sears Plaza Rio",
                                    "1": "6"
                                },
                                {
                                    "0": "Soriana Hiper",
                                    "1": "6"
                                },
                                {
                                    "0": "USE Navolato",
                                    "1": "6"
                                },
                                {
                                    "0": "MUSIK",
                                    "1": "6"
                                },
                                {
                                    "0": "Panamá Insurgentes",
                                    "1": "6"
                                },
                                {
                                    "0": "Parque Sinaloa",
                                    "1": "6"
                                },
                                {
                                    "0": "Banbajío",
                                    "1": "6"
                                },
                                {
                                    "0": "Fühler",
                                    "1": "6"
                                },
                                {
                                    "0": "Hospital Ángeles",
                                    "1": "6"
                                }
                            ]
                        },
                        "text/html": "<table><tr><th>Nombre</th><th>Promedio</th></tr><tr><td>KFC Insurgentes</td><td>2</td></tr><tr><td>Sams Club 3 Rios</td><td>5</td></tr><tr><td>Sears Plaza Rio</td><td>6</td></tr><tr><td>Soriana Hiper</td><td>6</td></tr><tr><td>USE Navolato</td><td>6</td></tr><tr><td>MUSIK</td><td>6</td></tr><tr><td>Panamá Insurgentes</td><td>6</td></tr><tr><td>Parque Sinaloa</td><td>6</td></tr><tr><td>Banbajío</td><td>6</td></tr><tr><td>Fühler</td><td>6</td></tr><tr><td>Hospital Ángeles</td><td>6</td></tr></table>"
                    },
                    "metadata": {}
                }
            ],
            "execution_count": 225
        },
        {
            "cell_type": "markdown",
            "source": [
                "## 21\r\n",
                "Registros de las visitas con la mayor califación"
            ],
            "metadata": {
                "azdata_cell_guid": "14f17002-785c-4599-9801-764f0dec5780"
            }
        },
        {
            "cell_type": "code",
            "source": [
                "DECLARE @Max INT\r\n",
                "SELECT @Max=Max(Valoracion) FROM Visita\r\n",
                "\r\n",
                "SELECT Nickname, COALESCE(Comentario, ' ') as Comentarios, Valoracion, Fecha FROM Visita\r\n",
                "WHERE Valoracion=@Max"
            ],
            "metadata": {
                "azdata_cell_guid": "8619db6d-1181-418b-a98e-592da8c7db3c",
                "tags": []
            },
            "outputs": [
                {
                    "output_type": "display_data",
                    "data": {
                        "text/html": "(14 rows affected)"
                    },
                    "metadata": {}
                },
                {
                    "output_type": "display_data",
                    "data": {
                        "text/html": "Total execution time: 00:00:00.186"
                    },
                    "metadata": {}
                },
                {
                    "output_type": "execute_result",
                    "metadata": {},
                    "execution_count": 10,
                    "data": {
                        "application/vnd.dataresource+json": {
                            "schema": {
                                "fields": [
                                    {
                                        "name": "Nickname"
                                    },
                                    {
                                        "name": "Comentarios"
                                    },
                                    {
                                        "name": "Valoracion"
                                    },
                                    {
                                        "name": "Fecha"
                                    }
                                ]
                            },
                            "data": [
                                {
                                    "0": "JoseCarl",
                                    "1": "Excelente",
                                    "2": "10",
                                    "3": "2018-03-20 03:12:00.0000000"
                                },
                                {
                                    "0": "AnaALV",
                                    "1": "Muy Bueno",
                                    "2": "10",
                                    "3": "2019-04-11 08:40:00.0000000"
                                },
                                {
                                    "0": "Mari",
                                    "1": "Excelente",
                                    "2": "10",
                                    "3": "2019-09-08 08:30:00.0000000"
                                },
                                {
                                    "0": "AnaALV",
                                    "1": "Excelente",
                                    "2": "10",
                                    "3": "2018-04-10 20:29:00.0000000"
                                },
                                {
                                    "0": "SandCast",
                                    "1": "Excelente",
                                    "2": "10",
                                    "3": "2018-03-03 08:17:00.0000000"
                                },
                                {
                                    "0": "Diana129",
                                    "1": "Excelente",
                                    "2": "10",
                                    "3": "2020-03-08 00:40:00.0000000"
                                },
                                {
                                    "0": "Emilian99",
                                    "1": "regular",
                                    "2": "10",
                                    "3": "2019-10-29 15:45:00.0000000"
                                },
                                {
                                    "0": "Mari",
                                    "1": "Excelente",
                                    "2": "10",
                                    "3": "2018-07-15 16:20:00.0000000"
                                },
                                {
                                    "0": "Coronavirus",
                                    "1": "Excelente",
                                    "2": "10",
                                    "3": "2018-04-24 16:56:00.0000000"
                                },
                                {
                                    "0": "Coronavirus",
                                    "1": "Excelente",
                                    "2": "10",
                                    "3": "2019-08-28 18:34:00.0000000"
                                },
                                {
                                    "0": "XxXGokuXxX",
                                    "1": "Excelente",
                                    "2": "10",
                                    "3": "2019-09-30 17:17:00.0000000"
                                },
                                {
                                    "0": "CuentaFeik",
                                    "1": "Excelente",
                                    "2": "10",
                                    "3": "2019-05-12 00:20:00.0000000"
                                },
                                {
                                    "0": "AlizV5",
                                    "1": "Excelente",
                                    "2": "10",
                                    "3": "2019-09-13 11:55:00.0000000"
                                },
                                {
                                    "0": "XxXGokuXxX",
                                    "1": " ",
                                    "2": "10",
                                    "3": "2019-11-14 18:04:00.0000000"
                                }
                            ]
                        },
                        "text/html": "<table><tr><th>Nickname</th><th>Comentarios</th><th>Valoracion</th><th>Fecha</th></tr><tr><td>JoseCarl</td><td>Excelente</td><td>10</td><td>2018-03-20 03:12:00.0000000</td></tr><tr><td>AnaALV</td><td>Muy Bueno</td><td>10</td><td>2019-04-11 08:40:00.0000000</td></tr><tr><td>Mari</td><td>Excelente</td><td>10</td><td>2019-09-08 08:30:00.0000000</td></tr><tr><td>AnaALV</td><td>Excelente</td><td>10</td><td>2018-04-10 20:29:00.0000000</td></tr><tr><td>SandCast</td><td>Excelente</td><td>10</td><td>2018-03-03 08:17:00.0000000</td></tr><tr><td>Diana129</td><td>Excelente</td><td>10</td><td>2020-03-08 00:40:00.0000000</td></tr><tr><td>Emilian99</td><td>regular</td><td>10</td><td>2019-10-29 15:45:00.0000000</td></tr><tr><td>Mari</td><td>Excelente</td><td>10</td><td>2018-07-15 16:20:00.0000000</td></tr><tr><td>Coronavirus</td><td>Excelente</td><td>10</td><td>2018-04-24 16:56:00.0000000</td></tr><tr><td>Coronavirus</td><td>Excelente</td><td>10</td><td>2019-08-28 18:34:00.0000000</td></tr><tr><td>XxXGokuXxX</td><td>Excelente</td><td>10</td><td>2019-09-30 17:17:00.0000000</td></tr><tr><td>CuentaFeik</td><td>Excelente</td><td>10</td><td>2019-05-12 00:20:00.0000000</td></tr><tr><td>AlizV5</td><td>Excelente</td><td>10</td><td>2019-09-13 11:55:00.0000000</td></tr><tr><td>XxXGokuXxX</td><td> </td><td>10</td><td>2019-11-14 18:04:00.0000000</td></tr></table>"
                    }
                }
            ],
            "execution_count": 10
        }
    ]
}