{
    "metadata": {
        "kernelspec": {
            "name": "SQL",
            "display_name": "SQL",
            "language": "sql"
        },
        "language_info": {
            "name": "sql",
            "version": ""
        }
    },
    "nbformat_minor": 2,
    "nbformat": 4,
    "cells": [
        {
            "cell_type": "code",
            "source": [
                "USE CuatroCuadras"
            ],
            "metadata": {
                "azdata_cell_guid": "8f082337-5f9e-4954-875c-bf6c283159ae"
            },
            "outputs": [
                {
                    "output_type": "display_data",
                    "data": {
                        "text/html": "Commands completed successfully."
                    },
                    "metadata": {}
                },
                {
                    "output_type": "display_data",
                    "data": {
                        "text/html": "Total execution time: 00:00:00.990"
                    },
                    "metadata": {}
                }
            ],
            "execution_count": 1
        },
        {
            "cell_type": "markdown",
            "source": [
                " ===========================================================================================\r\n",
                "-- Descripción: SP para actualizar los datos del Usuario a nivel global\r\n",
                "-- ===========================================================================================\r\n",
                ""
            ],
            "metadata": {
                "azdata_cell_guid": "a52c9057-8469-4d7c-ba6d-dffee88e3075"
            }
        },
        {
            "cell_type": "code",
            "source": [
                "\r\n",
                "CREATE PROC actualizaDatosUsuario\r\n",
                "    @Nick NVARCHAR(35),\r\n",
                "    @NickNvo NVARCHAR(35),\r\n",
                "    @Nom VARCHAR(40),\r\n",
                "    @Ap VARCHAR(50),\r\n",
                "    @Sex CHAR(1),\r\n",
                "    @Fecha_Nac DATE,\r\n",
                "    @Email VARCHAR(40),\r\n",
                "    @Cont VARCHAR(20),\r\n",
                "    @ID_Cd INT\r\n",
                "AS\r\n",
                "    BEGIN TRY\r\n",
                "        BEGIN TRAN\r\n",
                "UPDATE USUARIO SET\r\n",
                "Nickname=@NickNvo,\r\n",
                "Nombre=@Nom,\r\n",
                "Apellidos=@Ap,\r\n",
                "Sexo=@Sex,\r\n",
                "Fecha_Nacimiento=@Fecha_Nac,\r\n",
                "Email=@Email,\r\n",
                "Contrasena=@Cont,\r\n",
                "ID_Ciudad=@ID_Cd\r\n",
                "WHERE Nickname= @Nick\r\n",
                "        COMMIT TRAN\r\n",
                "    END TRY\r\n",
                "    \r\n",
                "    BEGIN CATCH\r\n",
                "        IF @@TRANCOUNT>0\r\n",
                "        ROLLBACK TRANSACTION\r\n",
                "    END CATCH\r\n",
                ""
            ],
            "metadata": {
                "azdata_cell_guid": "f3872fa0-d347-45ab-913d-4f4118239ba1"
            },
            "outputs": [
                {
                    "output_type": "display_data",
                    "data": {
                        "text/html": "Commands completed successfully."
                    },
                    "metadata": {}
                },
                {
                    "output_type": "display_data",
                    "data": {
                        "text/html": "Total execution time: 00:00:00.046"
                    },
                    "metadata": {}
                }
            ],
            "execution_count": 6
        },
        {
            "cell_type": "code",
            "source": [
                "exec actualizaDatosUsuario 'HolaMundo99','AdiosMundo','Benemerito','Lasdo asno','M','1997-11-25','AASSA@ge.com','HOLAHOLA',2"
            ],
            "metadata": {
                "azdata_cell_guid": "589c0228-f091-4de4-90de-c7ce2e8152e3"
            },
            "outputs": [
                {
                    "output_type": "display_data",
                    "data": {
                        "text/html": "(1 row affected)"
                    },
                    "metadata": {}
                },
                {
                    "output_type": "display_data",
                    "data": {
                        "text/html": "Total execution time: 00:00:00.318"
                    },
                    "metadata": {}
                }
            ],
            "execution_count": 7
        },
        {
            "cell_type": "markdown",
            "source": [
                " ===========================================================================================\r\n",
                "-- Descripción: SP para actualizar los datos del Usuario a nivel global\r\n",
                "-- ===========================================================================================\r\n",
                ""
            ],
            "metadata": {
                "azdata_cell_guid": "3db8e606-8ef4-48f7-859e-59ef10401a06"
            }
        },
        {
            "cell_type": "code",
            "source": [
                "CREATE PROC registraUsuario(\r\n",
                "    @Nick NVARCHAR(35),\r\n",
                "    @Nom VARCHAR(40),\r\n",
                "    @Ap VARCHAR(50),\r\n",
                "    @Sex CHAR(1),\r\n",
                "    @Fecha_Nac DATE,\r\n",
                "    @Email VARCHAR(40),\r\n",
                "    @Cont VARCHAR(20),\r\n",
                "    @ID_Cd INT\r\n",
                ")\r\n",
                "AS\r\n",
                "DECLARE @primerLogro int\r\n",
                " BEGIN TRY\r\n",
                "    BEGIN TRAN\r\n",
                "    SELECT @primerLogro=ID_Logro FROM LOGRO WHERE Nombre='Primeros Pasos'\r\n",
                "    \r\n",
                "    INSERT INTO USUARIO (Nickname,Nombre,Apellidos,Sexo,Fecha_Nacimiento,Email,Contrasena,ID_Ciudad)\r\n",
                "    VALUES(@Nick,@Nom,@Ap,@Sex,@Fecha_Nac,@Email,@Cont,@ID_Cd)\r\n",
                "\r\n",
                "    INSERT INTO LOGRO_USUARIO (Nickname,ID_Logro,Fecha) VALUES (@Nick,@primerLogro,GETDATE())\r\n",
                "    COMMIT TRAN\r\n",
                " END TRY\r\n",
                "    \r\n",
                " BEGIN CATCH\r\n",
                "     IF @@TRANCOUNT>0\r\n",
                "     ROLLBACK TRANSACTION\r\n",
                " END CATCH"
            ],
            "metadata": {
                "azdata_cell_guid": "3edcbe0b-0244-4d00-a7f0-cf441340111c"
            },
            "outputs": [
                {
                    "output_type": "display_data",
                    "data": {
                        "text/html": "Commands completed successfully."
                    },
                    "metadata": {}
                },
                {
                    "output_type": "display_data",
                    "data": {
                        "text/html": "Total execution time: 00:00:00.100"
                    },
                    "metadata": {}
                }
            ],
            "execution_count": 14
        },
        {
            "cell_type": "code",
            "source": [
                "exec registraUsuario 'nwifehiowfoepw','Lopez','Lasdo asno','M','1997-11-25','AASSA@ge.com','HOLAHOLA',2"
            ],
            "metadata": {
                "azdata_cell_guid": "684263bb-9c95-4d6d-956f-784fbba855a7"
            },
            "outputs": [
                {
                    "output_type": "display_data",
                    "data": {
                        "text/html": "(1 row affected)"
                    },
                    "metadata": {}
                },
                {
                    "output_type": "display_data",
                    "data": {
                        "text/html": "(1 row affected)"
                    },
                    "metadata": {}
                },
                {
                    "output_type": "display_data",
                    "data": {
                        "text/html": "Total execution time: 00:00:00.011"
                    },
                    "metadata": {}
                }
            ],
            "execution_count": 18
        },
        {
            "cell_type": "code",
            "source": [
                "SELECT * FROM LOGRO\n",
                ""
            ],
            "metadata": {
                "azdata_cell_guid": "79e507e9-0af4-4d0e-b203-bf369f614e8e"
            },
            "outputs": [
{
    "output_type": "display_data",
    "data": {
        "text/html": "(16 rows affected)"
    },
    "metadata": {}
}, {
    "output_type": "display_data",
    "data": {
        "text/html": "Total execution time: 00:00:00.079"
    },
    "metadata": {}
}, {
    "output_type": "execute_result",
    "metadata": {},
    "execution_count": 22,
    "data": {
        "application/vnd.dataresource+json": {
            "schema": {
                "fields": [
                    {
                        "name": "ID_Logro"
                    },
                    {
                        "name": "Nombre"
                    },
                    {
                        "name": "Descripcion"
                    },
                    {
                        "name": "Cantidad_Visitas"
                    },
                    {
                        "name": "Tipo_Categoria"
                    },
                    {
                        "name": "Tipo_Etiqueta"
                    }
                ]
            },
            "data": [
                {
                    "0": "25",
                    "1": "Fotogenico",
                    "2": "Check-In en 3 lugares distintos con fotocabina (photoboot)",
                    "3": "0",
                    "4": "NULL",
                    "5": "NULL"
                },
                {
                    "0": "26",
                    "1": "Navegante",
                    "2": "Check-In en 3 lugares distinton con etiqueta \"canoa\"",
                    "3": "0",
                    "4": "NULL",
                    "5": "NULL"
                },
                {
                    "0": "27",
                    "1": "La Voz",
                    "2": "3 Check-In en un mes desde lugares con la categoria \"Karaoke Bar\"",
                    "3": "0",
                    "4": "NULL",
                    "5": "NULL"
                },
                {
                    "0": "28",
                    "1": "Melómano",
                    "2": "Hacer Check-In en 5 lugares de la categoría \"Tienda de Musica",
                    "3": "0",
                    "4": "NULL",
                    "5": "NULL"
                },
                {
                    "0": "29",
                    "1": "Cinéfilo",
                    "2": "Hacer 15 Check-In en cines",
                    "3": "0",
                    "4": "NULL",
                    "5": "NULL"
                },
                {
                    "0": "30",
                    "1": "Catador de Comida",
                    "2": "Hacer Check-In en 10 diferentes restaurantes",
                    "3": "0",
                    "4": "NULL",
                    "5": "NULL"
                },
                {
                    "0": "31",
                    "1": "Trabajador",
                    "2": "Hacer 200 Check-In en lugares de la categoría \"Oficinas",
                    "3": "0",
                    "4": "NULL",
                    "5": "NULL"
                },
                {
                    "0": "32",
                    "1": "Primeros Pasos",
                    "2": "Te has registrado en Cuatro Cuadras. ¡Comienza a explorar con nosotros!",
                    "3": "0",
                    "4": "NULL",
                    "5": "NULL"
                },
                {
                    "0": "33",
                    "1": "Fotogenico",
                    "2": "Check-In en 3 lugares distintos con fotocabina (photoboot)",
                    "3": "0",
                    "4": "NULL",
                    "5": "NULL"
                },
                {
                    "0": "34",
                    "1": "Navegante",
                    "2": "Check-In en 3 lugares distinton con etiqueta \"canoa\"",
                    "3": "0",
                    "4": "NULL",
                    "5": "NULL"
                },
                {
                    "0": "35",
                    "1": "La Voz",
                    "2": "3 Check-In en un mes desde lugares con la categoria \"Karaoke Bar\"",
                    "3": "0",
                    "4": "NULL",
                    "5": "NULL"
                },
                {
                    "0": "36",
                    "1": "Melómano",
                    "2": "Hacer Check-In en 5 lugares de la categoría \"Tienda de Musica",
                    "3": "0",
                    "4": "NULL",
                    "5": "NULL"
                },
                {
                    "0": "37",
                    "1": "Cinéfilo",
                    "2": "Hacer 15 Check-In en cines",
                    "3": "0",
                    "4": "NULL",
                    "5": "NULL"
                },
                {
                    "0": "38",
                    "1": "Catador de Comida",
                    "2": "Hacer Check-In en 10 diferentes restaurantes",
                    "3": "0",
                    "4": "NULL",
                    "5": "NULL"
                },
                {
                    "0": "39",
                    "1": "Trabajador",
                    "2": "Hacer 200 Check-In en lugares de la categoría \"Oficinas",
                    "3": "0",
                    "4": "NULL",
                    "5": "NULL"
                },
                {
                    "0": "40",
                    "1": "Primeros Pasos",
                    "2": "Te has registrado en Cuatro Cuadras. ¡Comienza a explorar con nosotros!",
                    "3": "0",
                    "4": "NULL",
                    "5": "NULL"
                }
            ]
        },
        "text/html": [
            "<table>",
            "<tr><th>ID_Logro</th><th>Nombre</th><th>Descripcion</th><th>Cantidad_Visitas</th><th>Tipo_Categoria</th><th>Tipo_Etiqueta</th></tr>",
            "<tr><td>25</td><td>Fotogenico</td><td>Check-In en 3 lugares distintos con fotocabina (photoboot)</td><td>0</td><td>NULL</td><td>NULL</td></tr>",
            "<tr><td>26</td><td>Navegante</td><td>Check-In en 3 lugares distinton con etiqueta &quot;canoa&quot;</td><td>0</td><td>NULL</td><td>NULL</td></tr>",
            "<tr><td>27</td><td>La Voz</td><td>3 Check-In en un mes desde lugares con la categoria &quot;Karaoke Bar&quot;</td><td>0</td><td>NULL</td><td>NULL</td></tr>",
            "<tr><td>28</td><td>Melómano</td><td>Hacer Check-In en 5 lugares de la categoría &quot;Tienda de Musica</td><td>0</td><td>NULL</td><td>NULL</td></tr>",
            "<tr><td>29</td><td>Cinéfilo</td><td>Hacer 15 Check-In en cines</td><td>0</td><td>NULL</td><td>NULL</td></tr>",
            "<tr><td>30</td><td>Catador de Comida</td><td>Hacer Check-In en 10 diferentes restaurantes</td><td>0</td><td>NULL</td><td>NULL</td></tr>",
            "<tr><td>31</td><td>Trabajador</td><td>Hacer 200 Check-In en lugares de la categoría &quot;Oficinas</td><td>0</td><td>NULL</td><td>NULL</td></tr>",
            "<tr><td>32</td><td>Primeros Pasos</td><td>Te has registrado en Cuatro Cuadras. ¡Comienza a explorar con nosotros!</td><td>0</td><td>NULL</td><td>NULL</td></tr>",
            "<tr><td>33</td><td>Fotogenico</td><td>Check-In en 3 lugares distintos con fotocabina (photoboot)</td><td>0</td><td>NULL</td><td>NULL</td></tr>",
            "<tr><td>34</td><td>Navegante</td><td>Check-In en 3 lugares distinton con etiqueta &quot;canoa&quot;</td><td>0</td><td>NULL</td><td>NULL</td></tr>",
            "<tr><td>35</td><td>La Voz</td><td>3 Check-In en un mes desde lugares con la categoria &quot;Karaoke Bar&quot;</td><td>0</td><td>NULL</td><td>NULL</td></tr>",
            "<tr><td>36</td><td>Melómano</td><td>Hacer Check-In en 5 lugares de la categoría &quot;Tienda de Musica</td><td>0</td><td>NULL</td><td>NULL</td></tr>",
            "<tr><td>37</td><td>Cinéfilo</td><td>Hacer 15 Check-In en cines</td><td>0</td><td>NULL</td><td>NULL</td></tr>",
            "<tr><td>38</td><td>Catador de Comida</td><td>Hacer Check-In en 10 diferentes restaurantes</td><td>0</td><td>NULL</td><td>NULL</td></tr>",
            "<tr><td>39</td><td>Trabajador</td><td>Hacer 200 Check-In en lugares de la categoría &quot;Oficinas</td><td>0</td><td>NULL</td><td>NULL</td></tr>",
            "<tr><td>40</td><td>Primeros Pasos</td><td>Te has registrado en Cuatro Cuadras. ¡Comienza a explorar con nosotros!</td><td>0</td><td>NULL</td><td>NULL</td></tr>",
            "</table>"
        ]
    }
}
],
            "execution_count": 22
        },
        {
            "cell_type": "code",
            "source": [
                "SELECT * FROM USUARIO"
            ],
            "metadata": {
                "azdata_cell_guid": "0a2abbf0-ec9c-4ceb-914d-4c3494599d34"
            },
            "outputs": [
                {
                    "output_type": "display_data",
                    "data": {
                        "text/html": "(19 rows affected)"
                    },
                    "metadata": {}
                },
                {
                    "output_type": "display_data",
                    "data": {
                        "text/html": "Total execution time: 00:00:00.037"
                    },
                    "metadata": {}
                },
                {
                    "output_type": "execute_result",
                    "metadata": {},
                    "execution_count": 12,
                    "data": {
                        "application/vnd.dataresource+json": {
                            "schema": {
                                "fields": [
                                    {
                                        "name": "Nickname"
                                    },
                                    {
                                        "name": "Nombre"
                                    },
                                    {
                                        "name": "Apellidos"
                                    },
                                    {
                                        "name": "Sexo"
                                    },
                                    {
                                        "name": "Fecha_Nacimiento"
                                    },
                                    {
                                        "name": "Email"
                                    },
                                    {
                                        "name": "Contrasena"
                                    },
                                    {
                                        "name": "ID_Ciudad"
                                    }
                                ]
                            },
                            "data": [
                                {
                                    "0": "AdiosMundo",
                                    "1": "Benemerito",
                                    "2": "Lasdo asno",
                                    "3": "M",
                                    "4": "1997-11-25",
                                    "5": "AASSA@ge.com",
                                    "6": "HOLAHOLA",
                                    "7": "2"
                                },
                                {
                                    "0": "AlizV5",
                                    "1": "Alicia",
                                    "2": "Valenzuela Navarro",
                                    "3": "F",
                                    "4": "1977-12-16",
                                    "5": "alizzv12@outlook.com",
                                    "6": "navaliz91",
                                    "7": "6"
                                },
                                {
                                    "0": "AnaALV",
                                    "1": "Ana Maria",
                                    "2": "Alvarez Castelo",
                                    "3": "F",
                                    "4": "1992-05-23",
                                    "5": "MarianaALV@hotmail.com",
                                    "6": "MariAnaLV1582",
                                    "7": "6"
                                },
                                {
                                    "0": "Angel224",
                                    "1": "Angel",
                                    "2": "Torres Gomez",
                                    "3": "M",
                                    "4": "1994-09-23",
                                    "5": "AngelTG24@gmail.com",
                                    "6": "OsiContraseña",
                                    "7": "5"
                                },
                                {
                                    "0": "Coronavirus",
                                    "1": "Angel",
                                    "2": "Gomez Bravo",
                                    "3": "M",
                                    "4": "1978-07-05",
                                    "5": "CoronaPandamiaVirus@hotmail.com",
                                    "6": "AntiVacunas2020",
                                    "7": "6"
                                },
                                {
                                    "0": "CuentaFeik",
                                    "1": "Jose Luis",
                                    "2": "Sanchez Rodriguez",
                                    "3": "M",
                                    "4": "1988-01-03",
                                    "5": "CuentaFakeParaApps@outlook.com",
                                    "6": "NoSoyFeik123",
                                    "7": "3"
                                },
                                {
                                    "0": "Daniel",
                                    "1": "Lopez",
                                    "2": "Lasdo asno",
                                    "3": "M",
                                    "4": "1997-11-25",
                                    "5": "AASSA@ge.com",
                                    "6": "HOLAHOLA",
                                    "7": "2"
                                },
                                {
                                    "0": "Diana129",
                                    "1": "Diana",
                                    "2": "Aispuro Angulo",
                                    "3": "F",
                                    "4": "1992-12-09",
                                    "5": "DianaAisAng@hotmail.com",
                                    "6": "DianAisPAnG",
                                    "7": "2"
                                },
                                {
                                    "0": "Emilian99",
                                    "1": "Emiliano",
                                    "2": "Paez Lopez",
                                    "3": "M",
                                    "4": "1997-01-08",
                                    "5": "PaezLopEmiliano@outlook.com",
                                    "6": "LopezPaezEmil9912",
                                    "7": "2"
                                },
                                {
                                    "0": "GabiLuna",
                                    "1": "Gabriela",
                                    "2": "Luna Sanchez",
                                    "3": "F",
                                    "4": "1998-02-21",
                                    "5": "gabilusanxyz15@outlook.com",
                                    "6": "gabimoon15",
                                    "7": "1"
                                },
                                {
                                    "0": "JoseCarl",
                                    "1": "Jose Carlos",
                                    "2": "Ventura Gararte",
                                    "3": "M",
                                    "4": "1965-12-24",
                                    "5": "JoseCarlos123@hotmail.com",
                                    "6": "JoseCarlGararVen",
                                    "7": "1"
                                },
                                {
                                    "0": "Luiz",
                                    "1": "Luis",
                                    "2": "Lopez Lopez",
                                    "3": "M",
                                    "4": "1998-09-12",
                                    "5": "LuisLopezAlCuadrado@hotmail.com",
                                    "6": "LopezAlCuadrado",
                                    "7": "1"
                                },
                                {
                                    "0": "Mari",
                                    "1": "Maria Elena",
                                    "2": "Perez Sarrion",
                                    "3": "F",
                                    "4": "1982-12-14",
                                    "5": "MariElen@hotmail.com",
                                    "6": "12Mari34Elen56aa78",
                                    "7": "7"
                                },
                                {
                                    "0": "MenitaXD98",
                                    "1": "Ximena",
                                    "2": "Castro Yepez",
                                    "3": "F",
                                    "4": "1999-12-22",
                                    "5": "menaCY@hotmail.com",
                                    "6": "menittha98",
                                    "7": "5"
                                },
                                {
                                    "0": "MigueMF",
                                    "1": "Miguel",
                                    "2": "Mendoza Fernandez",
                                    "3": "M",
                                    "4": "1996-11-07",
                                    "5": "miguemf@gmail.com",
                                    "6": "migmenfer97",
                                    "7": "3"
                                },
                                {
                                    "0": "Panchogo94",
                                    "1": "Francisco",
                                    "2": "Moreno Lopez",
                                    "3": "M",
                                    "4": "1997-05-05",
                                    "5": "PanchoGpi45@live.com.mx",
                                    "6": "panchito99",
                                    "7": "1"
                                },
                                {
                                    "0": "RamLop99",
                                    "1": "Ramon",
                                    "2": "Lopez Perez",
                                    "3": "M",
                                    "4": "1971-08-09",
                                    "5": "ramonlopez99@yahoo.com.mx",
                                    "6": "rammaster99",
                                    "7": "7"
                                },
                                {
                                    "0": "SandCast",
                                    "1": "Sandra",
                                    "2": "Flores Castilla",
                                    "3": "F",
                                    "4": "1974-10-25",
                                    "5": "SandraCast@hotmail.com",
                                    "6": "Sandra1235",
                                    "7": "4"
                                },
                                {
                                    "0": "XxXGokuXxX",
                                    "1": "Juan",
                                    "2": "Perez Perez",
                                    "3": "M",
                                    "4": "1996-03-05",
                                    "5": "XxXGokuSSJXxX@hotmail.com",
                                    "6": "ContraseñaDeLaCIA",
                                    "7": "4"
                                }
                            ]
                        },
                        "text/html": [
                            "<table>",
                            "<tr><th>Nickname</th><th>Nombre</th><th>Apellidos</th><th>Sexo</th><th>Fecha_Nacimiento</th><th>Email</th><th>Contrasena</th><th>ID_Ciudad</th></tr>",
                            "<tr><td>AdiosMundo</td><td>Benemerito</td><td>Lasdo asno</td><td>M</td><td>1997-11-25</td><td>AASSA@ge.com</td><td>HOLAHOLA</td><td>2</td></tr>",
                            "<tr><td>AlizV5</td><td>Alicia</td><td>Valenzuela Navarro</td><td>F</td><td>1977-12-16</td><td>alizzv12@outlook.com</td><td>navaliz91</td><td>6</td></tr>",
                            "<tr><td>AnaALV</td><td>Ana Maria</td><td>Alvarez Castelo</td><td>F</td><td>1992-05-23</td><td>MarianaALV@hotmail.com</td><td>MariAnaLV1582</td><td>6</td></tr>",
                            "<tr><td>Angel224</td><td>Angel</td><td>Torres Gomez</td><td>M</td><td>1994-09-23</td><td>AngelTG24@gmail.com</td><td>OsiContraseña</td><td>5</td></tr>",
                            "<tr><td>Coronavirus</td><td>Angel</td><td>Gomez Bravo</td><td>M</td><td>1978-07-05</td><td>CoronaPandamiaVirus@hotmail.com</td><td>AntiVacunas2020</td><td>6</td></tr>",
                            "<tr><td>CuentaFeik</td><td>Jose Luis</td><td>Sanchez Rodriguez</td><td>M</td><td>1988-01-03</td><td>CuentaFakeParaApps@outlook.com</td><td>NoSoyFeik123</td><td>3</td></tr>",
                            "<tr><td>Daniel</td><td>Lopez</td><td>Lasdo asno</td><td>M</td><td>1997-11-25</td><td>AASSA@ge.com</td><td>HOLAHOLA</td><td>2</td></tr>",
                            "<tr><td>Diana129</td><td>Diana</td><td>Aispuro Angulo</td><td>F</td><td>1992-12-09</td><td>DianaAisAng@hotmail.com</td><td>DianAisPAnG</td><td>2</td></tr>",
                            "<tr><td>Emilian99</td><td>Emiliano</td><td>Paez Lopez</td><td>M</td><td>1997-01-08</td><td>PaezLopEmiliano@outlook.com</td><td>LopezPaezEmil9912</td><td>2</td></tr>",
                            "<tr><td>GabiLuna</td><td>Gabriela</td><td>Luna Sanchez</td><td>F</td><td>1998-02-21</td><td>gabilusanxyz15@outlook.com</td><td>gabimoon15</td><td>1</td></tr>",
                            "<tr><td>JoseCarl</td><td>Jose Carlos</td><td>Ventura Gararte</td><td>M</td><td>1965-12-24</td><td>JoseCarlos123@hotmail.com</td><td>JoseCarlGararVen</td><td>1</td></tr>",
                            "<tr><td>Luiz</td><td>Luis</td><td>Lopez Lopez</td><td>M</td><td>1998-09-12</td><td>LuisLopezAlCuadrado@hotmail.com</td><td>LopezAlCuadrado</td><td>1</td></tr>",
                            "<tr><td>Mari</td><td>Maria Elena</td><td>Perez Sarrion</td><td>F</td><td>1982-12-14</td><td>MariElen@hotmail.com</td><td>12Mari34Elen56aa78</td><td>7</td></tr>",
                            "<tr><td>MenitaXD98</td><td>Ximena</td><td>Castro Yepez</td><td>F</td><td>1999-12-22</td><td>menaCY@hotmail.com</td><td>menittha98</td><td>5</td></tr>",
                            "<tr><td>MigueMF</td><td>Miguel</td><td>Mendoza Fernandez</td><td>M</td><td>1996-11-07</td><td>miguemf@gmail.com</td><td>migmenfer97</td><td>3</td></tr>",
                            "<tr><td>Panchogo94</td><td>Francisco</td><td>Moreno Lopez</td><td>M</td><td>1997-05-05</td><td>PanchoGpi45@live.com.mx</td><td>panchito99</td><td>1</td></tr>",
                            "<tr><td>RamLop99</td><td>Ramon</td><td>Lopez Perez</td><td>M</td><td>1971-08-09</td><td>ramonlopez99@yahoo.com.mx</td><td>rammaster99</td><td>7</td></tr>",
                            "<tr><td>SandCast</td><td>Sandra</td><td>Flores Castilla</td><td>F</td><td>1974-10-25</td><td>SandraCast@hotmail.com</td><td>Sandra1235</td><td>4</td></tr>",
                            "<tr><td>XxXGokuXxX</td><td>Juan</td><td>Perez Perez</td><td>M</td><td>1996-03-05</td><td>XxXGokuSSJXxX@hotmail.com</td><td>ContraseñaDeLaCIA</td><td>4</td></tr>",
                            "</table>"
                        ]
                    }
                }
            ],
            "execution_count": 12
        },
        {
            "cell_type": "markdown",
            "source": [
                "\r\n",
                "===========================================================================================\r\n",
                "--- Descripción: Busca al usuario por Nickname\r\n",
                "-- ===========================================================================================\r\n",
                "\r\n",
                ""
            ],
            "metadata": {
                "azdata_cell_guid": "15177aef-316e-4fa6-a1d2-d7f71b0966d2"
            }
        },
        {
            "cell_type": "code",
            "source": [
                "create proc buscarUsuario\r\n",
                "@userName VARCHAR(35)\r\n",
                "as\r\n",
                "select * from USUARIO\r\n",
                "where Nickname = @userName\r\n",
                "go\r\n",
                "--Probando el procedimiento almacenado--\r\n",
                "exec buscarUsuario 'AdiosMundo'"
            ],
            "metadata": {
                "azdata_cell_guid": "c68fe81d-6aa2-4784-86c1-e8f3d5ff6fac"
            },
            "outputs": [
                {
                    "output_type": "display_data",
                    "data": {
                        "text/html": "Commands completed successfully."
                    },
                    "metadata": {}
                },
                {
                    "output_type": "display_data",
                    "data": {
                        "text/html": "(1 row affected)"
                    },
                    "metadata": {}
                },
                {
                    "output_type": "display_data",
                    "data": {
                        "text/html": "Total execution time: 00:00:00.024"
                    },
                    "metadata": {}
                },
                {
                    "output_type": "execute_result",
                    "metadata": {},
                    "execution_count": 9,
                    "data": {
                        "application/vnd.dataresource+json": {
                            "schema": {
                                "fields": [
                                    {
                                        "name": "Nickname"
                                    },
                                    {
                                        "name": "Nombre"
                                    },
                                    {
                                        "name": "Apellidos"
                                    },
                                    {
                                        "name": "Sexo"
                                    },
                                    {
                                        "name": "Fecha_Nacimiento"
                                    },
                                    {
                                        "name": "Email"
                                    },
                                    {
                                        "name": "Contrasena"
                                    },
                                    {
                                        "name": "ID_Ciudad"
                                    }
                                ]
                            },
                            "data": [
                                {
                                    "0": "AdiosMundo",
                                    "1": "Benemerito",
                                    "2": "Lasdo asno",
                                    "3": "M",
                                    "4": "1997-11-25",
                                    "5": "AASSA@ge.com",
                                    "6": "HOLAHOLA",
                                    "7": "2"
                                }
                            ]
                        },
                        "text/html": [
                            "<table>",
                            "<tr><th>Nickname</th><th>Nombre</th><th>Apellidos</th><th>Sexo</th><th>Fecha_Nacimiento</th><th>Email</th><th>Contrasena</th><th>ID_Ciudad</th></tr>",
                            "<tr><td>AdiosMundo</td><td>Benemerito</td><td>Lasdo asno</td><td>M</td><td>1997-11-25</td><td>AASSA@ge.com</td><td>HOLAHOLA</td><td>2</td></tr>",
                            "</table>"
                        ]
                    }
                }
            ],
            "execution_count": 9
        },
        {
            "cell_type": "code",
            "source": [
                "CREATE PROC verificaCorreo_Usuario(\r\n",
                "@cadena VARCHAR (35)\r\n",
                ")\r\n",
                "as\r\n",
                "BEGIN TRY\r\n",
                "    BEGIN TRAN\r\n",
                "    SELECT * FROM USUARIO WHERE @cadena=Nickname OR @cadena=Email\r\n",
                "    COMMIT TRAN\r\n",
                " END TRY\r\n",
                "    \r\n",
                "BEGIN CATCH\r\n",
                "     IF @@TRANCOUNT>0\r\n",
                "     ROLLBACK TRANSACTION\r\n",
                " END CATCH\r\n",
                ""
            ],
            "metadata": {
                "azdata_cell_guid": "5b49ee8c-7f7b-4a8b-ba8b-8baa06df56ec"
            },
            "outputs": [],
            "execution_count": null
        }
    ]
}