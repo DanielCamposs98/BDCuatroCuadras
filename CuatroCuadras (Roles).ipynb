{
    "metadata": {
        "kernelspec": {
            "name": "SQL",
            "display_name": "SQL",
            "language": "sql"
        },
        "language_info": {
            "name": "sql",
            "version": ""
        }
    },
    "nbformat_minor": 2,
    "nbformat": 4,
    "cells": [
        {
            "cell_type": "markdown",
            "source": [
                "# Cuatro Cuadras #\r\n",
                "## ROLES ##"
            ],
            "metadata": {
                "azdata_cell_guid": "495784ab-f922-4253-9e25-00a13ae41c79"
            }
        },
        {
            "cell_type": "code",
            "source": [
                "USE CuatroCuadras"
            ],
            "metadata": {
                "azdata_cell_guid": "dadd3a96-d380-4c37-b0ed-d845043e9ba7"
            },
            "outputs": [
                {
                    "output_type": "display_data",
                    "data": {
                        "text/html": "Commands completed successfully."
                    },
                    "metadata": {}
                },
                {
                    "output_type": "display_data",
                    "data": {
                        "text/html": "Total execution time: 00:00:00.315"
                    },
                    "metadata": {}
                }
            ],
            "execution_count": 1
        },
        {
            "cell_type": "code",
            "source": [
                "CREATE ROLE Administrador\r\n",
                "\r\n",
                "CREATE ROLE Usuario"
            ],
            "metadata": {
                "azdata_cell_guid": "fcac3fb8-77c7-4788-b11b-b92b816e5ecb"
            },
            "outputs": [
                {
                    "output_type": "display_data",
                    "data": {
                        "text/html": "Commands completed successfully."
                    },
                    "metadata": {}
                },
                {
                    "output_type": "display_data",
                    "data": {
                        "text/html": "Total execution time: 00:00:02.120"
                    },
                    "metadata": {}
                }
            ],
            "execution_count": 2
        },
        {
            "cell_type": "markdown",
            "source": [
                "## USUARIOS Y LOGIN ##"
            ],
            "metadata": {
                "azdata_cell_guid": "cb225283-5f0d-4a90-a2f3-6af94755def8"
            }
        },
        {
            "cell_type": "code",
            "source": [
                "CREATE LOGIN Admin1 WITH PASSWORD = 'A123'\r\n",
                "GO\r\n",
                "\r\n",
                "CREATE LOGIN User1 WITH PASSWORD = 'U123'\r\n",
                "GO"
            ],
            "metadata": {
                "azdata_cell_guid": "60541803-8349-40d5-9f0d-0194012d632c"
            },
            "outputs": [
                {
                    "output_type": "display_data",
                    "data": {
                        "text/html": "Commands completed successfully."
                    },
                    "metadata": {}
                },
                {
                    "output_type": "display_data",
                    "data": {
                        "text/html": "Commands completed successfully."
                    },
                    "metadata": {}
                },
                {
                    "output_type": "display_data",
                    "data": {
                        "text/html": "Total execution time: 00:00:00.272"
                    },
                    "metadata": {}
                }
            ],
            "execution_count": 3
        },
        {
            "cell_type": "code",
            "source": [
                "CREATE USER Administrador1 FOR LOGIN Admin1\n",
                "GO\n",
                "\n",
                "CREATE USER Usuario1 FOR LOGIN User1\n",
                "GO"
            ],
            "metadata": {
                "azdata_cell_guid": "488772d3-c0a0-4c75-b67f-81ef8ceb0707"
            },
            "outputs": [
                {
                    "output_type": "display_data",
                    "data": {
                        "text/html": "Commands completed successfully."
                    },
                    "metadata": {}
                },
                {
                    "output_type": "display_data",
                    "data": {
                        "text/html": "Commands completed successfully."
                    },
                    "metadata": {}
                },
                {
                    "output_type": "display_data",
                    "data": {
                        "text/html": "Total execution time: 00:00:00.684"
                    },
                    "metadata": {}
                }
            ],
            "execution_count": 4
        },
        {
            "cell_type": "code",
            "source": [
                "ALTER ROLE Administrador ADD MEMBER Administrador1\r\n",
                "GO\r\n",
                "\r\n",
                "ALTER ROLE Usuario ADD MEMBER Usuario1\r\n",
                "GO"
            ],
            "metadata": {
                "azdata_cell_guid": "882942ba-0211-426c-ab80-8076074e414d"
            },
            "outputs": [
                {
                    "output_type": "display_data",
                    "data": {
                        "text/html": "Commands completed successfully."
                    },
                    "metadata": {}
                },
                {
                    "output_type": "display_data",
                    "data": {
                        "text/html": "Commands completed successfully."
                    },
                    "metadata": {}
                },
                {
                    "output_type": "display_data",
                    "data": {
                        "text/html": "Total execution time: 00:00:00.503"
                    },
                    "metadata": {}
                }
            ],
            "execution_count": 5
        },
        {
            "cell_type": "markdown",
            "source": [
                "## AREAS ##"
            ],
            "metadata": {
                "azdata_cell_guid": "70eb2931-3048-4c60-9999-0d2f57520a90"
            }
        },
        {
            "cell_type": "code",
            "source": [
                ""
            ],
            "metadata": {
                "azdata_cell_guid": "622c19ee-5cb2-4adb-867d-917227eed628"
            },
            "outputs": [
                {
                    "output_type": "display_data",
                    "data": {
                        "text/html": "Commands completed successfully."
                    },
                    "metadata": {}
                },
                {
                    "output_type": "display_data",
                    "data": {
                        "text/html": "Total execution time: 00:00:00"
                    },
                    "metadata": {}
                }
            ],
            "execution_count": 6
        },
        {
            "cell_type": "markdown",
            "source": [
                "## PERMISOS ##"
            ],
            "metadata": {
                "azdata_cell_guid": "e7019ccf-193c-4434-973b-5c4a3f32d8b0"
            }
        },
        {
            "cell_type": "code",
            "source": [
                ""
            ],
            "metadata": {
                "azdata_cell_guid": "d1cf629c-f19f-4692-a1be-c8a90be3eeda"
            },
            "outputs": [
                {
                    "output_type": "display_data",
                    "data": {
                        "text/html": "Commands completed successfully."
                    },
                    "metadata": {}
                },
                {
                    "output_type": "display_data",
                    "data": {
                        "text/html": "Total execution time: 00:00:00"
                    },
                    "metadata": {}
                }
            ],
            "execution_count": 7
        }
    ]
}