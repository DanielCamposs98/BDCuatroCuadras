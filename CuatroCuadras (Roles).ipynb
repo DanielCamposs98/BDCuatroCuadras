{
    "metadata": {
        "kernelspec": {
            "name": "SQL",
            "display_name": "SQL",
            "language": "sql"
        },
        "language_info": {
            "name": "sql",
            "version": ""
        }
    },
    "nbformat_minor": 2,
    "nbformat": 4,
    "cells": [
        {
            "cell_type": "markdown",
            "source": [
                "# Cuatro Cuadras #\r\n",
                "## ROLES ##"
            ],
            "metadata": {
                "azdata_cell_guid": "495784ab-f922-4253-9e25-00a13ae41c79"
            }
        },
        {
            "cell_type": "code",
            "source": [
                "USE CuatroCuadras"
            ],
            "metadata": {
                "azdata_cell_guid": "dadd3a96-d380-4c37-b0ed-d845043e9ba7"
            },
            "outputs": [
                {
                    "output_type": "display_data",
                    "data": {
                        "text/html": "Commands completed successfully."
                    },
                    "metadata": {}
                },
                {
                    "output_type": "display_data",
                    "data": {
                        "text/html": "Total execution time: 00:00:00.009"
                    },
                    "metadata": {}
                }
            ],
            "execution_count": 1
        },
        {
            "cell_type": "code",
            "source": [
                "CREATE ROLE Administrador\r\n",
                "\r\n",
                "CREATE ROLE Usuario"
            ],
            "metadata": {
                "azdata_cell_guid": "fcac3fb8-77c7-4788-b11b-b92b816e5ecb"
            },
            "outputs": [
                {
                    "output_type": "display_data",
                    "data": {
                        "text/html": "Commands completed successfully."
                    },
                    "metadata": {}
                },
                {
                    "output_type": "display_data",
                    "data": {
                        "text/html": "Total execution time: 00:00:00.020"
                    },
                    "metadata": {}
                }
            ],
            "execution_count": 2
        },
        {
            "cell_type": "markdown",
            "source": [
                "## AREAS ##"
            ],
            "metadata": {
                "azdata_cell_guid": "70eb2931-3048-4c60-9999-0d2f57520a90"
            }
        },
        {
            "cell_type": "code",
            "source": [
                ""
            ],
            "metadata": {
                "azdata_cell_guid": "622c19ee-5cb2-4adb-867d-917227eed628"
            },
            "outputs": [],
            "execution_count": null
        },
        {
            "cell_type": "markdown",
            "source": [
                "## PERMISOS ##"
            ],
            "metadata": {
                "azdata_cell_guid": "e7019ccf-193c-4434-973b-5c4a3f32d8b0"
            }
        },
        {
            "cell_type": "code",
            "source": [
                ""
            ],
            "metadata": {
                "azdata_cell_guid": "d1cf629c-f19f-4692-a1be-c8a90be3eeda"
            },
            "outputs": [],
            "execution_count": null
        },
        {
            "cell_type": "markdown",
            "source": [
                "## USUARIOS Y LOGIN ##"
            ],
            "metadata": {
                "azdata_cell_guid": "8f55d506-6020-47e2-bf10-ad043285c327"
            }
        },
        {
            "cell_type": "code",
            "source": [
                ""
            ],
            "metadata": {
                "azdata_cell_guid": "c85d14f6-2b98-4811-82fb-4dd5ac46af8b"
            },
            "outputs": [],
            "execution_count": null
        }
    ]
}